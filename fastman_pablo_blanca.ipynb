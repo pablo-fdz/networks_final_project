{
 "cells": [
  {
   "cell_type": "markdown",
   "metadata": {},
   "source": [
    "Implementation of the FaSTM $\\forall$ N algorithm, from the initial transaction data up to the community detection. It is implemented in a less efficient and scalable way than the code of the authors, but it is probably more transparent and understandable.\n",
    "\n",
    "Repo of the paper: https://github.com/mhaseebtariq/fastman/tree/main"
   ]
  },
  {
   "cell_type": "markdown",
   "metadata": {},
   "source": [
    "# Libraries and paths"
   ]
  },
  {
   "cell_type": "code",
   "execution_count": 1,
   "metadata": {},
   "outputs": [],
   "source": [
    "import os\n",
    "import igraph as ig\n",
    "import polars as pl\n",
    "from datetime import datetime, timedelta\n",
    "import matplotlib.pyplot as plt"
   ]
  },
  {
   "cell_type": "markdown",
   "metadata": {},
   "source": [
    "Useful `polars` references:\n",
    "- Python API reference: https://docs.pola.rs/api/python/stable/reference/index.html\n",
    "- Getting started guide: https://docs.pola.rs/user-guide/getting-started/\n",
    "- Key differences with `pandas`: https://docs.pola.rs/user-guide/migration/pandas/"
   ]
  },
  {
   "cell_type": "code",
   "execution_count": 2,
   "metadata": {},
   "outputs": [],
   "source": [
    "# General location for the data\n",
    "data_location = os.path.join(\"..\", \"data\")\n",
    "\n",
    "# Set location where we will save the partitions\n",
    "partitions_location = os.path.join(data_location, 'partition')\n",
    "\n",
    "# Create a location where we will save the joins\n",
    "joins_location = os.path.join(data_location, \"joins\")\n",
    "\n",
    "# Location of the nodes and the edges\n",
    "nodes_location = os.path.join(data_location, \"nodes\")\n",
    "edges_location = os.path.join(data_location, \"edges\")\n",
    "\n",
    "co_occurrences_location = os.path.join(data_location, \"co_ocurrences\")\n",
    "second_order_location = os.path.join(data_location, 'second_order')"
   ]
  },
  {
   "cell_type": "markdown",
   "metadata": {},
   "source": [
    "# 0. Importing and preprocessing the transaction data"
   ]
  },
  {
   "cell_type": "markdown",
   "metadata": {},
   "source": [
    "## Import"
   ]
  },
  {
   "cell_type": "code",
   "execution_count": 36,
   "metadata": {},
   "outputs": [],
   "source": [
    "df = pl.read_parquet(os.path.join(data_location, 'HI-Small_Trans.parquet'))"
   ]
  },
  {
   "cell_type": "code",
   "execution_count": 4,
   "metadata": {},
   "outputs": [
    {
     "data": {
      "text/html": [
       "<div><style>\n",
       ".dataframe > thead > tr,\n",
       ".dataframe > tbody > tr {\n",
       "  text-align: right;\n",
       "  white-space: pre-wrap;\n",
       "}\n",
       "</style>\n",
       "<small>shape: (5, 11)</small><table border=\"1\" class=\"dataframe\"><thead><tr><th>Timestamp</th><th>From Bank</th><th>Account</th><th>To Bank</th><th>Account.1</th><th>Amount Received</th><th>Receiving Currency</th><th>Amount Paid</th><th>Payment Currency</th><th>Payment Format</th><th>Is Laundering</th></tr><tr><td>str</td><td>i64</td><td>str</td><td>i64</td><td>str</td><td>f64</td><td>str</td><td>f64</td><td>str</td><td>str</td><td>i64</td></tr></thead><tbody><tr><td>&quot;2022/09/01 00:20&quot;</td><td>10</td><td>&quot;8000EBD30&quot;</td><td>10</td><td>&quot;8000EBD30&quot;</td><td>3697.34</td><td>&quot;US Dollar&quot;</td><td>3697.34</td><td>&quot;US Dollar&quot;</td><td>&quot;Reinvestment&quot;</td><td>0</td></tr><tr><td>&quot;2022/09/01 00:20&quot;</td><td>3208</td><td>&quot;8000F4580&quot;</td><td>1</td><td>&quot;8000F5340&quot;</td><td>0.01</td><td>&quot;US Dollar&quot;</td><td>0.01</td><td>&quot;US Dollar&quot;</td><td>&quot;Cheque&quot;</td><td>0</td></tr><tr><td>&quot;2022/09/01 00:00&quot;</td><td>3209</td><td>&quot;8000F4670&quot;</td><td>3209</td><td>&quot;8000F4670&quot;</td><td>14675.57</td><td>&quot;US Dollar&quot;</td><td>14675.57</td><td>&quot;US Dollar&quot;</td><td>&quot;Reinvestment&quot;</td><td>0</td></tr><tr><td>&quot;2022/09/01 00:02&quot;</td><td>12</td><td>&quot;8000F5030&quot;</td><td>12</td><td>&quot;8000F5030&quot;</td><td>2806.97</td><td>&quot;US Dollar&quot;</td><td>2806.97</td><td>&quot;US Dollar&quot;</td><td>&quot;Reinvestment&quot;</td><td>0</td></tr><tr><td>&quot;2022/09/01 00:06&quot;</td><td>10</td><td>&quot;8000F5200&quot;</td><td>10</td><td>&quot;8000F5200&quot;</td><td>36682.97</td><td>&quot;US Dollar&quot;</td><td>36682.97</td><td>&quot;US Dollar&quot;</td><td>&quot;Reinvestment&quot;</td><td>0</td></tr></tbody></table></div>"
      ],
      "text/plain": [
       "shape: (5, 11)\n",
       "┌────────────┬───────────┬───────────┬─────────┬───┬───────────┬───────────┬───────────┬───────────┐\n",
       "│ Timestamp  ┆ From Bank ┆ Account   ┆ To Bank ┆ … ┆ Amount    ┆ Payment   ┆ Payment   ┆ Is Launde │\n",
       "│ ---        ┆ ---       ┆ ---       ┆ ---     ┆   ┆ Paid      ┆ Currency  ┆ Format    ┆ ring      │\n",
       "│ str        ┆ i64       ┆ str       ┆ i64     ┆   ┆ ---       ┆ ---       ┆ ---       ┆ ---       │\n",
       "│            ┆           ┆           ┆         ┆   ┆ f64       ┆ str       ┆ str       ┆ i64       │\n",
       "╞════════════╪═══════════╪═══════════╪═════════╪═══╪═══════════╪═══════════╪═══════════╪═══════════╡\n",
       "│ 2022/09/01 ┆ 10        ┆ 8000EBD30 ┆ 10      ┆ … ┆ 3697.34   ┆ US Dollar ┆ Reinvestm ┆ 0         │\n",
       "│ 00:20      ┆           ┆           ┆         ┆   ┆           ┆           ┆ ent       ┆           │\n",
       "│ 2022/09/01 ┆ 3208      ┆ 8000F4580 ┆ 1       ┆ … ┆ 0.01      ┆ US Dollar ┆ Cheque    ┆ 0         │\n",
       "│ 00:20      ┆           ┆           ┆         ┆   ┆           ┆           ┆           ┆           │\n",
       "│ 2022/09/01 ┆ 3209      ┆ 8000F4670 ┆ 3209    ┆ … ┆ 14675.57  ┆ US Dollar ┆ Reinvestm ┆ 0         │\n",
       "│ 00:00      ┆           ┆           ┆         ┆   ┆           ┆           ┆ ent       ┆           │\n",
       "│ 2022/09/01 ┆ 12        ┆ 8000F5030 ┆ 12      ┆ … ┆ 2806.97   ┆ US Dollar ┆ Reinvestm ┆ 0         │\n",
       "│ 00:02      ┆           ┆           ┆         ┆   ┆           ┆           ┆ ent       ┆           │\n",
       "│ 2022/09/01 ┆ 10        ┆ 8000F5200 ┆ 10      ┆ … ┆ 36682.97  ┆ US Dollar ┆ Reinvestm ┆ 0         │\n",
       "│ 00:06      ┆           ┆           ┆         ┆   ┆           ┆           ┆ ent       ┆           │\n",
       "└────────────┴───────────┴───────────┴─────────┴───┴───────────┴───────────┴───────────┴───────────┘"
      ]
     },
     "execution_count": 4,
     "metadata": {},
     "output_type": "execute_result"
    }
   ],
   "source": [
    "df.head()"
   ]
  },
  {
   "cell_type": "markdown",
   "metadata": {},
   "source": [
    "## Preprocessing"
   ]
  },
  {
   "cell_type": "code",
   "execution_count": 37,
   "metadata": {},
   "outputs": [],
   "source": [
    "# Rename columns for clarity\n",
    "names = {'id': 'id',\n",
    "         'Timestamp': 'date',\n",
    "         'From Bank': 'source_bank',\n",
    "         'Account': 'source_account',\n",
    "         'To Bank': 'destination_bank',\n",
    "         'Account.1': 'destination_account',\n",
    "         'Amount Received': 'amount_received',\n",
    "         'Receiving Currency': 'currency_received',\n",
    "         'Amount Paid': 'amount_sent',\n",
    "         'Payment Currency': 'currency_sent',\n",
    "         'Payment Format': 'payment_method',\n",
    "         'Is Laundering': 'is_laundering'}\n",
    "\n",
    "df = df.rename(names)"
   ]
  },
  {
   "cell_type": "markdown",
   "metadata": {},
   "source": [
    "Note that polars' unit of time when converting a datetime column into the time passed since the 1st of January 1970 is microseconds: https://docs.pola.rs/api/python/stable/reference/api/polars.datatypes.Datetime.html"
   ]
  },
  {
   "cell_type": "code",
   "execution_count": 38,
   "metadata": {},
   "outputs": [
    {
     "data": {
      "text/html": [
       "<div><style>\n",
       ".dataframe > thead > tr,\n",
       ".dataframe > tbody > tr {\n",
       "  text-align: right;\n",
       "  white-space: pre-wrap;\n",
       "}\n",
       "</style>\n",
       "<small>shape: (5, 12)</small><table border=\"1\" class=\"dataframe\"><thead><tr><th>date</th><th>source_bank</th><th>source_account</th><th>destination_bank</th><th>destination_account</th><th>amount_received</th><th>currency_received</th><th>amount_sent</th><th>currency_sent</th><th>payment_method</th><th>is_laundering</th><th>timestamp</th></tr><tr><td>date</td><td>i64</td><td>str</td><td>i64</td><td>str</td><td>f64</td><td>str</td><td>f64</td><td>str</td><td>str</td><td>i64</td><td>i64</td></tr></thead><tbody><tr><td>2022-09-01</td><td>10</td><td>&quot;8000EBD30&quot;</td><td>10</td><td>&quot;8000EBD30&quot;</td><td>3697.34</td><td>&quot;US Dollar&quot;</td><td>3697.34</td><td>&quot;US Dollar&quot;</td><td>&quot;Reinvestment&quot;</td><td>0</td><td>1661991600</td></tr><tr><td>2022-09-01</td><td>3208</td><td>&quot;8000F4580&quot;</td><td>1</td><td>&quot;8000F5340&quot;</td><td>0.01</td><td>&quot;US Dollar&quot;</td><td>0.01</td><td>&quot;US Dollar&quot;</td><td>&quot;Cheque&quot;</td><td>0</td><td>1661991600</td></tr><tr><td>2022-09-01</td><td>3209</td><td>&quot;8000F4670&quot;</td><td>3209</td><td>&quot;8000F4670&quot;</td><td>14675.57</td><td>&quot;US Dollar&quot;</td><td>14675.57</td><td>&quot;US Dollar&quot;</td><td>&quot;Reinvestment&quot;</td><td>0</td><td>1661990400</td></tr><tr><td>2022-09-01</td><td>12</td><td>&quot;8000F5030&quot;</td><td>12</td><td>&quot;8000F5030&quot;</td><td>2806.97</td><td>&quot;US Dollar&quot;</td><td>2806.97</td><td>&quot;US Dollar&quot;</td><td>&quot;Reinvestment&quot;</td><td>0</td><td>1661990520</td></tr><tr><td>2022-09-01</td><td>10</td><td>&quot;8000F5200&quot;</td><td>10</td><td>&quot;8000F5200&quot;</td><td>36682.97</td><td>&quot;US Dollar&quot;</td><td>36682.97</td><td>&quot;US Dollar&quot;</td><td>&quot;Reinvestment&quot;</td><td>0</td><td>1661990760</td></tr></tbody></table></div>"
      ],
      "text/plain": [
       "shape: (5, 12)\n",
       "┌───────────┬───────────┬───────────┬───────────┬───┬───────────┬───────────┬───────────┬──────────┐\n",
       "│ date      ┆ source_ba ┆ source_ac ┆ destinati ┆ … ┆ currency_ ┆ payment_m ┆ is_launde ┆ timestam │\n",
       "│ ---       ┆ nk        ┆ count     ┆ on_bank   ┆   ┆ sent      ┆ ethod     ┆ ring      ┆ p        │\n",
       "│ date      ┆ ---       ┆ ---       ┆ ---       ┆   ┆ ---       ┆ ---       ┆ ---       ┆ ---      │\n",
       "│           ┆ i64       ┆ str       ┆ i64       ┆   ┆ str       ┆ str       ┆ i64       ┆ i64      │\n",
       "╞═══════════╪═══════════╪═══════════╪═══════════╪═══╪═══════════╪═══════════╪═══════════╪══════════╡\n",
       "│ 2022-09-0 ┆ 10        ┆ 8000EBD30 ┆ 10        ┆ … ┆ US Dollar ┆ Reinvestm ┆ 0         ┆ 16619916 │\n",
       "│ 1         ┆           ┆           ┆           ┆   ┆           ┆ ent       ┆           ┆ 00       │\n",
       "│ 2022-09-0 ┆ 3208      ┆ 8000F4580 ┆ 1         ┆ … ┆ US Dollar ┆ Cheque    ┆ 0         ┆ 16619916 │\n",
       "│ 1         ┆           ┆           ┆           ┆   ┆           ┆           ┆           ┆ 00       │\n",
       "│ 2022-09-0 ┆ 3209      ┆ 8000F4670 ┆ 3209      ┆ … ┆ US Dollar ┆ Reinvestm ┆ 0         ┆ 16619904 │\n",
       "│ 1         ┆           ┆           ┆           ┆   ┆           ┆ ent       ┆           ┆ 00       │\n",
       "│ 2022-09-0 ┆ 12        ┆ 8000F5030 ┆ 12        ┆ … ┆ US Dollar ┆ Reinvestm ┆ 0         ┆ 16619905 │\n",
       "│ 1         ┆           ┆           ┆           ┆   ┆           ┆ ent       ┆           ┆ 20       │\n",
       "│ 2022-09-0 ┆ 10        ┆ 8000F5200 ┆ 10        ┆ … ┆ US Dollar ┆ Reinvestm ┆ 0         ┆ 16619907 │\n",
       "│ 1         ┆           ┆           ┆           ┆   ┆           ┆ ent       ┆           ┆ 60       │\n",
       "└───────────┴───────────┴───────────┴───────────┴───┴───────────┴───────────┴───────────┴──────────┘"
      ]
     },
     "execution_count": 38,
     "metadata": {},
     "output_type": "execute_result"
    }
   ],
   "source": [
    "def timestamp_date(df):\n",
    "    \"\"\"Transforms date into datetime format + makes a timestamp column (Unix timestamp)\"\"\"\n",
    "    df = df.with_columns(\n",
    "        pl.col(\"date\")\n",
    "        .str.strptime(pl.Datetime, \"%Y/%m/%d %H:%M\")  # Convert string to Datetime\n",
    "        .dt.timestamp()  # Convert Datetime to Unix timestamp\n",
    "        .alias(\"timestamp\"))\n",
    "    \n",
    "    df = df.with_columns((pl.col(\"timestamp\") // 10**6).alias('timestamp'))\n",
    "  \n",
    "    df = df.with_columns(\n",
    "        pl.col(\"date\")\n",
    "        .str.strptime(pl.Datetime, \"%Y/%m/%d %H:%M\")\n",
    "        .dt.date())\n",
    "    return df\n",
    "\n",
    "df = timestamp_date(df)\n",
    "\n",
    "df.head()"
   ]
  },
  {
   "cell_type": "markdown",
   "metadata": {},
   "source": [
    "In this graph, each row is a transaction. Note, however, that there is one requirement of the data that must be created for running the FaSTM $\\forall$ N algorithm_ a unique identifier for a transaction. We can create this unique identifier just from the current index."
   ]
  },
  {
   "cell_type": "code",
   "execution_count": 39,
   "metadata": {},
   "outputs": [
    {
     "data": {
      "text/html": [
       "<div><style>\n",
       ".dataframe > thead > tr,\n",
       ".dataframe > tbody > tr {\n",
       "  text-align: right;\n",
       "  white-space: pre-wrap;\n",
       "}\n",
       "</style>\n",
       "<small>shape: (5, 13)</small><table border=\"1\" class=\"dataframe\"><thead><tr><th>id</th><th>date</th><th>source_bank</th><th>source_account</th><th>destination_bank</th><th>destination_account</th><th>amount_received</th><th>currency_received</th><th>amount_sent</th><th>currency_sent</th><th>payment_method</th><th>is_laundering</th><th>timestamp</th></tr><tr><td>u32</td><td>date</td><td>i64</td><td>str</td><td>i64</td><td>str</td><td>f64</td><td>str</td><td>f64</td><td>str</td><td>str</td><td>i64</td><td>i64</td></tr></thead><tbody><tr><td>1</td><td>2022-09-01</td><td>10</td><td>&quot;8000EBD30&quot;</td><td>10</td><td>&quot;8000EBD30&quot;</td><td>3697.34</td><td>&quot;US Dollar&quot;</td><td>3697.34</td><td>&quot;US Dollar&quot;</td><td>&quot;Reinvestment&quot;</td><td>0</td><td>1661991600</td></tr><tr><td>2</td><td>2022-09-01</td><td>3208</td><td>&quot;8000F4580&quot;</td><td>1</td><td>&quot;8000F5340&quot;</td><td>0.01</td><td>&quot;US Dollar&quot;</td><td>0.01</td><td>&quot;US Dollar&quot;</td><td>&quot;Cheque&quot;</td><td>0</td><td>1661991600</td></tr><tr><td>3</td><td>2022-09-01</td><td>3209</td><td>&quot;8000F4670&quot;</td><td>3209</td><td>&quot;8000F4670&quot;</td><td>14675.57</td><td>&quot;US Dollar&quot;</td><td>14675.57</td><td>&quot;US Dollar&quot;</td><td>&quot;Reinvestment&quot;</td><td>0</td><td>1661990400</td></tr><tr><td>4</td><td>2022-09-01</td><td>12</td><td>&quot;8000F5030&quot;</td><td>12</td><td>&quot;8000F5030&quot;</td><td>2806.97</td><td>&quot;US Dollar&quot;</td><td>2806.97</td><td>&quot;US Dollar&quot;</td><td>&quot;Reinvestment&quot;</td><td>0</td><td>1661990520</td></tr><tr><td>5</td><td>2022-09-01</td><td>10</td><td>&quot;8000F5200&quot;</td><td>10</td><td>&quot;8000F5200&quot;</td><td>36682.97</td><td>&quot;US Dollar&quot;</td><td>36682.97</td><td>&quot;US Dollar&quot;</td><td>&quot;Reinvestment&quot;</td><td>0</td><td>1661990760</td></tr></tbody></table></div>"
      ],
      "text/plain": [
       "shape: (5, 13)\n",
       "┌─────┬────────────┬────────────┬────────────┬───┬────────────┬────────────┬───────────┬───────────┐\n",
       "│ id  ┆ date       ┆ source_ban ┆ source_acc ┆ … ┆ currency_s ┆ payment_me ┆ is_launde ┆ timestamp │\n",
       "│ --- ┆ ---        ┆ k          ┆ ount       ┆   ┆ ent        ┆ thod       ┆ ring      ┆ ---       │\n",
       "│ u32 ┆ date       ┆ ---        ┆ ---        ┆   ┆ ---        ┆ ---        ┆ ---       ┆ i64       │\n",
       "│     ┆            ┆ i64        ┆ str        ┆   ┆ str        ┆ str        ┆ i64       ┆           │\n",
       "╞═════╪════════════╪════════════╪════════════╪═══╪════════════╪════════════╪═══════════╪═══════════╡\n",
       "│ 1   ┆ 2022-09-01 ┆ 10         ┆ 8000EBD30  ┆ … ┆ US Dollar  ┆ Reinvestme ┆ 0         ┆ 166199160 │\n",
       "│     ┆            ┆            ┆            ┆   ┆            ┆ nt         ┆           ┆ 0         │\n",
       "│ 2   ┆ 2022-09-01 ┆ 3208       ┆ 8000F4580  ┆ … ┆ US Dollar  ┆ Cheque     ┆ 0         ┆ 166199160 │\n",
       "│     ┆            ┆            ┆            ┆   ┆            ┆            ┆           ┆ 0         │\n",
       "│ 3   ┆ 2022-09-01 ┆ 3209       ┆ 8000F4670  ┆ … ┆ US Dollar  ┆ Reinvestme ┆ 0         ┆ 166199040 │\n",
       "│     ┆            ┆            ┆            ┆   ┆            ┆ nt         ┆           ┆ 0         │\n",
       "│ 4   ┆ 2022-09-01 ┆ 12         ┆ 8000F5030  ┆ … ┆ US Dollar  ┆ Reinvestme ┆ 0         ┆ 166199052 │\n",
       "│     ┆            ┆            ┆            ┆   ┆            ┆ nt         ┆           ┆ 0         │\n",
       "│ 5   ┆ 2022-09-01 ┆ 10         ┆ 8000F5200  ┆ … ┆ US Dollar  ┆ Reinvestme ┆ 0         ┆ 166199076 │\n",
       "│     ┆            ┆            ┆            ┆   ┆            ┆ nt         ┆           ┆ 0         │\n",
       "└─────┴────────────┴────────────┴────────────┴───┴────────────┴────────────┴───────────┴───────────┘"
      ]
     },
     "execution_count": 39,
     "metadata": {},
     "output_type": "execute_result"
    }
   ],
   "source": [
    "df = df.with_row_index(name=\"id\", offset=1)  # Start IDs from 1\n",
    "\n",
    "df.head()"
   ]
  },
  {
   "cell_type": "markdown",
   "metadata": {},
   "source": [
    "## Partitioning the data by days of the transaction\n",
    "\n",
    "For the first step of the FaSTM $\\forall$ N, we need to do a Cartesian product of rows in a time window of 1 day (as in the paper, they state that \"The transactions are processed iteratively, one day at a time\"), which can exponentially increase the number of rows and not fit in the memory. To that end, below we partition the dataset using the `polars` method `write_parquet`, which creates a \"hive partitioned parquet dataset\" according to the specified column (https://docs.pola.rs/user-guide/io/hive/#writing-hive-partitioned-data)."
   ]
  },
  {
   "cell_type": "code",
   "execution_count": 40,
   "metadata": {},
   "outputs": [],
   "source": [
    "# Write Hive-partitioned Parquet files\n",
    "df.write_parquet(\n",
    "    partitions_location,\n",
    "    partition_by=[\"date\"],  # Partition by this column\n",
    ") "
   ]
  },
  {
   "cell_type": "markdown",
   "metadata": {},
   "source": [
    "Example of reading the hived dataset using polars (https://docs.pola.rs/user-guide/io/hive/#scanning-hive-partitioned-data):"
   ]
  },
  {
   "cell_type": "code",
   "execution_count": 43,
   "metadata": {},
   "outputs": [
    {
     "data": {
      "text/html": [
       "<div><style>\n",
       ".dataframe > thead > tr,\n",
       ".dataframe > tbody > tr {\n",
       "  text-align: right;\n",
       "  white-space: pre-wrap;\n",
       "}\n",
       "</style>\n",
       "<small>shape: (5, 13)</small><table border=\"1\" class=\"dataframe\"><thead><tr><th>id</th><th>date</th><th>source_bank</th><th>source_account</th><th>destination_bank</th><th>destination_account</th><th>amount_received</th><th>currency_received</th><th>amount_sent</th><th>currency_sent</th><th>payment_method</th><th>is_laundering</th><th>timestamp</th></tr><tr><td>u32</td><td>date</td><td>i64</td><td>str</td><td>i64</td><td>str</td><td>f64</td><td>str</td><td>f64</td><td>str</td><td>str</td><td>i64</td><td>i64</td></tr></thead><tbody><tr><td>1</td><td>2022-09-01</td><td>10</td><td>&quot;8000EBD30&quot;</td><td>10</td><td>&quot;8000EBD30&quot;</td><td>3697.34</td><td>&quot;US Dollar&quot;</td><td>3697.34</td><td>&quot;US Dollar&quot;</td><td>&quot;Reinvestment&quot;</td><td>0</td><td>1661991600</td></tr><tr><td>2</td><td>2022-09-01</td><td>3208</td><td>&quot;8000F4580&quot;</td><td>1</td><td>&quot;8000F5340&quot;</td><td>0.01</td><td>&quot;US Dollar&quot;</td><td>0.01</td><td>&quot;US Dollar&quot;</td><td>&quot;Cheque&quot;</td><td>0</td><td>1661991600</td></tr><tr><td>3</td><td>2022-09-01</td><td>3209</td><td>&quot;8000F4670&quot;</td><td>3209</td><td>&quot;8000F4670&quot;</td><td>14675.57</td><td>&quot;US Dollar&quot;</td><td>14675.57</td><td>&quot;US Dollar&quot;</td><td>&quot;Reinvestment&quot;</td><td>0</td><td>1661990400</td></tr><tr><td>4</td><td>2022-09-01</td><td>12</td><td>&quot;8000F5030&quot;</td><td>12</td><td>&quot;8000F5030&quot;</td><td>2806.97</td><td>&quot;US Dollar&quot;</td><td>2806.97</td><td>&quot;US Dollar&quot;</td><td>&quot;Reinvestment&quot;</td><td>0</td><td>1661990520</td></tr><tr><td>5</td><td>2022-09-01</td><td>10</td><td>&quot;8000F5200&quot;</td><td>10</td><td>&quot;8000F5200&quot;</td><td>36682.97</td><td>&quot;US Dollar&quot;</td><td>36682.97</td><td>&quot;US Dollar&quot;</td><td>&quot;Reinvestment&quot;</td><td>0</td><td>1661990760</td></tr></tbody></table></div>"
      ],
      "text/plain": [
       "shape: (5, 13)\n",
       "┌─────┬────────────┬────────────┬────────────┬───┬────────────┬────────────┬───────────┬───────────┐\n",
       "│ id  ┆ date       ┆ source_ban ┆ source_acc ┆ … ┆ currency_s ┆ payment_me ┆ is_launde ┆ timestamp │\n",
       "│ --- ┆ ---        ┆ k          ┆ ount       ┆   ┆ ent        ┆ thod       ┆ ring      ┆ ---       │\n",
       "│ u32 ┆ date       ┆ ---        ┆ ---        ┆   ┆ ---        ┆ ---        ┆ ---       ┆ i64       │\n",
       "│     ┆            ┆ i64        ┆ str        ┆   ┆ str        ┆ str        ┆ i64       ┆           │\n",
       "╞═════╪════════════╪════════════╪════════════╪═══╪════════════╪════════════╪═══════════╪═══════════╡\n",
       "│ 1   ┆ 2022-09-01 ┆ 10         ┆ 8000EBD30  ┆ … ┆ US Dollar  ┆ Reinvestme ┆ 0         ┆ 166199160 │\n",
       "│     ┆            ┆            ┆            ┆   ┆            ┆ nt         ┆           ┆ 0         │\n",
       "│ 2   ┆ 2022-09-01 ┆ 3208       ┆ 8000F4580  ┆ … ┆ US Dollar  ┆ Cheque     ┆ 0         ┆ 166199160 │\n",
       "│     ┆            ┆            ┆            ┆   ┆            ┆            ┆           ┆ 0         │\n",
       "│ 3   ┆ 2022-09-01 ┆ 3209       ┆ 8000F4670  ┆ … ┆ US Dollar  ┆ Reinvestme ┆ 0         ┆ 166199040 │\n",
       "│     ┆            ┆            ┆            ┆   ┆            ┆ nt         ┆           ┆ 0         │\n",
       "│ 4   ┆ 2022-09-01 ┆ 12         ┆ 8000F5030  ┆ … ┆ US Dollar  ┆ Reinvestme ┆ 0         ┆ 166199052 │\n",
       "│     ┆            ┆            ┆            ┆   ┆            ┆ nt         ┆           ┆ 0         │\n",
       "│ 5   ┆ 2022-09-01 ┆ 10         ┆ 8000F5200  ┆ … ┆ US Dollar  ┆ Reinvestme ┆ 0         ┆ 166199076 │\n",
       "│     ┆            ┆            ┆            ┆   ┆            ┆ nt         ┆           ┆ 0         │\n",
       "└─────┴────────────┴────────────┴────────────┴───┴────────────┴────────────┴───────────┴───────────┘"
      ]
     },
     "execution_count": 43,
     "metadata": {},
     "output_type": "execute_result"
    }
   ],
   "source": [
    "df = pl.scan_parquet(partitions_location).collect()\n",
    "\n",
    "df.head()"
   ]
  },
  {
   "cell_type": "markdown",
   "metadata": {},
   "source": [
    "This is just the initial dataset, but read from a partitioned structure!"
   ]
  },
  {
   "cell_type": "code",
   "execution_count": 44,
   "metadata": {},
   "outputs": [],
   "source": [
    "# Remove the data frame for memory efficiency\n",
    "del df"
   ]
  },
  {
   "cell_type": "markdown",
   "metadata": {},
   "source": [
    "# 1. Temporal graph creation (\"Temporal Graph of Sequential Transactions\")"
   ]
  },
  {
   "cell_type": "markdown",
   "metadata": {},
   "source": [
    "## 1.1. Set FaSTM $\\forall$ N parameters"
   ]
  },
  {
   "cell_type": "code",
   "execution_count": 45,
   "metadata": {},
   "outputs": [],
   "source": [
    "# Time window in days\n",
    "window = 2\n",
    "# Minimum edge of the weights for considering them\n",
    "min_edge_weights = 0.5"
   ]
  },
  {
   "cell_type": "markdown",
   "metadata": {},
   "source": [
    "## 1.2. Sequential inner joins\n",
    "\n",
    "Now, we will iterate over the different transaction dates that we have in our dataset (ensures that at any point we only load a manageable subset of the data into memory). The code below implements the **Definition 1** in Tariq and Hassani (2024), together with pages 7 and 8 of their paper. Guideline of the operations done below:\n",
    "\n",
    "1. **Partition Discovery:**  The code begins by listing all subdirectories under the `partition` folder and extracting the dates. This allows us to work one day at a time (or over a window of days).\n",
    "\n",
    "2. **Window Definition:** For each transaction date, a window is defined (for example, the current day plus one extra day). This \"extra\" is set by the `window` parameter ($\\Delta w$), which is not disclosed by the authors (they only state that they use a \"very consdervative *undisclosed* value for $\\Delta w$). Only partitions (files) within this window are read. Note that by increasing this parameter, the number of inner joins will significantly increase.\n",
    "\n",
    "3. **Lazy Scanning:** To keep the memory footprint low, we use `pl.scan_parquet` on only the necessary partitions to ensure that we are not reading the whole dataset within the time window. In lazy mode nothing is executed (i.e., the dataset is not materialized) until we call `collect()`. See: https://docs.pola.rs/api/python/stable/reference/lazyframe/api/polars.LazyFrame.collect.html#polars.LazyFrame.collect\n",
    "\n",
    "4. **Filtering and Splitting Data:** The same lazy DataFrame is used to define both “right” and “left” subsets. The left subset is filtered further by a timestamp criterion (e.g. rows with `Timestamp` less than the maximum timestamp of the current date). Here, the \"left\" subset will contain the source edges $s$, while the \"right\" subset will contain the destination edges $d$ (see definition 1 in the paper).\n",
    "\n",
    "5. **Renaming Columns:** To avoid collisions during the join, all columns in the left subset are renamed by appending a suffix.\n",
    "\n",
    "6. **Joining and Calculating Time Delta:**\n",
    "   - An inner join is then performed based on the desired key: we join “Destination Account_left” from the left side (i.e., the beneficiary of the source node, $b_s$) to a “Source Account” from the right side (the \"from\" account in the destination transaction, $f_d$).\n",
    "   - After the join, a new column “delta” is calculated (as the difference between timestamps) and filtered so that only positive deltas are kept (i.e., we only keep those \"right\" transactions which happen after the \"left\").\n",
    "\n",
    "7. **Collecting with Streaming:**  \n",
    "   - The final lazy query is executed with `collect(streaming=True)`, which instructs Polars to process data in batches rather than all at once—helping to keep memory usage low (https://docs.pola.rs/user-guide/concepts/_streaming/).  \n",
    "   - The batch size can be adjusted: see https://docs.pola.rs/api/python/dev/reference/api/polars.Config.set_streaming_chunk_size.html.\n",
    "\n",
    "8. **Output:** The joined result is written out to disk as a parquet file under a directory named for the current staging date."
   ]
  },
  {
   "cell_type": "code",
   "execution_count": 46,
   "metadata": {},
   "outputs": [
    {
     "name": "stdout",
     "output_type": "stream",
     "text": [
      "['2022-09-01', '2022-09-02', '2022-09-03', '2022-09-04', '2022-09-05', '2022-09-06', '2022-09-07', '2022-09-08', '2022-09-09', '2022-09-10', '2022-09-11', '2022-09-12', '2022-09-13', '2022-09-14', '2022-09-15', '2022-09-16', '2022-09-17', '2022-09-18']\n"
     ]
    }
   ],
   "source": [
    "# We get a sorted list of transaction dates from the partition directories.\n",
    "all_partitions = os.listdir(partitions_location)\n",
    "dates = sorted([\n",
    "    partition.split(\"=\")[1] \n",
    "    for partition in all_partitions \n",
    "    if partition.startswith(\"date=\")  # Note that the partition directories start with \"Date=\" (the column where we stored the date above)\n",
    "])\n",
    "\n",
    "print(dates)"
   ]
  },
  {
   "cell_type": "code",
   "execution_count": 47,
   "metadata": {},
   "outputs": [
    {
     "name": "stderr",
     "output_type": "stream",
     "text": [
      "C:\\Users\\blanc\\AppData\\Local\\Temp\\ipykernel_8444\\1652902956.py:32: PerformanceWarning: Determining the column names of a LazyFrame requires resolving its schema, which is a potentially expensive operation. Use `LazyFrame.collect_schema().names()` to get the column names without this warning.\n",
      "  left = left.rename({col: f\"{col}_left\" for col in left.columns})\n"
     ]
    },
    {
     "name": "stdout",
     "output_type": "stream",
     "text": [
      "Processed transaction_date 2022-09-01 with 4762412 joined rows.\n",
      "Processed transaction_date 2022-09-02 with 23498285 joined rows.\n",
      "Processed transaction_date 2022-09-03 with 592423 joined rows.\n",
      "Processed transaction_date 2022-09-04 with 798971 joined rows.\n",
      "Processed transaction_date 2022-09-05 with 2152970 joined rows.\n",
      "Processed transaction_date 2022-09-06 with 2157398 joined rows.\n",
      "Processed transaction_date 2022-09-07 with 2327036 joined rows.\n",
      "Processed transaction_date 2022-09-08 with 1822694 joined rows.\n",
      "Processed transaction_date 2022-09-09 with 15645442 joined rows.\n",
      "Processed transaction_date 2022-09-10 with 85011 joined rows.\n",
      "Processed transaction_date 2022-09-11 with 547 joined rows.\n",
      "Processed transaction_date 2022-09-12 with 496 joined rows.\n",
      "Processed transaction_date 2022-09-13 with 440 joined rows.\n",
      "Processed transaction_date 2022-09-14 with 273 joined rows.\n",
      "Processed transaction_date 2022-09-15 with 148 joined rows.\n",
      "Processed transaction_date 2022-09-16 with 106 joined rows.\n",
      "Processed transaction_date 2022-09-17 with 30 joined rows.\n",
      "Processed transaction_date 2022-09-18 with 4 joined rows.\n",
      "Total rows of the joined data frame: 53844686\n"
     ]
    }
   ],
   "source": [
    "total_rows_joined_dataset = 0\n",
    "\n",
    "for transaction_date in dates:\n",
    "\n",
    "    # Define the start date (window start) for filtering right partitions\n",
    "    current_date = datetime.strptime(transaction_date, \"%Y-%m-%d\")\n",
    "    # Define the end date (window end) for filtering right partitions\n",
    "    end_date = current_date + timedelta(days=window)\n",
    "    end_date_str = end_date.strftime(\"%Y-%m-%d\")  # Convert end date to string\n",
    "    \n",
    "    # Determine which partitions fall in the window: dates between current_date and end_date, inclusive\n",
    "    window_dates = [d for d in dates if transaction_date <= d <= end_date_str]\n",
    "    \n",
    "    # Build the file paths for these partitions\n",
    "    right_paths = [\n",
    "        os.path.join(partitions_location, f\"date={d}\")\n",
    "        for d in window_dates\n",
    "    ]\n",
    "    \n",
    "    # Read the \"right\" side data lazily from only the required partitions\n",
    "    right = pl.scan_parquet(right_paths)\n",
    "    \n",
    "    # Define a maximum timestamp for the current date (e.g., all transactions with\n",
    "    # a timestamp less than the end of the day)\n",
    "    max_ts_time = datetime.combine(current_date, datetime.max.time())\n",
    "    max_ts = max_ts_time.timestamp()  # Convert to a timestamp\n",
    "    \n",
    "    # Filter the \"left\" side: only rows from the window with Timestamp before max_ts\n",
    "    left = right.filter(pl.col(\"timestamp\") < max_ts)\n",
    "    \n",
    "    # Rename the columns in the left DataFrame so that after the join left and right have distinct names\n",
    "    left = left.rename({col: f\"{col}_left\" for col in left.columns})\n",
    "    \n",
    "    # Create the right join key to preserve the original source account (just a \"trick\")\n",
    "    # However, note that the right source account should match to the left destination\n",
    "    # account\n",
    "    right = right.with_columns(pl.col(\"source_account\").alias(\"source_account_right\"))\n",
    "\n",
    "    # Perform the inner join on the left and right data frames\n",
    "    join_expr = left.join(\n",
    "        right, \n",
    "        left_on=\"destination_account_left\",  # Destination account of the left data frame\n",
    "        right_on=\"source_account_right\",  # Source account of the right data frame\n",
    "        how=\"inner\"\n",
    "    )\n",
    "    \n",
    "    # Calculate the time delta between the joined timestamps\n",
    "    join_expr = join_expr.with_columns(\n",
    "        (pl.col(\"timestamp\") - pl.col(\"timestamp_left\")).alias(\"delta\")\n",
    "    )\n",
    "    \n",
    "    # Only keep rows where the delta is positive (right transaction happens after left)\n",
    "    join_expr = join_expr.filter(pl.col(\"delta\") > 0)\n",
    "    \n",
    "    # Use streaming mode (if supported) to keep the memory footprint low.\n",
    "    # The lazy query will process data in batches.\n",
    "    join_df = join_expr.collect(streaming=True)\n",
    "    \n",
    "    # Write out the result for the current transaction_date, partitioning the results\n",
    "    # by the transaction_date\n",
    "    \n",
    "    join_df = join_df.with_columns(\n",
    "        pl.lit(transaction_date).alias(\"staging_date\"))  # Add the staging date as a column\n",
    "    \n",
    "    join_df.write_parquet(\n",
    "        joins_location,\n",
    "        partition_by=[\"staging_date\"],  # Partition by the staging column\n",
    "    ) \n",
    "\n",
    "    total_rows_joined_dataset += join_df.height\n",
    "    print(f\"Processed transaction_date {transaction_date} with {join_df.height} joined rows.\")\n",
    "\n",
    "print(f'Total rows of the joined data frame: {total_rows_joined_dataset}')"
   ]
  },
  {
   "cell_type": "markdown",
   "metadata": {},
   "source": [
    "Note that, depending on the amount of RAM of your computer, you will not be able to read the whole data frame (there are more than 50M rows and 13 * 2 + 1 columns, with $\\Delta w = 2$)! For that reason, below we only read one parquet file as an example."
   ]
  },
  {
   "cell_type": "code",
   "execution_count": 14,
   "metadata": {},
   "outputs": [
    {
     "data": {
      "text/html": [
       "<div><style>\n",
       ".dataframe > thead > tr,\n",
       ".dataframe > tbody > tr {\n",
       "  text-align: right;\n",
       "  white-space: pre-wrap;\n",
       "}\n",
       "</style>\n",
       "<small>shape: (5, 28)</small><table border=\"1\" class=\"dataframe\"><thead><tr><th>id_left</th><th>date_left</th><th>source_bank_left</th><th>source_account_left</th><th>destination_bank_left</th><th>destination_account_left</th><th>amount_received_left</th><th>currency_received_left</th><th>amount_sent_left</th><th>currency_sent_left</th><th>payment_method_left</th><th>is_laundering_left</th><th>timestamp_left</th><th>id</th><th>date</th><th>source_bank</th><th>source_account</th><th>destination_bank</th><th>destination_account</th><th>amount_received</th><th>currency_received</th><th>amount_sent</th><th>currency_sent</th><th>payment_method</th><th>is_laundering</th><th>timestamp</th><th>delta</th><th>staging_date</th></tr><tr><td>u32</td><td>date</td><td>i64</td><td>str</td><td>i64</td><td>str</td><td>f64</td><td>str</td><td>f64</td><td>str</td><td>str</td><td>i64</td><td>i64</td><td>u32</td><td>date</td><td>i64</td><td>str</td><td>i64</td><td>str</td><td>f64</td><td>str</td><td>f64</td><td>str</td><td>str</td><td>i64</td><td>i64</td><td>i64</td><td>str</td></tr></thead><tbody><tr><td>280626</td><td>2022-09-01</td><td>12</td><td>&quot;8000F5030&quot;</td><td>12</td><td>&quot;8000F5030&quot;</td><td>616552.72</td><td>&quot;Brazil Real&quot;</td><td>109192.02</td><td>&quot;US Dollar&quot;</td><td>&quot;ACH&quot;</td><td>0</td><td>1661990400</td><td>4</td><td>2022-09-01</td><td>12</td><td>&quot;8000F5030&quot;</td><td>12</td><td>&quot;8000F5030&quot;</td><td>2806.97</td><td>&quot;US Dollar&quot;</td><td>2806.97</td><td>&quot;US Dollar&quot;</td><td>&quot;Reinvestment&quot;</td><td>0</td><td>1661990520</td><td>120</td><td>&quot;2022-09-01&quot;</td></tr><tr><td>30134</td><td>2022-09-01</td><td>11107</td><td>&quot;803C662C0&quot;</td><td>1</td><td>&quot;8000F5AD0&quot;</td><td>0.62</td><td>&quot;US Dollar&quot;</td><td>0.62</td><td>&quot;US Dollar&quot;</td><td>&quot;Credit Card&quot;</td><td>0</td><td>1661990460</td><td>6</td><td>2022-09-01</td><td>1</td><td>&quot;8000F5AD0&quot;</td><td>1</td><td>&quot;8000F5AD0&quot;</td><td>6162.44</td><td>&quot;US Dollar&quot;</td><td>6162.44</td><td>&quot;US Dollar&quot;</td><td>&quot;Reinvestment&quot;</td><td>0</td><td>1661990580</td><td>120</td><td>&quot;2022-09-01&quot;</td></tr><tr><td>94949</td><td>2022-09-01</td><td>2952</td><td>&quot;80F7CE4C0&quot;</td><td>1</td><td>&quot;8000EC1E0&quot;</td><td>128.9</td><td>&quot;US Dollar&quot;</td><td>128.9</td><td>&quot;US Dollar&quot;</td><td>&quot;Credit Card&quot;</td><td>0</td><td>1661991060</td><td>8</td><td>2022-09-01</td><td>1</td><td>&quot;8000EC1E0&quot;</td><td>1</td><td>&quot;8000EC1E0&quot;</td><td>11.86</td><td>&quot;US Dollar&quot;</td><td>11.86</td><td>&quot;US Dollar&quot;</td><td>&quot;Reinvestment&quot;</td><td>0</td><td>1661991360</td><td>300</td><td>&quot;2022-09-01&quot;</td></tr><tr><td>97149</td><td>2022-09-01</td><td>1244</td><td>&quot;80FFE9B00&quot;</td><td>1</td><td>&quot;80012FE50&quot;</td><td>26.31</td><td>&quot;US Dollar&quot;</td><td>26.31</td><td>&quot;US Dollar&quot;</td><td>&quot;Credit Card&quot;</td><td>0</td><td>1661990700</td><td>16</td><td>2022-09-01</td><td>1</td><td>&quot;80012FE50&quot;</td><td>1</td><td>&quot;80012FE50&quot;</td><td>3.9442e6</td><td>&quot;US Dollar&quot;</td><td>3.9442e6</td><td>&quot;US Dollar&quot;</td><td>&quot;Reinvestment&quot;</td><td>0</td><td>1661990940</td><td>240</td><td>&quot;2022-09-01&quot;</td></tr><tr><td>24</td><td>2022-09-01</td><td>1665</td><td>&quot;8005E18F0&quot;</td><td>1665</td><td>&quot;8005E18F0&quot;</td><td>9.89</td><td>&quot;US Dollar&quot;</td><td>9.89</td><td>&quot;US Dollar&quot;</td><td>&quot;Reinvestment&quot;</td><td>0</td><td>1661990520</td><td>19</td><td>2022-09-01</td><td>1665</td><td>&quot;8005E18F0&quot;</td><td>1665</td><td>&quot;8005E18F0&quot;</td><td>157.57</td><td>&quot;US Dollar&quot;</td><td>157.57</td><td>&quot;US Dollar&quot;</td><td>&quot;Reinvestment&quot;</td><td>0</td><td>1661992080</td><td>1560</td><td>&quot;2022-09-01&quot;</td></tr></tbody></table></div>"
      ],
      "text/plain": [
       "shape: (5, 28)\n",
       "┌─────────┬────────────┬────────────┬────────────┬───┬────────────┬────────────┬───────┬───────────┐\n",
       "│ id_left ┆ date_left  ┆ source_ban ┆ source_acc ┆ … ┆ is_launder ┆ timestamp  ┆ delta ┆ staging_d │\n",
       "│ ---     ┆ ---        ┆ k_left     ┆ ount_left  ┆   ┆ ing        ┆ ---        ┆ ---   ┆ ate       │\n",
       "│ u32     ┆ date       ┆ ---        ┆ ---        ┆   ┆ ---        ┆ i64        ┆ i64   ┆ ---       │\n",
       "│         ┆            ┆ i64        ┆ str        ┆   ┆ i64        ┆            ┆       ┆ str       │\n",
       "╞═════════╪════════════╪════════════╪════════════╪═══╪════════════╪════════════╪═══════╪═══════════╡\n",
       "│ 280626  ┆ 2022-09-01 ┆ 12         ┆ 8000F5030  ┆ … ┆ 0          ┆ 1661990520 ┆ 120   ┆ 2022-09-0 │\n",
       "│         ┆            ┆            ┆            ┆   ┆            ┆            ┆       ┆ 1         │\n",
       "│ 30134   ┆ 2022-09-01 ┆ 11107      ┆ 803C662C0  ┆ … ┆ 0          ┆ 1661990580 ┆ 120   ┆ 2022-09-0 │\n",
       "│         ┆            ┆            ┆            ┆   ┆            ┆            ┆       ┆ 1         │\n",
       "│ 94949   ┆ 2022-09-01 ┆ 2952       ┆ 80F7CE4C0  ┆ … ┆ 0          ┆ 1661991360 ┆ 300   ┆ 2022-09-0 │\n",
       "│         ┆            ┆            ┆            ┆   ┆            ┆            ┆       ┆ 1         │\n",
       "│ 97149   ┆ 2022-09-01 ┆ 1244       ┆ 80FFE9B00  ┆ … ┆ 0          ┆ 1661990940 ┆ 240   ┆ 2022-09-0 │\n",
       "│         ┆            ┆            ┆            ┆   ┆            ┆            ┆       ┆ 1         │\n",
       "│ 24      ┆ 2022-09-01 ┆ 1665       ┆ 8005E18F0  ┆ … ┆ 0          ┆ 1661992080 ┆ 1560  ┆ 2022-09-0 │\n",
       "│         ┆            ┆            ┆            ┆   ┆            ┆            ┆       ┆ 1         │\n",
       "└─────────┴────────────┴────────────┴────────────┴───┴────────────┴────────────┴───────┴───────────┘"
      ]
     },
     "execution_count": 14,
     "metadata": {},
     "output_type": "execute_result"
    }
   ],
   "source": [
    "# Read the final results\n",
    "df_joins_2022_09_01 = pl.read_parquet(os.path.join(joins_location, \"staging_date=2022-09-01/00000000.parquet\"))\n",
    "\n",
    "df_joins_2022_09_01.head()"
   ]
  },
  {
   "cell_type": "markdown",
   "metadata": {},
   "source": [
    "Note that we should convert all of the amounts to a common currency, such as US dollars, so that the amount paid matches the amount received. This will simplify and make the computations below consistent."
   ]
  },
  {
   "cell_type": "markdown",
   "metadata": {},
   "source": [
    "## 1.3. Creating the nodes and edges\n",
    "\n",
    "Now we have made all of the inner joins sequentially, as described by the algorithm. The next step is to construct the graph itself, following the **definition 1** in the paper. The idea below is to construct the `igraph` graph incrementally by adding vertices/edges per partition."
   ]
  },
  {
   "cell_type": "markdown",
   "metadata": {},
   "source": [
    "### Node construction\n",
    "\n",
    "**Each node will be a unique transaction**. We will process the nodes incrementally by using the partitioned data so that, again, the memory is not overloaded."
   ]
  },
  {
   "cell_type": "code",
   "execution_count": 48,
   "metadata": {},
   "outputs": [],
   "source": [
    "# Get list of all the join partitions created above\n",
    "join_partitions = [\n",
    "    os.path.join(joins_location, p) \n",
    "    for p in os.listdir(joins_location) \n",
    "    if p.startswith(\"staging_date=\")\n",
    "]\n",
    "\n",
    "# Initialize graph\n",
    "g = ig.Graph(directed=True)\n",
    "\n",
    "# Initialize set to store unique nodes\n",
    "existing_nodes = set()\n",
    "\n",
    "node_id_to_index = {}  # Maps transaction IDs to vertex indices\n",
    "current_vertex_count = 0  # Current number of vertices in the graph\n",
    "\n",
    "# Process each partition incrementally\n",
    "for join_partition in join_partitions:\n",
    "\n",
    "    # Read join data for this partition\n",
    "    df_join = pl.scan_parquet(os.path.join(join_partition, \"*.parquet\")).collect()\n",
    "    \n",
    "    # Process nodes (left side)\n",
    "    nodes_left = df_join.select([\n",
    "        pl.col(\"id_left\").alias(\"id\"),\n",
    "        pl.col(\"source_account_left\").alias(\"source\"),\n",
    "        pl.col(\"destination_account_left\").alias(\"target\"),\n",
    "        pl.col(\"timestamp_left\").alias(\"transaction_timestamp\"),\n",
    "        pl.col(\"amount_sent_left\").alias(\"amount\"),\n",
    "        pl.col(\"date_left\").alias(\"transaction_date\"),\n",
    "        pl.col(\"is_laundering_left\").alias(\"is_laundering\")\n",
    "    ]).unique(subset = \"id\")  # Select only those with unique IDs\n",
    "\n",
    "    # Process nodes (right side)\n",
    "    nodes_right = df_join.select([\n",
    "        pl.col(\"id\").alias(\"id\"),\n",
    "        pl.col(\"source_account\").alias(\"source\"),\n",
    "        pl.col(\"destination_account\").alias(\"target\"),\n",
    "        pl.col(\"timestamp\").alias(\"transaction_timestamp\"),\n",
    "        pl.col(\"amount_sent\").alias(\"amount\"),\n",
    "        pl.col(\"date\").alias(\"transaction_date\"),\n",
    "        pl.col(\"is_laundering\").alias(\"is_laundering\")\n",
    "    ]).unique(subset = \"id\")  # Select only those with unique IDs\n",
    "    \n",
    "    # Combine left and right nodes and drop the duplicates\n",
    "    nodes_partition = pl.concat([nodes_left, nodes_right]).unique(subset = \"id\")\n",
    "    \n",
    "    # Filter nodes not already in graph\n",
    "    new_nodes = nodes_partition.filter(\n",
    "        ~pl.col(\"id\").is_in(list(existing_nodes)))\n",
    "\n",
    "    new_ids = new_nodes[\"id\"].to_list()\n",
    "\n",
    "    # Add to graph incrementally and update tracking\n",
    "    if new_nodes.height > 0:\n",
    "\n",
    "        # Add vertices and update set of existing nodes\n",
    "        g.add_vertices(new_ids)\n",
    "        existing_nodes.update(new_ids)\n",
    "\n",
    "        # Update mapping from transaction ID to vertex index\n",
    "        for idx, node_id in enumerate(new_ids, start=current_vertex_count):\n",
    "            node_id_to_index[node_id] = idx\n",
    "\n",
    "        current_vertex_count += len(new_ids)\n",
    "        \n",
    "    # Write nodes partition\n",
    "    nodes_partition.write_parquet(\n",
    "        nodes_location,\n",
    "        partition_by=\"transaction_date\")"
   ]
  },
  {
   "cell_type": "code",
   "execution_count": 49,
   "metadata": {},
   "outputs": [
    {
     "data": {
      "text/html": [
       "<div><style>\n",
       ".dataframe > thead > tr,\n",
       ".dataframe > tbody > tr {\n",
       "  text-align: right;\n",
       "  white-space: pre-wrap;\n",
       "}\n",
       "</style>\n",
       "<small>shape: (5, 7)</small><table border=\"1\" class=\"dataframe\"><thead><tr><th>id</th><th>source</th><th>target</th><th>transaction_timestamp</th><th>amount</th><th>transaction_date</th><th>is_laundering</th></tr><tr><td>u32</td><td>str</td><td>str</td><td>i64</td><td>f64</td><td>date</td><td>i64</td></tr></thead><tbody><tr><td>4962234</td><td>&quot;8043A0FB0&quot;</td><td>&quot;8026687E0&quot;</td><td>1663505880</td><td>2154.54</td><td>2022-09-18</td><td>1</td></tr><tr><td>5033974</td><td>&quot;8041A3440&quot;</td><td>&quot;8041A3440&quot;</td><td>1663494900</td><td>637.66</td><td>2022-09-18</td><td>0</td></tr><tr><td>4962235</td><td>&quot;8043A0FB0&quot;</td><td>&quot;809320130&quot;</td><td>1663517880</td><td>5448.55</td><td>2022-09-18</td><td>1</td></tr><tr><td>5033975</td><td>&quot;8041A3440&quot;</td><td>&quot;811A79C40&quot;</td><td>1663494900</td><td>2391.92</td><td>2022-09-18</td><td>1</td></tr><tr><td>5033972</td><td>&quot;8041A3440&quot;</td><td>&quot;8041A3440&quot;</td><td>1663482060</td><td>14502.12</td><td>2022-09-18</td><td>0</td></tr></tbody></table></div>"
      ],
      "text/plain": [
       "shape: (5, 7)\n",
       "┌─────────┬───────────┬───────────┬──────────────────┬──────────┬──────────────────┬───────────────┐\n",
       "│ id      ┆ source    ┆ target    ┆ transaction_time ┆ amount   ┆ transaction_date ┆ is_laundering │\n",
       "│ ---     ┆ ---       ┆ ---       ┆ stamp            ┆ ---      ┆ ---              ┆ ---           │\n",
       "│ u32     ┆ str       ┆ str       ┆ ---              ┆ f64      ┆ date             ┆ i64           │\n",
       "│         ┆           ┆           ┆ i64              ┆          ┆                  ┆               │\n",
       "╞═════════╪═══════════╪═══════════╪══════════════════╪══════════╪══════════════════╪═══════════════╡\n",
       "│ 4962234 ┆ 8043A0FB0 ┆ 8026687E0 ┆ 1663505880       ┆ 2154.54  ┆ 2022-09-18       ┆ 1             │\n",
       "│ 5033974 ┆ 8041A3440 ┆ 8041A3440 ┆ 1663494900       ┆ 637.66   ┆ 2022-09-18       ┆ 0             │\n",
       "│ 4962235 ┆ 8043A0FB0 ┆ 809320130 ┆ 1663517880       ┆ 5448.55  ┆ 2022-09-18       ┆ 1             │\n",
       "│ 5033975 ┆ 8041A3440 ┆ 811A79C40 ┆ 1663494900       ┆ 2391.92  ┆ 2022-09-18       ┆ 1             │\n",
       "│ 5033972 ┆ 8041A3440 ┆ 8041A3440 ┆ 1663482060       ┆ 14502.12 ┆ 2022-09-18       ┆ 0             │\n",
       "└─────────┴───────────┴───────────┴──────────────────┴──────────┴──────────────────┴───────────────┘"
      ]
     },
     "execution_count": 49,
     "metadata": {},
     "output_type": "execute_result"
    }
   ],
   "source": [
    "nodes_partition.head()"
   ]
  },
  {
   "cell_type": "markdown",
   "metadata": {},
   "source": [
    "### Edge construction\n",
    "\n",
    "Again, we will construct the edges incrementally, following a similar procedure to the nodes creation."
   ]
  },
  {
   "cell_type": "code",
   "execution_count": 50,
   "metadata": {},
   "outputs": [],
   "source": [
    "# Process edges incrementally after all nodes are added\n",
    "for join_partition in join_partitions:\n",
    "\n",
    "    # Read join data for this partition\n",
    "    df_join = pl.scan_parquet(os.path.join(join_partition, \"*.parquet\")).collect()\n",
    "    \n",
    "    # Create edges\n",
    "    edges_partition = df_join.select([\n",
    "        pl.col(\"id_left\").alias(\"src_transaction\"),  # Use the left transaction ID as the source\n",
    "        pl.col(\"id\").alias(\"dst_transaction\"),  # Use the right transaction ID as the destination\n",
    "        pl.col(\"date_left\").alias(\"src_date\"),\n",
    "        pl.col(\"date\").alias(\"dst_date\")\n",
    "    ]).filter(  \n",
    "        (pl.col(\"src_transaction\").is_in(existing_nodes)) &  # Ensure edges only reference existing nodes\n",
    "        (pl.col(\"dst_transaction\").is_in(existing_nodes))\n",
    "    )\n",
    "    \n",
    "    # Convert transaction IDs to vertex indices\n",
    "    edges_partition = edges_partition.with_columns(\n",
    "        pl.col(\"src_transaction\").replace(node_id_to_index).alias(\"src_index\"),\n",
    "        pl.col(\"dst_transaction\").replace(node_id_to_index).alias(\"dst_index\")\n",
    "    ).filter(\n",
    "        (pl.col(\"src_index\").is_not_null()) &\n",
    "        (pl.col(\"dst_index\").is_not_null())\n",
    "    )\n",
    "\n",
    "    # Add validated edges using indices\n",
    "    if edges_partition.height > 0:\n",
    "        g.add_edges(zip(\n",
    "            edges_partition[\"src_index\"].to_list(),\n",
    "            edges_partition[\"dst_index\"].to_list()\n",
    "        ))\n",
    "\n",
    "    # Write validated edges partition\n",
    "    edges_partition.write_parquet(\n",
    "        edges_location,\n",
    "        partition_by=[\"src_date\", \"dst_date\"]\n",
    "    )"
   ]
  },
  {
   "cell_type": "code",
   "execution_count": 34,
   "metadata": {},
   "outputs": [
    {
     "data": {
      "text/html": [
       "<div><style>\n",
       ".dataframe > thead > tr,\n",
       ".dataframe > tbody > tr {\n",
       "  text-align: right;\n",
       "  white-space: pre-wrap;\n",
       "}\n",
       "</style>\n",
       "<small>shape: (4, 6)</small><table border=\"1\" class=\"dataframe\"><thead><tr><th>src</th><th>dst</th><th>src_date</th><th>dst_date</th><th>src_index</th><th>dst_index</th></tr><tr><td>u32</td><td>u32</td><td>date</td><td>date</td><td>u32</td><td>u32</td></tr></thead><tbody><tr><td>4962232</td><td>4962234</td><td>2022-09-18</td><td>2022-09-18</td><td>4228811</td><td>4228806</td></tr><tr><td>4962232</td><td>4962235</td><td>2022-09-18</td><td>2022-09-18</td><td>4228811</td><td>4228807</td></tr><tr><td>5033972</td><td>5033974</td><td>2022-09-18</td><td>2022-09-18</td><td>4228810</td><td>4228802</td></tr><tr><td>5033972</td><td>5033975</td><td>2022-09-18</td><td>2022-09-18</td><td>4228810</td><td>4228803</td></tr></tbody></table></div>"
      ],
      "text/plain": [
       "shape: (4, 6)\n",
       "┌─────────┬─────────┬────────────┬────────────┬───────────┬───────────┐\n",
       "│ src     ┆ dst     ┆ src_date   ┆ dst_date   ┆ src_index ┆ dst_index │\n",
       "│ ---     ┆ ---     ┆ ---        ┆ ---        ┆ ---       ┆ ---       │\n",
       "│ u32     ┆ u32     ┆ date       ┆ date       ┆ u32       ┆ u32       │\n",
       "╞═════════╪═════════╪════════════╪════════════╪═══════════╪═══════════╡\n",
       "│ 4962232 ┆ 4962234 ┆ 2022-09-18 ┆ 2022-09-18 ┆ 4228811   ┆ 4228806   │\n",
       "│ 4962232 ┆ 4962235 ┆ 2022-09-18 ┆ 2022-09-18 ┆ 4228811   ┆ 4228807   │\n",
       "│ 5033972 ┆ 5033974 ┆ 2022-09-18 ┆ 2022-09-18 ┆ 4228810   ┆ 4228802   │\n",
       "│ 5033972 ┆ 5033975 ┆ 2022-09-18 ┆ 2022-09-18 ┆ 4228810   ┆ 4228803   │\n",
       "└─────────┴─────────┴────────────┴────────────┴───────────┴───────────┘"
      ]
     },
     "execution_count": 34,
     "metadata": {},
     "output_type": "execute_result"
    }
   ],
   "source": [
    "edges_partition.head()"
   ]
  },
  {
   "cell_type": "markdown",
   "metadata": {},
   "source": [
    "### Sanity checks\n",
    "\n",
    "Below, we perform some sanity checks in order to verify that there are no unexpected inconsistencies in the graph."
   ]
  },
  {
   "cell_type": "code",
   "execution_count": 17,
   "metadata": {},
   "outputs": [
    {
     "name": "stdout",
     "output_type": "stream",
     "text": [
      "IGRAPH DN-- 4228813 53844686 -- \n",
      "+ attr: name (v)\n"
     ]
    }
   ],
   "source": [
    "print(g.summary())"
   ]
  },
  {
   "cell_type": "code",
   "execution_count": 18,
   "metadata": {},
   "outputs": [
    {
     "name": "stdout",
     "output_type": "stream",
     "text": [
      "Number of nodes: 4228813\n",
      "Number of edges: 53844686\n"
     ]
    }
   ],
   "source": [
    "print(f'Number of nodes: {g.vcount()}')\n",
    "print(f'Number of edges: {g.ecount()}')"
   ]
  },
  {
   "cell_type": "code",
   "execution_count": 19,
   "metadata": {},
   "outputs": [
    {
     "name": "stdout",
     "output_type": "stream",
     "text": [
      "All sanity checks passed!\n"
     ]
    }
   ],
   "source": [
    "# Check 1: All vertices have unique names (transaction IDs)\n",
    "node_names = g.vs[\"name\"]\n",
    "unique_names = set(node_names)\n",
    "assert len(node_names) == len(unique_names), \\\n",
    "    f\"Duplicate node names: {len(node_names) - len(unique_names)} duplicates found\"\n",
    "\n",
    "# Check 2: All edges reference valid vertices\n",
    "max_vertex = g.vcount() - 1\n",
    "invalid_edges = [\n",
    "    e.index for e in g.es \n",
    "    if e.source > max_vertex or e.target > max_vertex\n",
    "]\n",
    "assert not invalid_edges, \\\n",
    "    f\"Invalid edges found: {len(invalid_edges)} edges reference non-existent vertices\"\n",
    "\n",
    "# Check 3: No self-edges (transactions shouldn't loop to themselves)\n",
    "self_edges = g.is_loop()\n",
    "assert not any(self_edges), \\\n",
    "    f\"Self-edges found: {sum(self_edges)} transactions point to themselves\"\n",
    "\n",
    "print(\"All sanity checks passed!\")"
   ]
  },
  {
   "cell_type": "markdown",
   "metadata": {},
   "source": [
    "As an example, below we print the first 10 edges of the graph:"
   ]
  },
  {
   "cell_type": "code",
   "execution_count": 20,
   "metadata": {},
   "outputs": [
    {
     "name": "stdout",
     "output_type": "stream",
     "text": [
      "[(1125940, 541926), (463710, 77919), (242693, 1178821), (19258, 639616), (126411, 654684), (1130575, 126292), (964110, 126292), (1200509, 635664), (1313899, 147195), (56286, 147195)]\n"
     ]
    }
   ],
   "source": [
    "print([edge.tuple for edge in g.es[:10]])"
   ]
  },
  {
   "cell_type": "markdown",
   "metadata": {},
   "source": [
    "### Graph visualization\n",
    "\n",
    "Since the graph is immense, below we only plot a subset of the transactions (the code below is wrong, as the nodes it prints will probably not be connected - which is why the resulting graph does not have edges)."
   ]
  },
  {
   "cell_type": "code",
   "execution_count": 21,
   "metadata": {},
   "outputs": [
    {
     "data": {
      "image/png": "[encoded data removed]",
      "text/plain": [
       "<Figure size 640x480 with 1 Axes>"
      ]
     },
     "metadata": {},
     "output_type": "display_data"
    }
   ],
   "source": [
    "# Select nodes\n",
    "selected_node_ids = list(range(1, 50))  # Select the first 50 nodes\n",
    "\n",
    "# Create the subgraph\n",
    "subgraph = g.subgraph(selected_node_ids)\n",
    "\n",
    "# Choose a layout (Fruchterman-Reingold for force-directed placement)\n",
    "layout = subgraph.layout(\"fr\")\n",
    "\n",
    "# Define output directory and filename\n",
    "output_dir = \"figures\"\n",
    "output_file = os.path.join(output_dir, \"fastman_initial_graph.png\")\n",
    "\n",
    "# Ensure output directory exists\n",
    "os.makedirs(output_dir, exist_ok=True)\n",
    "\n",
    "# Save the graph as an image using igraph's optimized plot\n",
    "ig.plot(\n",
    "    subgraph,\n",
    "    target=output_file,  # Save instead of displaying immediately\n",
    "    layout=layout,\n",
    "    vertex_size=30,\n",
    "    vertex_label=subgraph.vs[\"name\"],\n",
    "    edge_width=0.5,\n",
    "    vertex_color=\"lightblue\",  # Custom node color\n",
    "    edge_color=\"gray\",         # Custom edge color\n",
    "    bbox=(800, 600),  # Image resolution\n",
    ")\n",
    "\n",
    "# Load and display the saved image using Matplotlib\n",
    "img = plt.imread(output_file)\n",
    "plt.imshow(img)\n",
    "plt.axis(\"off\")  # Hide axes\n",
    "plt.title(\"FASTMAN Initial Graph\")  # Optional: Add a title\n",
    "plt.show()\n",
    "\n"
   ]
  },
  {
   "cell_type": "markdown",
   "metadata": {},
   "source": [
    "# 2. 2nd Order Graph Creation\n",
    "\n",
    "In this section, we derive  the 2nd order graph of sequential transactions in order to impute the edge weights to the graph in the previous section."
   ]
  },
  {
   "cell_type": "code",
   "execution_count": null,
   "metadata": {},
   "outputs": [
    {
     "ename": "NameError",
     "evalue": "name 'data_folder' is not defined",
     "output_type": "error",
     "traceback": [
      "\u001b[1;31m---------------------------------------------------------------------------\u001b[0m",
      "\u001b[1;31mNameError\u001b[0m                                 Traceback (most recent call last)",
      "Cell \u001b[1;32mIn[22], line 1\u001b[0m\n\u001b[1;32m----> 1\u001b[0m edges \u001b[38;5;241m=\u001b[39m pl\u001b[38;5;241m.\u001b[39mread_parquet(os\u001b[38;5;241m.\u001b[39mpath\u001b[38;5;241m.\u001b[39mjoin(\u001b[43mdata_folder\u001b[49m, \n\u001b[0;32m      2\u001b[0m                                      \u001b[38;5;124m'\u001b[39m\u001b[38;5;124medges/src_date=2022-09-01/dst_date=2022-09-01/00000000.parquet\u001b[39m\u001b[38;5;124m'\u001b[39m))\n\u001b[0;32m      4\u001b[0m edges\u001b[38;5;241m.\u001b[39mhead()\n",
      "\u001b[1;31mNameError\u001b[0m: name 'data_folder' is not defined"
     ]
    }
   ],
   "source": [
    "edges = pl.read_parquet(os.path.join(data_location, \n",
    "                                     'edges/src_date=2022-09-01/dst_date=2022-09-01/00000000.parquet'))\n",
    "\n",
    "edges.head()"
   ]
  },
  {
   "cell_type": "code",
   "execution_count": null,
   "metadata": {},
   "outputs": [
    {
     "data": {
      "text/html": [
       "<div><style>\n",
       ".dataframe > thead > tr,\n",
       ".dataframe > tbody > tr {\n",
       "  text-align: right;\n",
       "  white-space: pre-wrap;\n",
       "}\n",
       "</style>\n",
       "<small>shape: (5, 3)</small><table border=\"1\" class=\"dataframe\"><thead><tr><th>src</th><th>dst</th><th>moment</th></tr><tr><td>str</td><td>str</td><td>date</td></tr></thead><tbody><tr><td>&quot;327472&gt;&gt;344672&quot;</td><td>&quot;344672&gt;&gt;365524&quot;</td><td>2022-09-01</td></tr><tr><td>&quot;26048&gt;&gt;1015085&quot;</td><td>&quot;1015085&gt;&gt;1099153&quot;</td><td>2022-09-01</td></tr><tr><td>&quot;367646&gt;&gt;535587&quot;</td><td>&quot;535587&gt;&gt;587913&quot;</td><td>2022-09-01</td></tr><tr><td>&quot;476145&gt;&gt;560165&quot;</td><td>&quot;560165&gt;&gt;744327&quot;</td><td>2022-09-01</td></tr><tr><td>&quot;496294&gt;&gt;899198&quot;</td><td>&quot;899198&gt;&gt;1036885&quot;</td><td>2022-09-01</td></tr></tbody></table></div>"
      ],
      "text/plain": [
       "shape: (5, 3)\n",
       "┌────────────────┬──────────────────┬────────────┐\n",
       "│ src            ┆ dst              ┆ moment     │\n",
       "│ ---            ┆ ---              ┆ ---        │\n",
       "│ str            ┆ str              ┆ date       │\n",
       "╞════════════════╪══════════════════╪════════════╡\n",
       "│ 327472>>344672 ┆ 344672>>365524   ┆ 2022-09-01 │\n",
       "│ 26048>>1015085 ┆ 1015085>>1099153 ┆ 2022-09-01 │\n",
       "│ 367646>>535587 ┆ 535587>>587913   ┆ 2022-09-01 │\n",
       "│ 476145>>560165 ┆ 560165>>744327   ┆ 2022-09-01 │\n",
       "│ 496294>>899198 ┆ 899198>>1036885  ┆ 2022-09-01 │\n",
       "└────────────────┴──────────────────┴────────────┘"
      ]
     },
     "execution_count": 25,
     "metadata": {},
     "output_type": "execute_result"
    }
   ],
   "source": [
    "# Define the file locations\n",
    "os.makedirs(second_order_location, exist_ok=True)\n",
    "\n",
    "# Helper function to process parquet files and construct second-order edges\n",
    "def process_parquet_files():\n",
    "    # Create an empty DataFrame to accumulate results\n",
    "    all_edges = pl.DataFrame()\n",
    "\n",
    "    # Traverse the directories to find all parquet files\n",
    "    for src_date_dir in os.listdir(os.path.join(data_location, \"edges\")):\n",
    "        src_date_path = os.path.join(data_location, \"edges\", src_date_dir)\n",
    "        \n",
    "        # Only proceed if it's a directory (for src_date)\n",
    "        if os.path.isdir(src_date_path):\n",
    "            # Get all dst_date subdirectories for the given src_date\n",
    "            for dst_date_dir in os.listdir(src_date_path):\n",
    "                dst_date_path = os.path.join(src_date_path, dst_date_dir)\n",
    "                \n",
    "                # Process parquet files inside the dst_date subdirectories\n",
    "                if os.path.isdir(dst_date_path):\n",
    "                    for parquet_file in os.listdir(dst_date_path):\n",
    "                        if parquet_file.endswith(\".parquet\"):\n",
    "                            parquet_file_path = os.path.join(dst_date_path, parquet_file)\n",
    "\n",
    "                            # Read the parquet file\n",
    "                            edges = pl.read_parquet(parquet_file_path)\n",
    "\n",
    "                            # Ensure that all necessary columns are strings\n",
    "                            edges = edges.with_columns([\n",
    "                                pl.col(\"src_transaction\").cast(pl.Utf8),\n",
    "                                pl.col(\"dst_transaction\").cast(pl.Utf8),\n",
    "                                pl.col(\"src_index\").cast(pl.Utf8),\n",
    "                                pl.col(\"dst_index\").cast(pl.Utf8)\n",
    "                            ])\n",
    "                            \n",
    "                            # Rename columns for the left side of the join\n",
    "                            edges_left = edges.rename({col: f\"{col}_left\" for col in edges.columns})\n",
    "\n",
    "                            # Rename columns for the right side of the join\n",
    "                            edges_right = edges.rename({col: f\"{col}_right\" for col in edges.columns})\n",
    "\n",
    "                            # Perform the join\n",
    "                            joint_edges = edges_left.join(edges_right, left_on=\"dst_left\", right_on=\"src_right\")\n",
    "\n",
    "                            # Construct second-order edges with proper src/dst\n",
    "                            second_order_edges = (\n",
    "                                joint_edges\n",
    "                                .select([ \n",
    "                                    # Construct src from left-side transaction (A>>B)\n",
    "                                    (pl.col(\"src_left\") + \">>\" + pl.col(\"dst_left\")).alias(\"src\"),\n",
    "                                    # Construct dst from right-side transaction (B>>C)\n",
    "                                    # dst_left = src_right\n",
    "                                    (pl.col(\"dst_left\") + \">>\" + pl.col(\"dst_right\")).alias(\"dst\"),\n",
    "                                    # Use timestamp from the right-side edge\n",
    "                                    pl.col(\"src_date_right\").alias(\"moment\")\n",
    "                                ])\n",
    "                                .unique()\n",
    "                            )\n",
    "\n",
    "                            # Concatenate the second-order edges to the all_edges DataFrame (this combines data from all parquet files)\n",
    "                            all_edges = all_edges.vstack(second_order_edges)\n",
    "\n",
    "    # After processing all files, save the accumulated DataFrame as partitioned parquet\n",
    "    all_edges.write_parquet(os.path.join(second_order_location), partition_by=[\"moment\"])\n",
    "    \n",
    "    return all_edges\n",
    "\n",
    "# Call the function to process the parquet files and create second-order edges\n",
    "second_order_edges = process_parquet_files()\n",
    "\n",
    "# Show the first few rows to verify\n",
    "second_order_edges.head()"
   ]
  },
  {
   "cell_type": "code",
   "execution_count": 26,
   "metadata": {},
   "outputs": [
    {
     "data": {
      "image/svg+xml": [
       "<?xml version=\"1.0\" encoding=\"UTF-8\"?>\n",
       "<svg xmlns=\"http://www.w3.org/2000/svg\" xmlns:xlink=\"http://www.w3.org/1999/xlink\" width=\"800\" height=\"800\" viewBox=\"0 0 800 800\">\n",
       "<defs>\n",
       "<g>\n",
       "<g id=\"glyph-0-0\">\n",
       "<path d=\"M 0.421875 -1.890625 L 1.296875 -2.007812 C 1.398438 -1.507812 1.570312 -1.148438 1.8125 -0.929688 C 2.054688 -0.710938 2.351562 -0.601562 2.699219 -0.601562 C 3.113281 -0.601562 3.460938 -0.742188 3.746094 -1.03125 C 4.03125 -1.316406 4.175781 -1.671875 4.175781 -2.09375 C 4.175781 -2.5 4.042969 -2.832031 3.78125 -3.09375 C 3.515625 -3.355469 3.179688 -3.484375 2.773438 -3.484375 C 2.609375 -3.484375 2.402344 -3.453125 2.152344 -3.390625 L 2.25 -4.160156 C 2.308594 -4.152344 2.355469 -4.148438 2.390625 -4.148438 C 2.765625 -4.148438 3.105469 -4.25 3.402344 -4.445312 C 3.703125 -4.640625 3.851562 -4.941406 3.851562 -5.347656 C 3.851562 -5.667969 3.742188 -5.9375 3.523438 -6.148438 C 3.308594 -6.359375 3.027344 -6.464844 2.679688 -6.464844 C 2.339844 -6.464844 2.054688 -6.359375 1.828125 -6.140625 C 1.597656 -5.929688 1.453125 -5.605469 1.386719 -5.175781 L 0.507812 -5.332031 C 0.617188 -5.921875 0.859375 -6.378906 1.242188 -6.703125 C 1.621094 -7.027344 2.09375 -7.1875 2.660156 -7.1875 C 3.050781 -7.1875 3.410156 -7.105469 3.742188 -6.9375 C 4.070312 -6.769531 4.320312 -6.539062 4.496094 -6.25 C 4.667969 -5.960938 4.757812 -5.652344 4.757812 -5.328125 C 4.757812 -5.019531 4.671875 -4.734375 4.507812 -4.484375 C 4.339844 -4.226562 4.09375 -4.027344 3.769531 -3.875 C 4.191406 -3.78125 4.523438 -3.578125 4.757812 -3.269531 C 4.992188 -2.960938 5.109375 -2.578125 5.109375 -2.113281 C 5.109375 -1.488281 4.878906 -0.960938 4.421875 -0.523438 C 3.96875 -0.0898438 3.390625 0.125 2.695312 0.125 C 2.066406 0.125 1.546875 -0.0585938 1.128906 -0.433594 C 0.714844 -0.808594 0.476562 -1.292969 0.421875 -1.890625 Z M 0.421875 -1.890625 \"/>\n",
       "</g>\n",
       "<g id=\"glyph-0-1\">\n",
       "<path d=\"M 5.035156 -0.84375 L 5.035156 0 L 0.304688 0 C 0.296875 -0.210938 0.332031 -0.414062 0.40625 -0.609375 C 0.527344 -0.933594 0.71875 -1.25 0.984375 -1.5625 C 1.25 -1.875 1.632812 -2.234375 2.132812 -2.648438 C 2.910156 -3.285156 3.4375 -3.789062 3.710938 -4.164062 C 3.984375 -4.535156 4.121094 -4.886719 4.121094 -5.21875 C 4.121094 -5.566406 3.996094 -5.863281 3.746094 -6.101562 C 3.5 -6.339844 3.171875 -6.460938 2.773438 -6.460938 C 2.351562 -6.460938 2.011719 -6.332031 1.757812 -6.078125 C 1.503906 -5.824219 1.375 -5.472656 1.371094 -5.023438 L 0.46875 -5.117188 C 0.53125 -5.789062 0.761719 -6.304688 1.167969 -6.65625 C 1.570312 -7.011719 2.113281 -7.1875 2.792969 -7.1875 C 3.480469 -7.1875 4.023438 -6.996094 4.421875 -6.617188 C 4.824219 -6.234375 5.023438 -5.761719 5.023438 -5.199219 C 5.023438 -4.914062 4.964844 -4.632812 4.847656 -4.355469 C 4.730469 -4.078125 4.535156 -3.789062 4.265625 -3.480469 C 3.992188 -3.175781 3.542969 -2.753906 2.910156 -2.222656 C 2.382812 -1.777344 2.042969 -1.480469 1.894531 -1.320312 C 1.746094 -1.164062 1.621094 -1.003906 1.523438 -0.84375 Z M 5.035156 -0.84375 \"/>\n",
       "</g>\n",
       "<g id=\"glyph-0-2\">\n",
       "<path d=\"M 0.472656 -6.21875 L 0.472656 -7.066406 L 5.109375 -7.066406 L 5.109375 -6.382812 C 4.652344 -5.898438 4.199219 -5.253906 3.753906 -4.449219 C 3.304688 -3.644531 2.960938 -2.816406 2.714844 -1.96875 C 2.539062 -1.367188 2.425781 -0.710938 2.378906 0 L 1.476562 0 C 1.484375 -0.5625 1.59375 -1.242188 1.804688 -2.039062 C 2.019531 -2.839844 2.320312 -3.609375 2.71875 -4.347656 C 3.113281 -5.089844 3.535156 -5.710938 3.980469 -6.21875 Z M 0.472656 -6.21875 \"/>\n",
       "</g>\n",
       "<g id=\"glyph-0-3\">\n",
       "<path d=\"M 3.234375 0 L 3.234375 -1.714844 L 0.125 -1.714844 L 0.125 -2.519531 L 3.394531 -7.15625 L 4.109375 -7.15625 L 4.109375 -2.519531 L 5.078125 -2.519531 L 5.078125 -1.714844 L 4.109375 -1.714844 L 4.109375 0 L 3.234375 0 M 3.234375 -2.519531 L 3.234375 -5.746094 L 0.992188 -2.519531 Z M 3.234375 -2.519531 \"/>\n",
       "</g>\n",
       "<g id=\"glyph-0-4\">\n",
       "<path d=\"M 5.289062 -3.128906 L 0.546875 -1.101562 L 0.546875 -1.976562 L 4.300781 -3.535156 L 0.546875 -5.078125 L 0.546875 -5.953125 L 5.289062 -3.949219 Z M 5.289062 -3.128906 \"/>\n",
       "</g>\n",
       "<g id=\"glyph-0-5\">\n",
       "<path d=\"M 4.976562 -5.40625 L 4.101562 -5.335938 C 4.023438 -5.683594 3.914062 -5.933594 3.769531 -6.089844 C 3.53125 -6.339844 3.238281 -6.464844 2.890625 -6.464844 C 2.609375 -6.464844 2.363281 -6.386719 2.152344 -6.230469 C 1.875 -6.027344 1.660156 -5.734375 1.5 -5.347656 C 1.339844 -4.960938 1.257812 -4.40625 1.25 -3.691406 C 1.460938 -4.011719 1.71875 -4.253906 2.027344 -4.410156 C 2.332031 -4.566406 2.652344 -4.644531 2.988281 -4.644531 C 3.574219 -4.644531 4.074219 -4.429688 4.484375 -3.996094 C 4.898438 -3.566406 5.101562 -3.007812 5.101562 -2.324219 C 5.101562 -1.875 5.003906 -1.457031 4.8125 -1.070312 C 4.617188 -0.6875 4.351562 -0.390625 4.015625 -0.1875 C 3.675781 0.0195312 3.289062 0.121094 2.859375 0.121094 C 2.128906 0.121094 1.53125 -0.148438 1.070312 -0.6875 C 0.605469 -1.226562 0.375 -2.113281 0.375 -3.351562 C 0.375 -4.734375 0.632812 -5.738281 1.140625 -6.367188 C 1.589844 -6.914062 2.1875 -7.1875 2.945312 -7.1875 C 3.507812 -7.1875 3.96875 -7.03125 4.328125 -6.714844 C 4.6875 -6.398438 4.902344 -5.960938 4.976562 -5.40625 M 1.386719 -2.320312 C 1.386719 -2.015625 1.449219 -1.726562 1.578125 -1.449219 C 1.707031 -1.171875 1.886719 -0.960938 2.117188 -0.816406 C 2.351562 -0.671875 2.59375 -0.601562 2.847656 -0.601562 C 3.21875 -0.601562 3.535156 -0.75 3.804688 -1.050781 C 4.070312 -1.347656 4.203125 -1.757812 4.203125 -2.269531 C 4.203125 -2.765625 4.070312 -3.15625 3.808594 -3.441406 C 3.546875 -3.726562 3.210938 -3.867188 2.8125 -3.867188 C 2.414062 -3.867188 2.078125 -3.726562 1.800781 -3.441406 C 1.523438 -3.15625 1.386719 -2.78125 1.386719 -2.320312 Z M 1.386719 -2.320312 \"/>\n",
       "</g>\n",
       "<g id=\"glyph-0-6\">\n",
       "<path d=\"M 0.414062 -1.875 L 1.335938 -1.953125 C 1.40625 -1.503906 1.566406 -1.167969 1.8125 -0.941406 C 2.0625 -0.714844 2.363281 -0.601562 2.714844 -0.601562 C 3.136719 -0.601562 3.496094 -0.761719 3.789062 -1.078125 C 4.082031 -1.398438 4.226562 -1.820312 4.226562 -2.347656 C 4.226562 -2.851562 4.085938 -3.246094 3.804688 -3.535156 C 3.523438 -3.824219 3.15625 -3.96875 2.699219 -3.96875 C 2.417969 -3.96875 2.160156 -3.90625 1.933594 -3.777344 C 1.707031 -3.648438 1.527344 -3.480469 1.398438 -3.277344 L 0.570312 -3.382812 L 1.265625 -7.0625 L 4.824219 -7.0625 L 4.824219 -6.21875 L 1.96875 -6.21875 L 1.582031 -4.296875 C 2.011719 -4.597656 2.460938 -4.746094 2.933594 -4.746094 C 3.558594 -4.746094 4.085938 -4.53125 4.515625 -4.097656 C 4.945312 -3.664062 5.160156 -3.105469 5.160156 -2.425781 C 5.160156 -1.777344 4.972656 -1.21875 4.59375 -0.746094 C 4.136719 -0.167969 3.507812 0.121094 2.714844 0.121094 C 2.0625 0.121094 1.53125 -0.0585938 1.121094 -0.425781 C 0.707031 -0.789062 0.472656 -1.273438 0.414062 -1.875 Z M 0.414062 -1.875 \"/>\n",
       "</g>\n",
       "<g id=\"glyph-0-7\">\n",
       "<path d=\"M 0.414062 -3.53125 C 0.414062 -4.375 0.503906 -5.058594 0.675781 -5.574219 C 0.851562 -6.089844 1.109375 -6.488281 1.453125 -6.765625 C 1.796875 -7.046875 2.226562 -7.1875 2.75 -7.1875 C 3.132812 -7.1875 3.46875 -7.109375 3.757812 -6.957031 C 4.050781 -6.800781 4.289062 -6.578125 4.476562 -6.285156 C 4.667969 -5.996094 4.8125 -5.640625 4.921875 -5.222656 C 5.03125 -4.804688 5.082031 -4.238281 5.082031 -3.53125 C 5.082031 -2.691406 4.996094 -2.011719 4.824219 -1.496094 C 4.652344 -0.980469 4.394531 -0.582031 4.050781 -0.300781 C 3.707031 -0.0195312 3.273438 0.121094 2.75 0.121094 C 2.058594 0.121094 1.515625 -0.125 1.125 -0.621094 C 0.652344 -1.214844 0.414062 -2.1875 0.414062 -3.53125 M 1.320312 -3.53125 C 1.320312 -2.355469 1.457031 -1.574219 1.730469 -1.183594 C 2.007812 -0.796875 2.34375 -0.601562 2.75 -0.601562 C 3.152344 -0.601562 3.492188 -0.796875 3.765625 -1.1875 C 4.042969 -1.578125 4.179688 -2.359375 4.179688 -3.53125 C 4.179688 -4.707031 4.042969 -5.492188 3.765625 -5.878906 C 3.492188 -6.265625 3.148438 -6.460938 2.738281 -6.460938 C 2.335938 -6.460938 2.011719 -6.289062 1.773438 -5.945312 C 1.46875 -5.511719 1.320312 -4.707031 1.320312 -3.53125 Z M 1.320312 -3.53125 \"/>\n",
       "</g>\n",
       "<g id=\"glyph-0-8\">\n",
       "<path d=\"M 1.765625 -3.882812 C 1.402344 -4.015625 1.132812 -4.207031 0.957031 -4.453125 C 0.78125 -4.699219 0.695312 -4.996094 0.695312 -5.34375 C 0.695312 -5.863281 0.878906 -6.300781 1.253906 -6.65625 C 1.628906 -7.011719 2.128906 -7.1875 2.75 -7.1875 C 3.375 -7.1875 3.875 -7.007812 4.257812 -6.644531 C 4.640625 -6.28125 4.828125 -5.839844 4.828125 -5.316406 C 4.828125 -4.984375 4.742188 -4.695312 4.566406 -4.449219 C 4.394531 -4.203125 4.128906 -4.015625 3.773438 -3.882812 C 4.214844 -3.738281 4.546875 -3.507812 4.777344 -3.1875 C 5.007812 -2.871094 5.121094 -2.488281 5.121094 -2.046875 C 5.121094 -1.433594 4.90625 -0.917969 4.472656 -0.503906 C 4.039062 -0.0859375 3.46875 0.121094 2.765625 0.121094 C 2.058594 0.121094 1.488281 -0.0859375 1.054688 -0.503906 C 0.621094 -0.921875 0.40625 -1.445312 0.40625 -2.070312 C 0.40625 -2.535156 0.523438 -2.925781 0.757812 -3.238281 C 0.996094 -3.554688 1.332031 -3.769531 1.765625 -3.882812 M 1.59375 -5.371094 C 1.59375 -5.03125 1.699219 -4.753906 1.917969 -4.539062 C 2.136719 -4.324219 2.421875 -4.21875 2.769531 -4.21875 C 3.105469 -4.21875 3.382812 -4.324219 3.601562 -4.539062 C 3.816406 -4.75 3.925781 -5.011719 3.925781 -5.320312 C 3.925781 -5.644531 3.8125 -5.914062 3.589844 -6.136719 C 3.367188 -6.355469 3.089844 -6.464844 2.757812 -6.464844 C 2.421875 -6.464844 2.144531 -6.359375 1.921875 -6.140625 C 1.703125 -5.929688 1.59375 -5.671875 1.59375 -5.371094 M 1.308594 -2.066406 C 1.308594 -1.816406 1.367188 -1.570312 1.488281 -1.335938 C 1.605469 -1.101562 1.78125 -0.921875 2.015625 -0.792969 C 2.25 -0.664062 2.503906 -0.601562 2.773438 -0.601562 C 3.195312 -0.601562 3.539062 -0.734375 3.8125 -1.007812 C 4.085938 -1.277344 4.222656 -1.621094 4.222656 -2.035156 C 4.222656 -2.460938 4.082031 -2.808594 3.800781 -3.085938 C 3.519531 -3.363281 3.167969 -3.5 2.742188 -3.5 C 2.332031 -3.5 1.988281 -3.363281 1.714844 -3.089844 C 1.445312 -2.816406 1.308594 -2.476562 1.308594 -2.066406 Z M 1.308594 -2.066406 \"/>\n",
       "</g>\n",
       "<g id=\"glyph-0-9\">\n",
       "<path d=\"M 3.726562 0 L 2.847656 0 L 2.847656 -5.601562 C 2.636719 -5.398438 2.359375 -5.195312 2.015625 -4.996094 C 1.671875 -4.792969 1.363281 -4.640625 1.089844 -4.539062 L 1.089844 -5.390625 C 1.582031 -5.621094 2.011719 -5.902344 2.378906 -6.230469 C 2.746094 -6.558594 3.007812 -6.878906 3.160156 -7.1875 L 3.726562 -7.1875 Z M 3.726562 0 \"/>\n",
       "</g>\n",
       "<g id=\"glyph-0-10\">\n",
       "<path d=\"M 0.546875 -1.65625 L 1.390625 -1.734375 C 1.464844 -1.335938 1.601562 -1.046875 1.800781 -0.867188 C 2.003906 -0.691406 2.261719 -0.601562 2.578125 -0.601562 C 2.847656 -0.601562 3.085938 -0.664062 3.289062 -0.785156 C 3.492188 -0.910156 3.660156 -1.074219 3.789062 -1.28125 C 3.917969 -1.488281 4.027344 -1.765625 4.117188 -2.117188 C 4.203125 -2.46875 4.246094 -2.828125 4.25 -3.195312 C 4.246094 -3.234375 4.246094 -3.289062 4.242188 -3.367188 C 4.066406 -3.089844 3.828125 -2.863281 3.523438 -2.6875 C 3.21875 -2.515625 2.890625 -2.425781 2.535156 -2.425781 C 1.941406 -2.425781 1.441406 -2.640625 1.03125 -3.070312 C 0.621094 -3.5 0.414062 -4.066406 0.414062 -4.769531 C 0.414062 -5.496094 0.628906 -6.082031 1.058594 -6.523438 C 1.484375 -6.964844 2.023438 -7.1875 2.664062 -7.1875 C 3.132812 -7.1875 3.558594 -7.0625 3.941406 -6.8125 C 4.328125 -6.5625 4.621094 -6.203125 4.820312 -5.738281 C 5.023438 -5.277344 5.121094 -4.605469 5.121094 -3.726562 C 5.121094 -2.8125 5.023438 -2.082031 4.824219 -1.539062 C 4.625 -1 4.332031 -0.585938 3.9375 -0.304688 C 3.546875 -0.0195312 3.085938 0.121094 2.558594 0.121094 C 2 0.121094 1.542969 -0.0351562 1.1875 -0.34375 C 0.832031 -0.65625 0.617188 -1.09375 0.546875 -1.65625 M 4.144531 -4.8125 C 4.144531 -5.320312 4.011719 -5.71875 3.742188 -6.015625 C 3.472656 -6.3125 3.152344 -6.460938 2.773438 -6.460938 C 2.382812 -6.460938 2.042969 -6.300781 1.753906 -5.980469 C 1.464844 -5.664062 1.320312 -5.25 1.320312 -4.742188 C 1.320312 -4.285156 1.457031 -3.914062 1.730469 -3.628906 C 2.007812 -3.34375 2.34375 -3.203125 2.75 -3.203125 C 3.15625 -3.203125 3.492188 -3.34375 3.753906 -3.628906 C 4.015625 -3.914062 4.144531 -4.308594 4.144531 -4.8125 Z M 4.144531 -4.8125 \"/>\n",
       "</g>\n",
       "</g>\n",
       "</defs>\n",
       "<rect x=\"-80\" y=\"-80\" width=\"960\" height=\"960\" fill=\"rgb(100%, 100%, 100%)\" fill-opacity=\"1\"/>\n",
       "<path fill=\"none\" stroke-width=\"1\" stroke-linecap=\"butt\" stroke-linejoin=\"miter\" stroke=\"rgb(26.666667%, 26.666667%, 26.666667%)\" stroke-opacity=\"1\" stroke-miterlimit=\"10\" d=\"M 528.164062 657.835938 L 481.898438 556.054688 \"/>\n",
       "<path fill-rule=\"nonzero\" fill=\"rgb(26.666667%, 26.666667%, 26.666667%)\" fill-opacity=\"1\" d=\"M 475.992188 543.066406 L 486.117188 554.132812 L 477.675781 557.972656 L 475.992188 543.066406 \"/>\n",
       "<path fill=\"none\" stroke-width=\"1\" stroke-linecap=\"butt\" stroke-linejoin=\"miter\" stroke=\"rgb(26.666667%, 26.666667%, 26.666667%)\" stroke-opacity=\"1\" stroke-miterlimit=\"10\" d=\"M 204.007812 718.550781 L 297.332031 768.542969 \"/>\n",
       "<path fill-rule=\"nonzero\" fill=\"rgb(26.666667%, 26.666667%, 26.666667%)\" fill-opacity=\"1\" d=\"M 309.90625 775.277344 L 295.140625 772.628906 L 299.519531 764.457031 L 309.90625 775.277344 \"/>\n",
       "<path fill=\"none\" stroke-width=\"1\" stroke-linecap=\"butt\" stroke-linejoin=\"miter\" stroke=\"rgb(26.666667%, 26.666667%, 26.666667%)\" stroke-opacity=\"1\" stroke-miterlimit=\"10\" d=\"M 20 494.984375 L 119.445312 461.347656 \"/>\n",
       "<path fill-rule=\"nonzero\" fill=\"rgb(26.666667%, 26.666667%, 26.666667%)\" fill-opacity=\"1\" d=\"M 132.960938 456.777344 L 120.929688 465.738281 L 117.960938 456.957031 L 132.960938 456.777344 \"/>\n",
       "<path fill=\"none\" stroke-width=\"1\" stroke-linecap=\"butt\" stroke-linejoin=\"miter\" stroke=\"rgb(26.666667%, 26.666667%, 26.666667%)\" stroke-opacity=\"1\" stroke-miterlimit=\"10\" d=\"M 686.851562 235.808594 L 680.097656 138.394531 \"/>\n",
       "<path fill-rule=\"nonzero\" fill=\"rgb(26.666667%, 26.666667%, 26.666667%)\" fill-opacity=\"1\" d=\"M 679.109375 124.164062 L 684.722656 138.074219 L 675.472656 138.714844 L 679.109375 124.164062 \"/>\n",
       "<path fill=\"none\" stroke-width=\"1\" stroke-linecap=\"butt\" stroke-linejoin=\"miter\" stroke=\"rgb(26.666667%, 26.666667%, 26.666667%)\" stroke-opacity=\"1\" stroke-miterlimit=\"10\" d=\"M 404.464844 20 L 400.015625 123.023438 \"/>\n",
       "<path fill-rule=\"nonzero\" fill=\"rgb(26.666667%, 26.666667%, 26.666667%)\" fill-opacity=\"1\" d=\"M 399.398438 137.277344 L 395.382812 122.824219 L 404.644531 123.222656 L 399.398438 137.277344 \"/>\n",
       "<path fill=\"none\" stroke-width=\"1\" stroke-linecap=\"butt\" stroke-linejoin=\"miter\" stroke=\"rgb(26.666667%, 26.666667%, 26.666667%)\" stroke-opacity=\"1\" stroke-miterlimit=\"10\" d=\"M 780 455.644531 L 762.34375 556.589844 \"/>\n",
       "<path fill-rule=\"nonzero\" fill=\"rgb(26.666667%, 26.666667%, 26.666667%)\" fill-opacity=\"1\" d=\"M 759.882812 570.644531 L 757.777344 555.792969 L 766.910156 557.390625 L 759.882812 570.644531 \"/>\n",
       "<path fill=\"none\" stroke-width=\"1\" stroke-linecap=\"butt\" stroke-linejoin=\"miter\" stroke=\"rgb(26.666667%, 26.666667%, 26.666667%)\" stroke-opacity=\"1\" stroke-miterlimit=\"10\" d=\"M 140.070312 116.820312 L 78.105469 196.144531 \"/>\n",
       "<path fill-rule=\"nonzero\" fill=\"rgb(26.666667%, 26.666667%, 26.666667%)\" fill-opacity=\"1\" d=\"M 69.324219 207.386719 L 74.453125 193.289062 L 81.757812 198.996094 L 69.324219 207.386719 \"/>\n",
       "<path fill-rule=\"nonzero\" fill=\"rgb(100%, 0%, 0%)\" fill-opacity=\"1\" stroke-width=\"1\" stroke-linecap=\"butt\" stroke-linejoin=\"miter\" stroke=\"rgb(0%, 0%, 0%)\" stroke-opacity=\"1\" stroke-miterlimit=\"10\" d=\"M 538.164062 657.835938 C 538.164062 663.359375 533.6875 667.835938 528.164062 667.835938 C 522.640625 667.835938 518.164062 663.359375 518.164062 657.835938 C 518.164062 652.316406 522.640625 647.835938 528.164062 647.835938 C 533.6875 647.835938 538.164062 652.316406 538.164062 657.835938 \"/>\n",
       "<path fill-rule=\"nonzero\" fill=\"rgb(100%, 0%, 0%)\" fill-opacity=\"1\" stroke-width=\"1\" stroke-linecap=\"butt\" stroke-linejoin=\"miter\" stroke=\"rgb(0%, 0%, 0%)\" stroke-opacity=\"1\" stroke-miterlimit=\"10\" d=\"M 481.855469 533.960938 C 481.855469 539.484375 477.378906 543.960938 471.855469 543.960938 C 466.332031 543.960938 461.855469 539.484375 461.855469 533.960938 C 461.855469 528.4375 466.332031 523.960938 471.855469 523.960938 C 477.378906 523.960938 481.855469 528.4375 481.855469 533.960938 \"/>\n",
       "<path fill-rule=\"nonzero\" fill=\"rgb(100%, 0%, 0%)\" fill-opacity=\"1\" stroke-width=\"1\" stroke-linecap=\"butt\" stroke-linejoin=\"miter\" stroke=\"rgb(0%, 0%, 0%)\" stroke-opacity=\"1\" stroke-miterlimit=\"10\" d=\"M 214.007812 718.550781 C 214.007812 724.070312 209.53125 728.550781 204.007812 728.550781 C 198.484375 728.550781 194.007812 724.070312 194.007812 718.550781 C 194.007812 713.027344 198.484375 708.550781 204.007812 708.550781 C 209.53125 708.550781 214.007812 713.027344 214.007812 718.550781 \"/>\n",
       "<path fill-rule=\"nonzero\" fill=\"rgb(100%, 0%, 0%)\" fill-opacity=\"1\" stroke-width=\"1\" stroke-linecap=\"butt\" stroke-linejoin=\"miter\" stroke=\"rgb(0%, 0%, 0%)\" stroke-opacity=\"1\" stroke-miterlimit=\"10\" d=\"M 328.722656 780 C 328.722656 785.523438 324.242188 790 318.722656 790 C 313.199219 790 308.722656 785.523438 308.722656 780 C 308.722656 774.476562 313.199219 770 318.722656 770 C 324.242188 770 328.722656 774.476562 328.722656 780 \"/>\n",
       "<path fill-rule=\"nonzero\" fill=\"rgb(100%, 0%, 0%)\" fill-opacity=\"1\" stroke-width=\"1\" stroke-linecap=\"butt\" stroke-linejoin=\"miter\" stroke=\"rgb(0%, 0%, 0%)\" stroke-opacity=\"1\" stroke-miterlimit=\"10\" d=\"M 30 494.984375 C 30 500.507812 25.523438 504.984375 20 504.984375 C 14.476562 504.984375 10 500.507812 10 494.984375 C 10 489.460938 14.476562 484.984375 20 484.984375 C 25.523438 484.984375 30 489.460938 30 494.984375 \"/>\n",
       "<path fill-rule=\"nonzero\" fill=\"rgb(100%, 0%, 0%)\" fill-opacity=\"1\" stroke-width=\"1\" stroke-linecap=\"butt\" stroke-linejoin=\"miter\" stroke=\"rgb(0%, 0%, 0%)\" stroke-opacity=\"1\" stroke-miterlimit=\"10\" d=\"M 152.433594 453.574219 C 152.433594 459.097656 147.957031 463.574219 142.433594 463.574219 C 136.910156 463.574219 132.433594 459.097656 132.433594 453.574219 C 132.433594 448.050781 136.910156 443.574219 142.433594 443.574219 C 147.957031 443.574219 152.433594 448.050781 152.433594 453.574219 \"/>\n",
       "<path fill-rule=\"nonzero\" fill=\"rgb(100%, 0%, 0%)\" fill-opacity=\"1\" stroke-width=\"1\" stroke-linecap=\"butt\" stroke-linejoin=\"miter\" stroke=\"rgb(0%, 0%, 0%)\" stroke-opacity=\"1\" stroke-miterlimit=\"10\" d=\"M 696.851562 235.808594 C 696.851562 241.328125 692.375 245.808594 686.851562 245.808594 C 681.328125 245.808594 676.851562 241.328125 676.851562 235.808594 C 676.851562 230.285156 681.328125 225.808594 686.851562 225.808594 C 692.375 225.808594 696.851562 230.285156 696.851562 235.808594 \"/>\n",
       "<path fill-rule=\"nonzero\" fill=\"rgb(100%, 0%, 0%)\" fill-opacity=\"1\" stroke-width=\"1\" stroke-linecap=\"butt\" stroke-linejoin=\"miter\" stroke=\"rgb(0%, 0%, 0%)\" stroke-opacity=\"1\" stroke-miterlimit=\"10\" d=\"M 688.417969 114.1875 C 688.417969 119.710938 683.941406 124.1875 678.417969 124.1875 C 672.894531 124.1875 668.417969 119.710938 668.417969 114.1875 C 668.417969 108.664062 672.894531 104.1875 678.417969 104.1875 C 683.941406 104.1875 688.417969 108.664062 688.417969 114.1875 \"/>\n",
       "<path fill-rule=\"nonzero\" fill=\"rgb(100%, 0%, 0%)\" fill-opacity=\"1\" stroke-width=\"1\" stroke-linecap=\"butt\" stroke-linejoin=\"miter\" stroke=\"rgb(0%, 0%, 0%)\" stroke-opacity=\"1\" stroke-miterlimit=\"10\" d=\"M 414.464844 20 C 414.464844 25.523438 409.988281 30 404.464844 30 C 398.941406 30 394.464844 25.523438 394.464844 20 C 394.464844 14.476562 398.941406 10 404.464844 10 C 409.988281 10 414.464844 14.476562 414.464844 20 \"/>\n",
       "<path fill-rule=\"nonzero\" fill=\"rgb(100%, 0%, 0%)\" fill-opacity=\"1\" stroke-width=\"1\" stroke-linecap=\"butt\" stroke-linejoin=\"miter\" stroke=\"rgb(0%, 0%, 0%)\" stroke-opacity=\"1\" stroke-miterlimit=\"10\" d=\"M 408.96875 147.265625 C 408.96875 152.789062 404.492188 157.265625 398.96875 157.265625 C 393.445312 157.265625 388.96875 152.789062 388.96875 147.265625 C 388.96875 141.746094 393.445312 137.265625 398.96875 137.265625 C 404.492188 137.265625 408.96875 141.746094 408.96875 147.265625 \"/>\n",
       "<path fill-rule=\"nonzero\" fill=\"rgb(100%, 0%, 0%)\" fill-opacity=\"1\" stroke-width=\"1\" stroke-linecap=\"butt\" stroke-linejoin=\"miter\" stroke=\"rgb(0%, 0%, 0%)\" stroke-opacity=\"1\" stroke-miterlimit=\"10\" d=\"M 790 455.644531 C 790 461.164062 785.523438 465.644531 780 465.644531 C 774.476562 465.644531 770 461.164062 770 455.644531 C 770 450.121094 774.476562 445.644531 780 445.644531 C 785.523438 445.644531 790 450.121094 790 455.644531 \"/>\n",
       "<path fill-rule=\"nonzero\" fill=\"rgb(100%, 0%, 0%)\" fill-opacity=\"1\" stroke-width=\"1\" stroke-linecap=\"butt\" stroke-linejoin=\"miter\" stroke=\"rgb(0%, 0%, 0%)\" stroke-opacity=\"1\" stroke-miterlimit=\"10\" d=\"M 768.160156 580.492188 C 768.160156 586.015625 763.683594 590.492188 758.160156 590.492188 C 752.636719 590.492188 748.160156 586.015625 748.160156 580.492188 C 748.160156 574.972656 752.636719 570.492188 758.160156 570.492188 C 763.683594 570.492188 768.160156 574.972656 768.160156 580.492188 \"/>\n",
       "<path fill-rule=\"nonzero\" fill=\"rgb(100%, 0%, 0%)\" fill-opacity=\"1\" stroke-width=\"1\" stroke-linecap=\"butt\" stroke-linejoin=\"miter\" stroke=\"rgb(0%, 0%, 0%)\" stroke-opacity=\"1\" stroke-miterlimit=\"10\" d=\"M 150.070312 116.820312 C 150.070312 122.34375 145.59375 126.820312 140.070312 126.820312 C 134.546875 126.820312 130.070312 122.34375 130.070312 116.820312 C 130.070312 111.296875 134.546875 106.820312 140.070312 106.820312 C 145.59375 106.820312 150.070312 111.296875 150.070312 116.820312 \"/>\n",
       "<path fill-rule=\"nonzero\" fill=\"rgb(100%, 0%, 0%)\" fill-opacity=\"1\" stroke-width=\"1\" stroke-linecap=\"butt\" stroke-linejoin=\"miter\" stroke=\"rgb(0%, 0%, 0%)\" stroke-opacity=\"1\" stroke-miterlimit=\"10\" d=\"M 73.167969 215.265625 C 73.167969 220.789062 68.691406 225.265625 63.167969 225.265625 C 57.644531 225.265625 53.167969 220.789062 53.167969 215.265625 C 53.167969 209.742188 57.644531 205.265625 63.167969 205.265625 C 68.691406 205.265625 73.167969 209.742188 73.167969 215.265625 \"/>\n",
       "<g fill=\"rgb(0%, 0%, 0%)\" fill-opacity=\"1\">\n",
       "<use xlink:href=\"#glyph-0-0\" x=\"489.007812\" y=\"662.992188\"/>\n",
       "<use xlink:href=\"#glyph-0-1\" x=\"494.569336\" y=\"662.992188\"/>\n",
       "<use xlink:href=\"#glyph-0-2\" x=\"500.130859\" y=\"662.992188\"/>\n",
       "<use xlink:href=\"#glyph-0-3\" x=\"505.692383\" y=\"662.992188\"/>\n",
       "<use xlink:href=\"#glyph-0-2\" x=\"511.253906\" y=\"662.992188\"/>\n",
       "<use xlink:href=\"#glyph-0-1\" x=\"516.81543\" y=\"662.992188\"/>\n",
       "<use xlink:href=\"#glyph-0-4\" x=\"522.376953\" y=\"662.992188\"/>\n",
       "<use xlink:href=\"#glyph-0-4\" x=\"528.216797\" y=\"662.992188\"/>\n",
       "<use xlink:href=\"#glyph-0-0\" x=\"534.056641\" y=\"662.992188\"/>\n",
       "<use xlink:href=\"#glyph-0-3\" x=\"539.618164\" y=\"662.992188\"/>\n",
       "<use xlink:href=\"#glyph-0-3\" x=\"545.179688\" y=\"662.992188\"/>\n",
       "<use xlink:href=\"#glyph-0-5\" x=\"550.741211\" y=\"662.992188\"/>\n",
       "<use xlink:href=\"#glyph-0-2\" x=\"556.302734\" y=\"662.992188\"/>\n",
       "<use xlink:href=\"#glyph-0-1\" x=\"561.864258\" y=\"662.992188\"/>\n",
       "</g>\n",
       "<g fill=\"rgb(0%, 0%, 0%)\" fill-opacity=\"1\">\n",
       "<use xlink:href=\"#glyph-0-0\" x=\"432.679688\" y=\"539.117188\"/>\n",
       "<use xlink:href=\"#glyph-0-3\" x=\"438.241211\" y=\"539.117188\"/>\n",
       "<use xlink:href=\"#glyph-0-3\" x=\"443.802734\" y=\"539.117188\"/>\n",
       "<use xlink:href=\"#glyph-0-5\" x=\"449.364258\" y=\"539.117188\"/>\n",
       "<use xlink:href=\"#glyph-0-2\" x=\"454.925781\" y=\"539.117188\"/>\n",
       "<use xlink:href=\"#glyph-0-1\" x=\"460.487305\" y=\"539.117188\"/>\n",
       "<use xlink:href=\"#glyph-0-4\" x=\"466.048828\" y=\"539.117188\"/>\n",
       "<use xlink:href=\"#glyph-0-4\" x=\"471.888672\" y=\"539.117188\"/>\n",
       "<use xlink:href=\"#glyph-0-0\" x=\"477.728516\" y=\"539.117188\"/>\n",
       "<use xlink:href=\"#glyph-0-5\" x=\"483.290039\" y=\"539.117188\"/>\n",
       "<use xlink:href=\"#glyph-0-6\" x=\"488.851562\" y=\"539.117188\"/>\n",
       "<use xlink:href=\"#glyph-0-6\" x=\"494.413086\" y=\"539.117188\"/>\n",
       "<use xlink:href=\"#glyph-0-1\" x=\"499.974609\" y=\"539.117188\"/>\n",
       "<use xlink:href=\"#glyph-0-3\" x=\"505.536133\" y=\"539.117188\"/>\n",
       "</g>\n",
       "<g fill=\"rgb(0%, 0%, 0%)\" fill-opacity=\"1\">\n",
       "<use xlink:href=\"#glyph-0-1\" x=\"164.851562\" y=\"723.703125\"/>\n",
       "<use xlink:href=\"#glyph-0-5\" x=\"170.413086\" y=\"723.703125\"/>\n",
       "<use xlink:href=\"#glyph-0-7\" x=\"175.974609\" y=\"723.703125\"/>\n",
       "<use xlink:href=\"#glyph-0-3\" x=\"181.536133\" y=\"723.703125\"/>\n",
       "<use xlink:href=\"#glyph-0-8\" x=\"187.097656\" y=\"723.703125\"/>\n",
       "<use xlink:href=\"#glyph-0-4\" x=\"192.65918\" y=\"723.703125\"/>\n",
       "<use xlink:href=\"#glyph-0-4\" x=\"198.499023\" y=\"723.703125\"/>\n",
       "<use xlink:href=\"#glyph-0-9\" x=\"204.338867\" y=\"723.703125\"/>\n",
       "<use xlink:href=\"#glyph-0-7\" x=\"209.900391\" y=\"723.703125\"/>\n",
       "<use xlink:href=\"#glyph-0-9\" x=\"215.461914\" y=\"723.703125\"/>\n",
       "<use xlink:href=\"#glyph-0-6\" x=\"221.023438\" y=\"723.703125\"/>\n",
       "<use xlink:href=\"#glyph-0-7\" x=\"226.584961\" y=\"723.703125\"/>\n",
       "<use xlink:href=\"#glyph-0-8\" x=\"232.146484\" y=\"723.703125\"/>\n",
       "<use xlink:href=\"#glyph-0-6\" x=\"237.708008\" y=\"723.703125\"/>\n",
       "</g>\n",
       "<g fill=\"rgb(0%, 0%, 0%)\" fill-opacity=\"1\">\n",
       "<use xlink:href=\"#glyph-0-9\" x=\"273.632812\" y=\"785.152344\"/>\n",
       "<use xlink:href=\"#glyph-0-7\" x=\"279.194336\" y=\"785.152344\"/>\n",
       "<use xlink:href=\"#glyph-0-9\" x=\"284.755859\" y=\"785.152344\"/>\n",
       "<use xlink:href=\"#glyph-0-6\" x=\"290.317383\" y=\"785.152344\"/>\n",
       "<use xlink:href=\"#glyph-0-7\" x=\"295.878906\" y=\"785.152344\"/>\n",
       "<use xlink:href=\"#glyph-0-8\" x=\"301.44043\" y=\"785.152344\"/>\n",
       "<use xlink:href=\"#glyph-0-6\" x=\"307.001953\" y=\"785.152344\"/>\n",
       "<use xlink:href=\"#glyph-0-4\" x=\"312.563477\" y=\"785.152344\"/>\n",
       "<use xlink:href=\"#glyph-0-4\" x=\"318.40332\" y=\"785.152344\"/>\n",
       "<use xlink:href=\"#glyph-0-9\" x=\"324.243164\" y=\"785.152344\"/>\n",
       "<use xlink:href=\"#glyph-0-7\" x=\"329.804688\" y=\"785.152344\"/>\n",
       "<use xlink:href=\"#glyph-0-10\" x=\"335.366211\" y=\"785.152344\"/>\n",
       "<use xlink:href=\"#glyph-0-10\" x=\"340.927734\" y=\"785.152344\"/>\n",
       "<use xlink:href=\"#glyph-0-9\" x=\"346.489258\" y=\"785.152344\"/>\n",
       "<use xlink:href=\"#glyph-0-6\" x=\"352.050781\" y=\"785.152344\"/>\n",
       "<use xlink:href=\"#glyph-0-0\" x=\"357.612305\" y=\"785.152344\"/>\n",
       "</g>\n",
       "<g fill=\"rgb(0%, 0%, 0%)\" fill-opacity=\"1\">\n",
       "<use xlink:href=\"#glyph-0-0\" x=\"-19.191406\" y=\"500.136719\"/>\n",
       "<use xlink:href=\"#glyph-0-5\" x=\"-13.629883\" y=\"500.136719\"/>\n",
       "<use xlink:href=\"#glyph-0-2\" x=\"-8.068359\" y=\"500.136719\"/>\n",
       "<use xlink:href=\"#glyph-0-5\" x=\"-2.506836\" y=\"500.136719\"/>\n",
       "<use xlink:href=\"#glyph-0-3\" x=\"3.054688\" y=\"500.136719\"/>\n",
       "<use xlink:href=\"#glyph-0-5\" x=\"8.616211\" y=\"500.136719\"/>\n",
       "<use xlink:href=\"#glyph-0-4\" x=\"14.177734\" y=\"500.136719\"/>\n",
       "<use xlink:href=\"#glyph-0-4\" x=\"20.017578\" y=\"500.136719\"/>\n",
       "<use xlink:href=\"#glyph-0-6\" x=\"25.857422\" y=\"500.136719\"/>\n",
       "<use xlink:href=\"#glyph-0-0\" x=\"31.418945\" y=\"500.136719\"/>\n",
       "<use xlink:href=\"#glyph-0-6\" x=\"36.980469\" y=\"500.136719\"/>\n",
       "<use xlink:href=\"#glyph-0-6\" x=\"42.541992\" y=\"500.136719\"/>\n",
       "<use xlink:href=\"#glyph-0-8\" x=\"48.103516\" y=\"500.136719\"/>\n",
       "<use xlink:href=\"#glyph-0-2\" x=\"53.665039\" y=\"500.136719\"/>\n",
       "</g>\n",
       "<g fill=\"rgb(0%, 0%, 0%)\" fill-opacity=\"1\">\n",
       "<use xlink:href=\"#glyph-0-6\" x=\"103.242188\" y=\"458.726562\"/>\n",
       "<use xlink:href=\"#glyph-0-0\" x=\"108.803711\" y=\"458.726562\"/>\n",
       "<use xlink:href=\"#glyph-0-6\" x=\"114.365234\" y=\"458.726562\"/>\n",
       "<use xlink:href=\"#glyph-0-6\" x=\"119.926758\" y=\"458.726562\"/>\n",
       "<use xlink:href=\"#glyph-0-8\" x=\"125.488281\" y=\"458.726562\"/>\n",
       "<use xlink:href=\"#glyph-0-2\" x=\"131.049805\" y=\"458.726562\"/>\n",
       "<use xlink:href=\"#glyph-0-4\" x=\"136.611328\" y=\"458.726562\"/>\n",
       "<use xlink:href=\"#glyph-0-4\" x=\"142.451172\" y=\"458.726562\"/>\n",
       "<use xlink:href=\"#glyph-0-6\" x=\"148.291016\" y=\"458.726562\"/>\n",
       "<use xlink:href=\"#glyph-0-8\" x=\"153.852539\" y=\"458.726562\"/>\n",
       "<use xlink:href=\"#glyph-0-2\" x=\"159.414062\" y=\"458.726562\"/>\n",
       "<use xlink:href=\"#glyph-0-10\" x=\"164.975586\" y=\"458.726562\"/>\n",
       "<use xlink:href=\"#glyph-0-9\" x=\"170.537109\" y=\"458.726562\"/>\n",
       "<use xlink:href=\"#glyph-0-0\" x=\"176.098633\" y=\"458.726562\"/>\n",
       "</g>\n",
       "<g fill=\"rgb(0%, 0%, 0%)\" fill-opacity=\"1\">\n",
       "<use xlink:href=\"#glyph-0-3\" x=\"647.78125\" y=\"240.960938\"/>\n",
       "<use xlink:href=\"#glyph-0-2\" x=\"653.342773\" y=\"240.960938\"/>\n",
       "<use xlink:href=\"#glyph-0-5\" x=\"658.904297\" y=\"240.960938\"/>\n",
       "<use xlink:href=\"#glyph-0-9\" x=\"664.46582\" y=\"240.960938\"/>\n",
       "<use xlink:href=\"#glyph-0-3\" x=\"670.027344\" y=\"240.960938\"/>\n",
       "<use xlink:href=\"#glyph-0-6\" x=\"675.588867\" y=\"240.960938\"/>\n",
       "<use xlink:href=\"#glyph-0-4\" x=\"681.150391\" y=\"240.960938\"/>\n",
       "<use xlink:href=\"#glyph-0-4\" x=\"686.990234\" y=\"240.960938\"/>\n",
       "<use xlink:href=\"#glyph-0-6\" x=\"692.830078\" y=\"240.960938\"/>\n",
       "<use xlink:href=\"#glyph-0-5\" x=\"698.391602\" y=\"240.960938\"/>\n",
       "<use xlink:href=\"#glyph-0-7\" x=\"703.953125\" y=\"240.960938\"/>\n",
       "<use xlink:href=\"#glyph-0-9\" x=\"709.514648\" y=\"240.960938\"/>\n",
       "<use xlink:href=\"#glyph-0-5\" x=\"715.076172\" y=\"240.960938\"/>\n",
       "<use xlink:href=\"#glyph-0-6\" x=\"720.637695\" y=\"240.960938\"/>\n",
       "</g>\n",
       "<g fill=\"rgb(0%, 0%, 0%)\" fill-opacity=\"1\">\n",
       "<use xlink:href=\"#glyph-0-6\" x=\"639.230469\" y=\"119.339844\"/>\n",
       "<use xlink:href=\"#glyph-0-5\" x=\"644.791992\" y=\"119.339844\"/>\n",
       "<use xlink:href=\"#glyph-0-7\" x=\"650.353516\" y=\"119.339844\"/>\n",
       "<use xlink:href=\"#glyph-0-9\" x=\"655.915039\" y=\"119.339844\"/>\n",
       "<use xlink:href=\"#glyph-0-5\" x=\"661.476562\" y=\"119.339844\"/>\n",
       "<use xlink:href=\"#glyph-0-6\" x=\"667.038086\" y=\"119.339844\"/>\n",
       "<use xlink:href=\"#glyph-0-4\" x=\"672.599609\" y=\"119.339844\"/>\n",
       "<use xlink:href=\"#glyph-0-4\" x=\"678.439453\" y=\"119.339844\"/>\n",
       "<use xlink:href=\"#glyph-0-2\" x=\"684.279297\" y=\"119.339844\"/>\n",
       "<use xlink:href=\"#glyph-0-3\" x=\"689.84082\" y=\"119.339844\"/>\n",
       "<use xlink:href=\"#glyph-0-3\" x=\"695.402344\" y=\"119.339844\"/>\n",
       "<use xlink:href=\"#glyph-0-0\" x=\"700.963867\" y=\"119.339844\"/>\n",
       "<use xlink:href=\"#glyph-0-1\" x=\"706.525391\" y=\"119.339844\"/>\n",
       "<use xlink:href=\"#glyph-0-2\" x=\"712.086914\" y=\"119.339844\"/>\n",
       "</g>\n",
       "<g fill=\"rgb(0%, 0%, 0%)\" fill-opacity=\"1\">\n",
       "<use xlink:href=\"#glyph-0-3\" x=\"365.410156\" y=\"25.152344\"/>\n",
       "<use xlink:href=\"#glyph-0-10\" x=\"370.97168\" y=\"25.152344\"/>\n",
       "<use xlink:href=\"#glyph-0-5\" x=\"376.533203\" y=\"25.152344\"/>\n",
       "<use xlink:href=\"#glyph-0-1\" x=\"382.094727\" y=\"25.152344\"/>\n",
       "<use xlink:href=\"#glyph-0-10\" x=\"387.65625\" y=\"25.152344\"/>\n",
       "<use xlink:href=\"#glyph-0-3\" x=\"393.217773\" y=\"25.152344\"/>\n",
       "<use xlink:href=\"#glyph-0-4\" x=\"398.779297\" y=\"25.152344\"/>\n",
       "<use xlink:href=\"#glyph-0-4\" x=\"404.619141\" y=\"25.152344\"/>\n",
       "<use xlink:href=\"#glyph-0-8\" x=\"410.458984\" y=\"25.152344\"/>\n",
       "<use xlink:href=\"#glyph-0-10\" x=\"416.020508\" y=\"25.152344\"/>\n",
       "<use xlink:href=\"#glyph-0-10\" x=\"421.582031\" y=\"25.152344\"/>\n",
       "<use xlink:href=\"#glyph-0-9\" x=\"427.143555\" y=\"25.152344\"/>\n",
       "<use xlink:href=\"#glyph-0-10\" x=\"432.705078\" y=\"25.152344\"/>\n",
       "<use xlink:href=\"#glyph-0-8\" x=\"438.266602\" y=\"25.152344\"/>\n",
       "</g>\n",
       "<g fill=\"rgb(0%, 0%, 0%)\" fill-opacity=\"1\">\n",
       "<use xlink:href=\"#glyph-0-8\" x=\"356.976562\" y=\"152.421875\"/>\n",
       "<use xlink:href=\"#glyph-0-10\" x=\"362.538086\" y=\"152.421875\"/>\n",
       "<use xlink:href=\"#glyph-0-10\" x=\"368.099609\" y=\"152.421875\"/>\n",
       "<use xlink:href=\"#glyph-0-9\" x=\"373.661133\" y=\"152.421875\"/>\n",
       "<use xlink:href=\"#glyph-0-10\" x=\"379.222656\" y=\"152.421875\"/>\n",
       "<use xlink:href=\"#glyph-0-8\" x=\"384.78418\" y=\"152.421875\"/>\n",
       "<use xlink:href=\"#glyph-0-4\" x=\"390.345703\" y=\"152.421875\"/>\n",
       "<use xlink:href=\"#glyph-0-4\" x=\"396.185547\" y=\"152.421875\"/>\n",
       "<use xlink:href=\"#glyph-0-9\" x=\"402.025391\" y=\"152.421875\"/>\n",
       "<use xlink:href=\"#glyph-0-7\" x=\"407.586914\" y=\"152.421875\"/>\n",
       "<use xlink:href=\"#glyph-0-0\" x=\"413.148438\" y=\"152.421875\"/>\n",
       "<use xlink:href=\"#glyph-0-5\" x=\"418.709961\" y=\"152.421875\"/>\n",
       "<use xlink:href=\"#glyph-0-8\" x=\"424.271484\" y=\"152.421875\"/>\n",
       "<use xlink:href=\"#glyph-0-8\" x=\"429.833008\" y=\"152.421875\"/>\n",
       "<use xlink:href=\"#glyph-0-6\" x=\"435.394531\" y=\"152.421875\"/>\n",
       "</g>\n",
       "<g fill=\"rgb(0%, 0%, 0%)\" fill-opacity=\"1\">\n",
       "<use xlink:href=\"#glyph-0-1\" x=\"740.863281\" y=\"460.796875\"/>\n",
       "<use xlink:href=\"#glyph-0-5\" x=\"746.424805\" y=\"460.796875\"/>\n",
       "<use xlink:href=\"#glyph-0-1\" x=\"751.986328\" y=\"460.796875\"/>\n",
       "<use xlink:href=\"#glyph-0-9\" x=\"757.547852\" y=\"460.796875\"/>\n",
       "<use xlink:href=\"#glyph-0-2\" x=\"763.109375\" y=\"460.796875\"/>\n",
       "<use xlink:href=\"#glyph-0-1\" x=\"768.670898\" y=\"460.796875\"/>\n",
       "<use xlink:href=\"#glyph-0-4\" x=\"774.232422\" y=\"460.796875\"/>\n",
       "<use xlink:href=\"#glyph-0-4\" x=\"780.072266\" y=\"460.796875\"/>\n",
       "<use xlink:href=\"#glyph-0-1\" x=\"785.912109\" y=\"460.796875\"/>\n",
       "<use xlink:href=\"#glyph-0-5\" x=\"791.473633\" y=\"460.796875\"/>\n",
       "<use xlink:href=\"#glyph-0-1\" x=\"797.035156\" y=\"460.796875\"/>\n",
       "<use xlink:href=\"#glyph-0-9\" x=\"802.59668\" y=\"460.796875\"/>\n",
       "<use xlink:href=\"#glyph-0-5\" x=\"808.158203\" y=\"460.796875\"/>\n",
       "<use xlink:href=\"#glyph-0-10\" x=\"813.719727\" y=\"460.796875\"/>\n",
       "</g>\n",
       "<g fill=\"rgb(0%, 0%, 0%)\" fill-opacity=\"1\">\n",
       "<use xlink:href=\"#glyph-0-1\" x=\"716.246094\" y=\"585.648438\"/>\n",
       "<use xlink:href=\"#glyph-0-5\" x=\"721.807617\" y=\"585.648438\"/>\n",
       "<use xlink:href=\"#glyph-0-1\" x=\"727.369141\" y=\"585.648438\"/>\n",
       "<use xlink:href=\"#glyph-0-9\" x=\"732.930664\" y=\"585.648438\"/>\n",
       "<use xlink:href=\"#glyph-0-5\" x=\"738.492188\" y=\"585.648438\"/>\n",
       "<use xlink:href=\"#glyph-0-10\" x=\"744.053711\" y=\"585.648438\"/>\n",
       "<use xlink:href=\"#glyph-0-4\" x=\"749.615234\" y=\"585.648438\"/>\n",
       "<use xlink:href=\"#glyph-0-4\" x=\"755.455078\" y=\"585.648438\"/>\n",
       "<use xlink:href=\"#glyph-0-9\" x=\"761.294922\" y=\"585.648438\"/>\n",
       "<use xlink:href=\"#glyph-0-7\" x=\"766.856445\" y=\"585.648438\"/>\n",
       "<use xlink:href=\"#glyph-0-3\" x=\"772.417969\" y=\"585.648438\"/>\n",
       "<use xlink:href=\"#glyph-0-3\" x=\"777.979492\" y=\"585.648438\"/>\n",
       "<use xlink:href=\"#glyph-0-6\" x=\"783.541016\" y=\"585.648438\"/>\n",
       "<use xlink:href=\"#glyph-0-1\" x=\"789.102539\" y=\"585.648438\"/>\n",
       "<use xlink:href=\"#glyph-0-8\" x=\"794.664062\" y=\"585.648438\"/>\n",
       "</g>\n",
       "<g fill=\"rgb(0%, 0%, 0%)\" fill-opacity=\"1\">\n",
       "<use xlink:href=\"#glyph-0-2\" x=\"101.542969\" y=\"121.972656\"/>\n",
       "<use xlink:href=\"#glyph-0-5\" x=\"107.104492\" y=\"121.972656\"/>\n",
       "<use xlink:href=\"#glyph-0-2\" x=\"112.666016\" y=\"121.972656\"/>\n",
       "<use xlink:href=\"#glyph-0-5\" x=\"118.227539\" y=\"121.972656\"/>\n",
       "<use xlink:href=\"#glyph-0-2\" x=\"123.789062\" y=\"121.972656\"/>\n",
       "<use xlink:href=\"#glyph-0-10\" x=\"129.350586\" y=\"121.972656\"/>\n",
       "<use xlink:href=\"#glyph-0-4\" x=\"134.912109\" y=\"121.972656\"/>\n",
       "<use xlink:href=\"#glyph-0-4\" x=\"140.751953\" y=\"121.972656\"/>\n",
       "<use xlink:href=\"#glyph-0-10\" x=\"146.591797\" y=\"121.972656\"/>\n",
       "<use xlink:href=\"#glyph-0-7\" x=\"152.15332\" y=\"121.972656\"/>\n",
       "<use xlink:href=\"#glyph-0-9\" x=\"157.714844\" y=\"121.972656\"/>\n",
       "<use xlink:href=\"#glyph-0-7\" x=\"163.276367\" y=\"121.972656\"/>\n",
       "<use xlink:href=\"#glyph-0-0\" x=\"168.837891\" y=\"121.972656\"/>\n",
       "<use xlink:href=\"#glyph-0-9\" x=\"174.399414\" y=\"121.972656\"/>\n",
       "</g>\n",
       "<g fill=\"rgb(0%, 0%, 0%)\" fill-opacity=\"1\">\n",
       "<use xlink:href=\"#glyph-0-10\" x=\"23.980469\" y=\"220.417969\"/>\n",
       "<use xlink:href=\"#glyph-0-7\" x=\"29.541992\" y=\"220.417969\"/>\n",
       "<use xlink:href=\"#glyph-0-9\" x=\"35.103516\" y=\"220.417969\"/>\n",
       "<use xlink:href=\"#glyph-0-7\" x=\"40.665039\" y=\"220.417969\"/>\n",
       "<use xlink:href=\"#glyph-0-0\" x=\"46.226562\" y=\"220.417969\"/>\n",
       "<use xlink:href=\"#glyph-0-9\" x=\"51.788086\" y=\"220.417969\"/>\n",
       "<use xlink:href=\"#glyph-0-4\" x=\"57.349609\" y=\"220.417969\"/>\n",
       "<use xlink:href=\"#glyph-0-4\" x=\"63.189453\" y=\"220.417969\"/>\n",
       "<use xlink:href=\"#glyph-0-10\" x=\"69.029297\" y=\"220.417969\"/>\n",
       "<use xlink:href=\"#glyph-0-8\" x=\"74.59082\" y=\"220.417969\"/>\n",
       "<use xlink:href=\"#glyph-0-6\" x=\"80.152344\" y=\"220.417969\"/>\n",
       "<use xlink:href=\"#glyph-0-5\" x=\"85.713867\" y=\"220.417969\"/>\n",
       "<use xlink:href=\"#glyph-0-5\" x=\"91.275391\" y=\"220.417969\"/>\n",
       "<use xlink:href=\"#glyph-0-0\" x=\"96.836914\" y=\"220.417969\"/>\n",
       "</g>\n",
       "</svg>\n"
      ],
      "text/plain": [
       "<igraph.drawing.Plot at 0x138b4624790>"
      ]
     },
     "execution_count": 26,
     "metadata": {
      "image/svg+xml": {
       "isolated": true
      }
     },
     "output_type": "execute_result"
    }
   ],
   "source": [
    "from igraph import Graph, plot\n",
    "import pandas as pd\n",
    "\n",
    "# Assuming `second_order_edges` is a Polars DataFrame already loaded and processed\n",
    "# Sample the first 7 edges (adjust as necessary)\n",
    "sample_edges = second_order_edges.head(7).to_pandas()\n",
    "\n",
    "# Create an igraph graph from the edge list (using 'src' and 'dst')\n",
    "g = Graph.TupleList(\n",
    "    sample_edges[[\"src\", \"dst\"]].itertuples(index=False),\n",
    "    directed=True\n",
    ")\n",
    "\n",
    "# Add edge attributes (e.g., 'moment' from the sample edges)\n",
    "g.es[\"moment\"] = sample_edges[\"moment\"].tolist()\n",
    "\n",
    "# Set node labels\n",
    "g.vs[\"label\"] = g.vs[\"name\"]\n",
    "\n",
    "# Define visual style for the plot\n",
    "visual_style = {\n",
    "    \"vertex_size\": 20,  # size of the vertices\n",
    "    \"vertex_label_size\": 10,  # size of the vertex labels\n",
    "    \"bbox\": (800, 800),  # size of the plot\n",
    "    \"margin\": 20,  # margin around the plot\n",
    "}\n",
    "\n",
    "# Use a force-directed layout (Fruchterman-Reingold)\n",
    "layout_coords = g.layout(\"fr\")  # or \"kk\" for Kamada-Kawai\n",
    "visual_style[\"layout\"] = layout_coords\n",
    "\n",
    "# Plot the graph\n",
    "plot(g, **visual_style)\n"
   ]
  },
  {
   "cell_type": "markdown",
   "metadata": {},
   "source": [
    "# 3. Weight calculation through the 2nd order graph\n",
    "\n",
    "(and applying the weights to the graph in the end of section 2.)"
   ]
  },
  {
   "cell_type": "markdown",
   "metadata": {},
   "source": [
    "Steps explained:\n",
    "\n",
    "1. We create the dataframe `edges_with_amount` which has the columns: \n",
    "    * `src` and `dst`, \n",
    "    * `amount_src`, `amount_dst`"
   ]
  },
  {
   "cell_type": "code",
   "execution_count": 32,
   "metadata": {},
   "outputs": [],
   "source": [
    "# Define input and output locations\n",
    "edges_location = os.path.join(data_location, \"edges\")\n",
    "nodes_location = os.path.join(data_location, \"nodes\")\n",
    "weighted_edges_location = os.path.join(data_location, \"edges-weighted\")\n",
    "os.makedirs(weighted_edges_location, exist_ok=True)\n",
    "\n",
    "# Function to compute edge weights\n",
    "def compute_edge_weights(edges_df, nodes_df):\n",
    "    # Join edges with node amounts\n",
    "    edges_with_amounts = (\n",
    "        edges_df\n",
    "        .join(nodes_df.select([\"id\", \"amount\"]), left_on=\"src\", right_on=\"id\", how=\"left\")\n",
    "        .rename({\"amount\": \"amount_src\"})\n",
    "        .join(nodes_df.select([\"id\", \"amount\"]), left_on=\"dst\", right_on=\"id\", how=\"left\")\n",
    "        .rename({\"amount\": \"amount_dst\"})\n",
    "    )\n",
    "    \n",
    "    # Compute ratios\n",
    "    edges_with_amounts = edges_with_amounts.with_columns([\n",
    "        (pl.col(\"amount_src\") / pl.col(\"amount_dst\")).alias(\"ratio_ij\"),\n",
    "        (pl.col(\"amount_dst\") / pl.col(\"amount_src\")).alias(\"ratio_ji\")\n",
    "    ])\n",
    "    \n",
    "    # Compute sums for normalizing\n",
    "    sum_ij = edges_with_amounts.group_by(\"src\").agg(pl.sum(\"ratio_ij\").alias(\"sum_ij\"))\n",
    "    sum_ji = edges_with_amounts.group_by(\"dst\").agg(pl.sum(\"ratio_ji\").alias(\"sum_ji\"))\n",
    "    \n",
    "    # Join sums\n",
    "    edges_with_amounts = (\n",
    "        edges_with_amounts\n",
    "        .join(sum_ij, on=\"src\", how=\"left\")\n",
    "        .join(sum_ji, on=\"dst\", how=\"left\")\n",
    "        .fill_null(0)  # Ensure no null values\n",
    "    )\n",
    "    \n",
    "    # Compute probabilities\n",
    "    edges_with_probs = edges_with_amounts.with_columns([\n",
    "        pl.when(pl.col(\"sum_ij\") > 0).then(pl.col(\"ratio_ij\") / pl.col(\"sum_ij\")).otherwise(0).alias(\"p_ij\"),\n",
    "        pl.when(pl.col(\"sum_ji\") > 0).then(pl.col(\"ratio_ji\") / pl.col(\"sum_ji\")).otherwise(0).alias(\"p_ji\")\n",
    "    ])\n",
    "    \n",
    "    # Compute final weights\n",
    "    edges_with_weights = edges_with_probs.with_columns([\n",
    "        pl.max_horizontal([\"p_ij\", \"p_ji\"]).alias(\"weight\")\n",
    "    ]).select([\"src\", \"dst\", \"weight\", \"src_date\", \"dst_date\"])\n",
    "    \n",
    "    return edges_with_weights\n",
    "\n",
    "# Process all edge partitions\n",
    "for src_date_dir in os.listdir(edges_location):\n",
    "    src_date_path = os.path.join(edges_location, src_date_dir)\n",
    "    if os.path.isdir(src_date_path):\n",
    "        for dst_date_dir in os.listdir(src_date_path):\n",
    "            dst_date_path = os.path.join(src_date_path, dst_date_dir)\n",
    "            if os.path.isdir(dst_date_path):\n",
    "                \n",
    "                # Load edges\n",
    "                edges_files = [os.path.join(dst_date_path, f) for f in os.listdir(dst_date_path) if f.endswith(\".parquet\")]\n",
    "                edges_df = pl.read_parquet(edges_files)\n",
    "                \n",
    "                # Load corresponding node data\n",
    "                src_nodes_path = os.path.join(nodes_location, f\"transaction_date={src_date_dir.split('=')[1]}\")\n",
    "                dst_nodes_path = os.path.join(nodes_location, f\"transaction_date={dst_date_dir.split('=')[1]}\")\n",
    "                node_files = [os.path.join(src_nodes_path, f) for f in os.listdir(src_nodes_path) if f.endswith(\".parquet\")]\n",
    "                node_files += [os.path.join(dst_nodes_path, f) for f in os.listdir(dst_nodes_path) if f.endswith(\".parquet\")]\n",
    "                nodes_df = pl.read_parquet(node_files)\n",
    "                \n",
    "                # Compute weights\n",
    "                weighted_edges = compute_edge_weights(edges_df, nodes_df)\n",
    "                \n",
    "                # Save partitioned\n",
    "                save_path = os.path.join(weighted_edges_location, f\"src_date={src_date_dir.split('=')[1]}\", f\"dst_date={dst_date_dir.split('=')[1]}\")\n",
    "                os.makedirs(save_path, exist_ok=True)\n",
    "                weighted_edges.write_parquet(os.path.join(save_path, \"00000000.parquet\"))\n",
    "\n"
   ]
  },
  {
   "cell_type": "code",
   "execution_count": 51,
   "metadata": {},
   "outputs": [
    {
     "data": {
      "text/html": [
       "<div><style>\n",
       ".dataframe > thead > tr,\n",
       ".dataframe > tbody > tr {\n",
       "  text-align: right;\n",
       "  white-space: pre-wrap;\n",
       "}\n",
       "</style>\n",
       "<small>shape: (5, 5)</small><table border=\"1\" class=\"dataframe\"><thead><tr><th>src</th><th>dst</th><th>weight</th><th>src_date</th><th>dst_date</th></tr><tr><td>u32</td><td>u32</td><td>f64</td><td>date</td><td>date</td></tr></thead><tbody><tr><td>4962232</td><td>4962234</td><td>0.25</td><td>2022-09-18</td><td>2022-09-18</td></tr><tr><td>4962232</td><td>4962234</td><td>0.25</td><td>2022-09-18</td><td>2022-09-18</td></tr><tr><td>4962232</td><td>4962234</td><td>0.25</td><td>2022-09-18</td><td>2022-09-18</td></tr><tr><td>4962232</td><td>4962234</td><td>0.25</td><td>2022-09-18</td><td>2022-09-18</td></tr><tr><td>4962232</td><td>4962235</td><td>0.25</td><td>2022-09-18</td><td>2022-09-18</td></tr></tbody></table></div>"
      ],
      "text/plain": [
       "shape: (5, 5)\n",
       "┌─────────┬─────────┬────────┬────────────┬────────────┐\n",
       "│ src     ┆ dst     ┆ weight ┆ src_date   ┆ dst_date   │\n",
       "│ ---     ┆ ---     ┆ ---    ┆ ---        ┆ ---        │\n",
       "│ u32     ┆ u32     ┆ f64    ┆ date       ┆ date       │\n",
       "╞═════════╪═════════╪════════╪════════════╪════════════╡\n",
       "│ 4962232 ┆ 4962234 ┆ 0.25   ┆ 2022-09-18 ┆ 2022-09-18 │\n",
       "│ 4962232 ┆ 4962234 ┆ 0.25   ┆ 2022-09-18 ┆ 2022-09-18 │\n",
       "│ 4962232 ┆ 4962234 ┆ 0.25   ┆ 2022-09-18 ┆ 2022-09-18 │\n",
       "│ 4962232 ┆ 4962234 ┆ 0.25   ┆ 2022-09-18 ┆ 2022-09-18 │\n",
       "│ 4962232 ┆ 4962235 ┆ 0.25   ┆ 2022-09-18 ┆ 2022-09-18 │\n",
       "└─────────┴─────────┴────────┴────────────┴────────────┘"
      ]
     },
     "execution_count": 51,
     "metadata": {},
     "output_type": "execute_result"
    }
   ],
   "source": [
    "weighted_edges.head()"
   ]
  },
  {
   "cell_type": "markdown",
   "metadata": {},
   "source": [
    "# 4. Community detection"
   ]
  },
  {
   "cell_type": "markdown",
   "metadata": {},
   "source": [
    "# 5. Anomalous comunity detection"
   ]
  }
 ],
 "metadata": {
  "kernelspec": {
   "display_name": "nwks_env_2",
   "language": "python",
   "name": "python3"
  },
  "language_info": {
   "codemirror_mode": {
    "name": "ipython",
    "version": 3
   },
   "file_extension": ".py",
   "mimetype": "text/x-python",
   "name": "python",
   "nbconvert_exporter": "python",
   "pygments_lexer": "ipython3",
   "version": "3.8.18"
  }
 },
 "nbformat": 4,
 "nbformat_minor": 2
}
