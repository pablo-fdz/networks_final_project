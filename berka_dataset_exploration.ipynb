{
 "cells": [
  {
   "cell_type": "markdown",
   "metadata": {},
   "source": [
    "# Librares"
   ]
  },
  {
   "cell_type": "code",
   "execution_count": 1,
   "metadata": {},
   "outputs": [],
   "source": [
    "import pandas as pd"
   ]
  },
  {
   "cell_type": "markdown",
   "metadata": {},
   "source": [
    "# Data sources\n",
    "\n",
    "- Original source of the data: https://webpages.charlotte.edu/mirsad/itcs6265/group1/domain.html. Some relevant information:\n",
    "  - \"The Berka dataset is a collection of financial information from a Czech bank. The dataset deals with over 5,300 bank clients with approximately 1,000,000 transactions. Additionally, the bank represented in the dataset has extended close to 700 loans and issued nearly 900 credit cards, all of which are represented in the data.\" \n",
    "    - Note that to replicate the results of Tariq and Hassani (2023) but with this dataset, only the bank transactions are relevant (and not the issued loans and credit cards).\n",
    "    - According to Tariq and Hassani (2023), we need 5 variables to implement their algorithm (pp. 6-7):\n",
    "      - *transaction_id*: unique identifier for a transaction.\n",
    "      - *transaction_timestamp*, as the Unix time for the transaction.\n",
    "      - *account_identifiers* for both the sender and the receiver of a transaction.\n",
    "      - *amount*: amount involved in the transaction.\n",
    "    - Tables of interest from the dataset, considering the previous variables:\n",
    "      - *transaction*: each record describes one transaction on an account.\n",
    "    - Potential problems of this dataset:\n",
    "      1. The data is much less extensive than the one they use in Tariq and Hassani (2023), where they initially deal with 1.1 billion transactions.\n",
    "      2. In contrast to the data used in Tariq and Hassani (2023), **all of the data comes from a single Czech bank** (there are no operations between banks), which may significantly limit the analysis. This does not mean, however, that the bank of origin of the transaction is the same as the bank of the destination, as the dataset considers this potential distinction.\n",
    "      3. We have the *date* of the transaction, but not the *time* as Unix time.\n",
    "      4. Only has credit card transactions.\n",
    "- Source for data download: https://www.kaggle.com/datasets/marceloventura/the-berka-dataset\n",
    "\n",
    "Alternative datasets that could overcome some of the problems of the Berka dataset:\n",
    "- Synthetic transaction data from IBM: https://www.kaggle.com/datasets/ealtman2019/ibm-transactions-for-anti-money-laundering-aml. Source paper for the generation of this data: https://arxiv.org/abs/2306.16424\n",
    "  - Advantages:\n",
    "    - Labelled.\n",
    "    - Realistic.\n",
    "    - Has all of the necessary data, including a timestamp (up to the minute detail).\n",
    "    - Huge dataset.\n",
    "  - Disadvantages:\n",
    "    - Synthetic.\n",
    "- Anti Money Laundering Transaction Data (SAML-D): https://www.kaggle.com/datasets/berkanoztas/synthetic-transaction-monitoring-dataset-aml. Source paper for the generation of this data: https://ieeexplore.ieee.org/document/10356193\n",
    "  - Advantages:\n",
    "    - Labelled.\n",
    "    - Realistic.\n",
    "    - Has all of the necessary data, including a timestamp (up to the second detail).\n",
    "    - Huge dataset.\n",
    "  - Disadvantages:\n",
    "    - Synthetic."
   ]
  },
  {
   "cell_type": "markdown",
   "metadata": {},
   "source": [
    "# Importing the data"
   ]
  },
  {
   "cell_type": "code",
   "execution_count": 7,
   "metadata": {},
   "outputs": [
    {
     "data": {
      "text/html": [
       "<div>\n",
       "<style scoped>\n",
       "    .dataframe tbody tr th:only-of-type {\n",
       "        vertical-align: middle;\n",
       "    }\n",
       "\n",
       "    .dataframe tbody tr th {\n",
       "        vertical-align: top;\n",
       "    }\n",
       "\n",
       "    .dataframe thead th {\n",
       "        text-align: right;\n",
       "    }\n",
       "</style>\n",
       "<table border=\"1\" class=\"dataframe\">\n",
       "  <thead>\n",
       "    <tr style=\"text-align: right;\">\n",
       "      <th></th>\n",
       "      <th>trans_id</th>\n",
       "      <th>account_id</th>\n",
       "      <th>date</th>\n",
       "      <th>type</th>\n",
       "      <th>operation</th>\n",
       "      <th>amount</th>\n",
       "      <th>balance</th>\n",
       "      <th>k_symbol</th>\n",
       "      <th>bank</th>\n",
       "      <th>account</th>\n",
       "    </tr>\n",
       "  </thead>\n",
       "  <tbody>\n",
       "    <tr>\n",
       "      <th>0</th>\n",
       "      <td>695247</td>\n",
       "      <td>2378</td>\n",
       "      <td>930101</td>\n",
       "      <td>PRIJEM</td>\n",
       "      <td>VKLAD</td>\n",
       "      <td>700.0</td>\n",
       "      <td>700.0</td>\n",
       "      <td>NaN</td>\n",
       "      <td>NaN</td>\n",
       "      <td>NaN</td>\n",
       "    </tr>\n",
       "    <tr>\n",
       "      <th>1</th>\n",
       "      <td>171812</td>\n",
       "      <td>576</td>\n",
       "      <td>930101</td>\n",
       "      <td>PRIJEM</td>\n",
       "      <td>VKLAD</td>\n",
       "      <td>900.0</td>\n",
       "      <td>900.0</td>\n",
       "      <td>NaN</td>\n",
       "      <td>NaN</td>\n",
       "      <td>NaN</td>\n",
       "    </tr>\n",
       "    <tr>\n",
       "      <th>2</th>\n",
       "      <td>207264</td>\n",
       "      <td>704</td>\n",
       "      <td>930101</td>\n",
       "      <td>PRIJEM</td>\n",
       "      <td>VKLAD</td>\n",
       "      <td>1000.0</td>\n",
       "      <td>1000.0</td>\n",
       "      <td>NaN</td>\n",
       "      <td>NaN</td>\n",
       "      <td>NaN</td>\n",
       "    </tr>\n",
       "    <tr>\n",
       "      <th>3</th>\n",
       "      <td>1117247</td>\n",
       "      <td>3818</td>\n",
       "      <td>930101</td>\n",
       "      <td>PRIJEM</td>\n",
       "      <td>VKLAD</td>\n",
       "      <td>600.0</td>\n",
       "      <td>600.0</td>\n",
       "      <td>NaN</td>\n",
       "      <td>NaN</td>\n",
       "      <td>NaN</td>\n",
       "    </tr>\n",
       "    <tr>\n",
       "      <th>4</th>\n",
       "      <td>579373</td>\n",
       "      <td>1972</td>\n",
       "      <td>930102</td>\n",
       "      <td>PRIJEM</td>\n",
       "      <td>VKLAD</td>\n",
       "      <td>400.0</td>\n",
       "      <td>400.0</td>\n",
       "      <td>NaN</td>\n",
       "      <td>NaN</td>\n",
       "      <td>NaN</td>\n",
       "    </tr>\n",
       "  </tbody>\n",
       "</table>\n",
       "</div>"
      ],
      "text/plain": [
       "   trans_id  account_id    date    type operation  amount  balance k_symbol  \\\n",
       "0    695247        2378  930101  PRIJEM     VKLAD   700.0    700.0      NaN   \n",
       "1    171812         576  930101  PRIJEM     VKLAD   900.0    900.0      NaN   \n",
       "2    207264         704  930101  PRIJEM     VKLAD  1000.0   1000.0      NaN   \n",
       "3   1117247        3818  930101  PRIJEM     VKLAD   600.0    600.0      NaN   \n",
       "4    579373        1972  930102  PRIJEM     VKLAD   400.0    400.0      NaN   \n",
       "\n",
       "  bank  account  \n",
       "0  NaN      NaN  \n",
       "1  NaN      NaN  \n",
       "2  NaN      NaN  \n",
       "3  NaN      NaN  \n",
       "4  NaN      NaN  "
      ]
     },
     "execution_count": 7,
     "metadata": {},
     "output_type": "execute_result"
    }
   ],
   "source": [
    "transactions = pd.read_csv('berka_dataset/trans.csv', delimiter = ';', \n",
    "                           low_memory = False)\n",
    "\n",
    "transactions.head()"
   ]
  },
  {
   "cell_type": "code",
   "execution_count": null,
   "metadata": {},
   "outputs": [],
   "source": [
    "# Remove uninteresting columns (see https://webpages.charlotte.edu/mirsad/itcs6265/group1/transaction_domain.html)\n",
    "\n",
    "transactions = transactions.drop(columns = ['balance', 'operation', 'k_symbol'])\n",
    "\n",
    "transactions.head()"
   ]
  },
  {
   "cell_type": "code",
   "execution_count": 11,
   "metadata": {},
   "outputs": [
    {
     "name": "stdout",
     "output_type": "stream",
     "text": [
      "<class 'pandas.core.frame.DataFrame'>\n",
      "RangeIndex: 1056320 entries, 0 to 1056319\n",
      "Data columns (total 7 columns):\n",
      " #   Column      Non-Null Count    Dtype  \n",
      "---  ------      --------------    -----  \n",
      " 0   trans_id    1056320 non-null  int64  \n",
      " 1   account_id  1056320 non-null  int64  \n",
      " 2   date        1056320 non-null  int64  \n",
      " 3   type        1056320 non-null  object \n",
      " 4   amount      1056320 non-null  float64\n",
      " 5   bank        273508 non-null   object \n",
      " 6   account     295389 non-null   float64\n",
      "dtypes: float64(2), int64(3), object(2)\n",
      "memory usage: 56.4+ MB\n"
     ]
    }
   ],
   "source": [
    "transactions.info()"
   ]
  },
  {
   "cell_type": "markdown",
   "metadata": {},
   "source": [
    "Note how there are several null values in `account`, which denotes the account of the destination transaction! This means that the amount of usable data that we have is, in fact, much smaller than the original data. Only the non-null destination account numbers are usable."
   ]
  },
  {
   "cell_type": "code",
   "execution_count": 12,
   "metadata": {},
   "outputs": [
    {
     "data": {
      "text/html": [
       "<div>\n",
       "<style scoped>\n",
       "    .dataframe tbody tr th:only-of-type {\n",
       "        vertical-align: middle;\n",
       "    }\n",
       "\n",
       "    .dataframe tbody tr th {\n",
       "        vertical-align: top;\n",
       "    }\n",
       "\n",
       "    .dataframe thead th {\n",
       "        text-align: right;\n",
       "    }\n",
       "</style>\n",
       "<table border=\"1\" class=\"dataframe\">\n",
       "  <thead>\n",
       "    <tr style=\"text-align: right;\">\n",
       "      <th></th>\n",
       "      <th>trans_id</th>\n",
       "      <th>account_id</th>\n",
       "      <th>date</th>\n",
       "      <th>type</th>\n",
       "      <th>amount</th>\n",
       "      <th>bank</th>\n",
       "      <th>account</th>\n",
       "    </tr>\n",
       "  </thead>\n",
       "  <tbody>\n",
       "    <tr>\n",
       "      <th>15</th>\n",
       "      <td>637742</td>\n",
       "      <td>2177</td>\n",
       "      <td>930105</td>\n",
       "      <td>PRIJEM</td>\n",
       "      <td>5123.0</td>\n",
       "      <td>YZ</td>\n",
       "      <td>62457513.0</td>\n",
       "    </tr>\n",
       "    <tr>\n",
       "      <th>17</th>\n",
       "      <td>232961</td>\n",
       "      <td>793</td>\n",
       "      <td>930105</td>\n",
       "      <td>PRIJEM</td>\n",
       "      <td>3401.0</td>\n",
       "      <td>IJ</td>\n",
       "      <td>6149286.0</td>\n",
       "    </tr>\n",
       "    <tr>\n",
       "      <th>21</th>\n",
       "      <td>542216</td>\n",
       "      <td>1844</td>\n",
       "      <td>930107</td>\n",
       "      <td>PRIJEM</td>\n",
       "      <td>3242.0</td>\n",
       "      <td>ST</td>\n",
       "      <td>42988401.0</td>\n",
       "    </tr>\n",
       "    <tr>\n",
       "      <th>24</th>\n",
       "      <td>579374</td>\n",
       "      <td>1972</td>\n",
       "      <td>930107</td>\n",
       "      <td>PRIJEM</td>\n",
       "      <td>5298.0</td>\n",
       "      <td>UV</td>\n",
       "      <td>14132887.0</td>\n",
       "    </tr>\n",
       "    <tr>\n",
       "      <th>46</th>\n",
       "      <td>1049882</td>\n",
       "      <td>3592</td>\n",
       "      <td>930110</td>\n",
       "      <td>PRIJEM</td>\n",
       "      <td>6007.0</td>\n",
       "      <td>MN</td>\n",
       "      <td>73166322.0</td>\n",
       "    </tr>\n",
       "  </tbody>\n",
       "</table>\n",
       "</div>"
      ],
      "text/plain": [
       "    trans_id  account_id    date    type  amount bank     account\n",
       "15    637742        2177  930105  PRIJEM  5123.0   YZ  62457513.0\n",
       "17    232961         793  930105  PRIJEM  3401.0   IJ   6149286.0\n",
       "21    542216        1844  930107  PRIJEM  3242.0   ST  42988401.0\n",
       "24    579374        1972  930107  PRIJEM  5298.0   UV  14132887.0\n",
       "46   1049882        3592  930110  PRIJEM  6007.0   MN  73166322.0"
      ]
     },
     "execution_count": 12,
     "metadata": {},
     "output_type": "execute_result"
    }
   ],
   "source": [
    "transactions = transactions.dropna(subset = ['account'])\n",
    "\n",
    "transactions.head()"
   ]
  },
  {
   "cell_type": "code",
   "execution_count": 15,
   "metadata": {},
   "outputs": [
    {
     "name": "stdout",
     "output_type": "stream",
     "text": [
      "Number of distinct origin accounts: 3941\n",
      "\n",
      "Number of distinct destination accounts: 7665\n",
      "\n",
      "Total number of nodes (unique bank accounts): 9084\n",
      "\n",
      "Total number of edges (transactions): 295389\n"
     ]
    }
   ],
   "source": [
    "# Number of distinct origin and destination accounts\n",
    "print(f'Number of distinct origin accounts: {transactions['account_id'].nunique()}\\n')\n",
    "print(f'Number of distinct destination accounts: {transactions['account'].nunique()}\\n')\n",
    "print(f'Total number of nodes (unique bank accounts): {(transactions['account_id'] + transactions['account']).nunique()}\\n')\n",
    "print(f'Total number of edges (transactions): {len(transactions)}')"
   ]
  }
 ],
 "metadata": {
  "kernelspec": {
   "display_name": "networks2",
   "language": "python",
   "name": "python3"
  },
  "language_info": {
   "codemirror_mode": {
    "name": "ipython",
    "version": 3
   },
   "file_extension": ".py",
   "mimetype": "text/x-python",
   "name": "python",
   "nbconvert_exporter": "python",
   "pygments_lexer": "ipython3",
   "version": "3.13.2"
  }
 },
 "nbformat": 4,
 "nbformat_minor": 2
}
