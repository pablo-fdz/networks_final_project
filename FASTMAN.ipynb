{
 "cells": [
  {
   "cell_type": "code",
   "execution_count": null,
   "metadata": {},
   "outputs": [
    {
     "name": "stdout",
     "output_type": "stream",
     "text": [
      "Collecting matplotlib==3.4.3\n",
      "  Using cached matplotlib-3.4.3-cp38-cp38-win_amd64.whl.metadata (5.7 kB)\n",
      "Collecting cycler>=0.10 (from matplotlib==3.4.3)\n",
      "  Downloading cycler-0.12.1-py3-none-any.whl.metadata (3.8 kB)\n",
      "Collecting kiwisolver>=1.0.1 (from matplotlib==3.4.3)\n",
      "  Downloading kiwisolver-1.4.7-cp38-cp38-win_amd64.whl.metadata (6.4 kB)\n",
      "Collecting numpy>=1.16 (from matplotlib==3.4.3)\n",
      "  Downloading numpy-1.24.4-cp38-cp38-win_amd64.whl.metadata (5.6 kB)\n",
      "Collecting pillow>=6.2.0 (from matplotlib==3.4.3)\n",
      "  Downloading pillow-10.4.0-cp38-cp38-win_amd64.whl.metadata (9.3 kB)\n",
      "Collecting pyparsing>=2.2.1 (from matplotlib==3.4.3)\n",
      "  Using cached pyparsing-3.1.4-py3-none-any.whl.metadata (5.1 kB)\n",
      "Requirement already satisfied: python-dateutil>=2.7 in c:\\users\\blanc\\miniconda3\\envs\\nwks_env_2\\lib\\site-packages (from matplotlib==3.4.3) (2.9.0)\n",
      "Requirement already satisfied: six>=1.5 in c:\\users\\blanc\\miniconda3\\envs\\nwks_env_2\\lib\\site-packages (from python-dateutil>=2.7->matplotlib==3.4.3) (1.16.0)\n",
      "Using cached matplotlib-3.4.3-cp38-cp38-win_amd64.whl (7.1 MB)\n",
      "Downloading cycler-0.12.1-py3-none-any.whl (8.3 kB)\n",
      "Downloading kiwisolver-1.4.7-cp38-cp38-win_amd64.whl (55 kB)\n",
      "Downloading numpy-1.24.4-cp38-cp38-win_amd64.whl (14.9 MB)\n",
      "   ---------------------------------------- 0.0/14.9 MB ? eta -:--:--\n",
      "    --------------------------------------- 0.3/14.9 MB ? eta -:--:--\n",
      "   ------ --------------------------------- 2.4/14.9 MB 8.4 MB/s eta 0:00:02\n",
      "   ----------- ---------------------------- 4.5/14.9 MB 9.3 MB/s eta 0:00:02\n",
      "   ------------------- -------------------- 7.1/14.9 MB 9.9 MB/s eta 0:00:01\n",
      "   --------------------------- ------------ 10.2/14.9 MB 11.2 MB/s eta 0:00:01\n",
      "   ---------------------------------- ----- 12.8/14.9 MB 11.7 MB/s eta 0:00:01\n",
      "   ---------------------------------------- 14.9/14.9 MB 11.7 MB/s eta 0:00:00\n",
      "Downloading pillow-10.4.0-cp38-cp38-win_amd64.whl (2.6 MB)\n",
      "   ---------------------------------------- 0.0/2.6 MB ? eta -:--:--\n",
      "   ---------------------------------------- 2.6/2.6 MB 12.2 MB/s eta 0:00:00\n",
      "Using cached pyparsing-3.1.4-py3-none-any.whl (104 kB)\n",
      "Installing collected packages: pyparsing, pillow, numpy, kiwisolver, cycler, matplotlib\n",
      "Successfully installed cycler-0.12.1 kiwisolver-1.4.7 matplotlib-3.4.3 numpy-1.24.4 pillow-10.4.0 pyparsing-3.1.4\n",
      "Collecting networkx==2.6.3\n",
      "  Using cached networkx-2.6.3-py3-none-any.whl.metadata (5.0 kB)\n",
      "Using cached networkx-2.6.3-py3-none-any.whl (1.9 MB)\n",
      "Installing collected packages: networkx\n",
      "Successfully installed networkx-2.6.3\n",
      "Collecting pandas==1.4.1\n",
      "  Using cached pandas-1.4.1-cp38-cp38-win_amd64.whl.metadata (12 kB)\n",
      "Requirement already satisfied: python-dateutil>=2.8.1 in c:\\users\\blanc\\miniconda3\\envs\\nwks_env_2\\lib\\site-packages (from pandas==1.4.1) (2.9.0)\n",
      "Collecting pytz>=2020.1 (from pandas==1.4.1)\n",
      "  Using cached pytz-2025.1-py2.py3-none-any.whl.metadata (22 kB)\n",
      "Requirement already satisfied: numpy>=1.18.5 in c:\\users\\blanc\\miniconda3\\envs\\nwks_env_2\\lib\\site-packages (from pandas==1.4.1) (1.24.4)\n",
      "Requirement already satisfied: six>=1.5 in c:\\users\\blanc\\miniconda3\\envs\\nwks_env_2\\lib\\site-packages (from python-dateutil>=2.8.1->pandas==1.4.1) (1.16.0)\n",
      "Using cached pandas-1.4.1-cp38-cp38-win_amd64.whl (10.6 MB)\n",
      "Using cached pytz-2025.1-py2.py3-none-any.whl (507 kB)\n",
      "Installing collected packages: pytz, pandas\n",
      "Successfully installed pandas-1.4.1 pytz-2025.1\n",
      "Collecting pyspark==3.2.0\n",
      "  Using cached pyspark-3.2.0-py2.py3-none-any.whl\n",
      "Collecting py4j==0.10.9.2 (from pyspark==3.2.0)\n",
      "  Using cached py4j-0.10.9.2-py2.py3-none-any.whl.metadata (1.3 kB)\n",
      "Using cached py4j-0.10.9.2-py2.py3-none-any.whl (198 kB)\n",
      "Installing collected packages: py4j, pyspark\n",
      "Successfully installed py4j-0.10.9.2 pyspark-3.2.0\n",
      "Collecting graphframes==0.6\n",
      "  Using cached graphframes-0.6-py2.py3-none-any.whl.metadata (934 bytes)\n",
      "Requirement already satisfied: numpy in c:\\users\\blanc\\miniconda3\\envs\\nwks_env_2\\lib\\site-packages (from graphframes==0.6) (1.24.4)\n",
      "Collecting nose (from graphframes==0.6)\n",
      "  Using cached nose-1.3.7-py3-none-any.whl.metadata (1.7 kB)\n",
      "Using cached graphframes-0.6-py2.py3-none-any.whl (18 kB)\n",
      "Using cached nose-1.3.7-py3-none-any.whl (154 kB)\n",
      "Installing collected packages: nose, graphframes\n",
      "Successfully installed graphframes-0.6 nose-1.3.7\n",
      "Collecting leidenalg==0.9.1\n",
      "  Using cached leidenalg-0.9.1-cp38-cp38-win_amd64.whl.metadata (1.5 kB)\n",
      "Collecting igraph<0.11,>=0.10.0 (from leidenalg==0.9.1)\n",
      "  Using cached igraph-0.10.8-cp38-cp38-win_amd64.whl.metadata (3.9 kB)\n",
      "Collecting texttable>=1.6.2 (from igraph<0.11,>=0.10.0->leidenalg==0.9.1)\n",
      "  Using cached texttable-1.7.0-py2.py3-none-any.whl.metadata (9.8 kB)\n",
      "Using cached leidenalg-0.9.1-cp38-cp38-win_amd64.whl (103 kB)\n",
      "Using cached igraph-0.10.8-cp38-cp38-win_amd64.whl (2.9 MB)\n",
      "Using cached texttable-1.7.0-py2.py3-none-any.whl (10 kB)\n",
      "Installing collected packages: texttable, igraph, leidenalg\n",
      "Successfully installed igraph-0.10.8 leidenalg-0.9.1 texttable-1.7.0\n"
     ]
    }
   ],
   "source": [
    "#! pip install matplotlib==3.4.3\n",
    "#! pip install networkx==2.6.3\n",
    "#! pip install pandas==1.4.1\n",
    "#! pip install pyspark==3.2.0\n",
    "#! pip install graphframes==0.6\n",
    "#! pip install leidenalg==0.9.1"
   ]
  },
  {
   "cell_type": "code",
   "execution_count": 9,
   "metadata": {},
   "outputs": [],
   "source": [
    "import os\n",
    "import shutil\n",
    "from io import StringIO\n",
    "from datetime import datetime, timedelta\n",
    "\n",
    "import igraph as ig\n",
    "import networkx as nx\n",
    "import pandas as pd\n",
    "import leidenalg as la\n",
    "import polars as pl\n",
    "\n",
    "#from pyspark.sql import functions as sf\n",
    "#from pyspark import SparkConf\n",
    "#from pyspark.sql import SparkSession\n",
    "#from graphframes import GraphFrame"
   ]
  },
  {
   "cell_type": "code",
   "execution_count": null,
   "metadata": {},
   "outputs": [
    {
     "name": "stdout",
     "output_type": "stream",
     "text": [
      "Subset saved to c:\\Users\\blanc\\OneDrive\\Desktop\\DSDM\\2-Networks\\networks_final\\networks_final_project/../HI-Small_Trans_Subset.parquet\n"
     ]
    }
   ],
   "source": [
    "cwd = os.getcwd()\n",
    "df = pl.read_parquet(cwd + '/../HI-Small_Trans_Subset.parquet')\n",
    "\n",
    "#subset = df.head(300000)\n",
    "\n",
    "# Specify the output path for the new Parquet file\n",
    "#output_path = cwd + '/../HI-Small_Trans_Subset.parquet'\n",
    "\n",
    "# Write the subset DataFrame to a Parquet file\n",
    "#subset.write_parquet(output_path)\n",
    "\n",
    "#print(f\"Subset saved to {output_path}\")"
   ]
  },
  {
   "cell_type": "code",
   "execution_count": null,
   "metadata": {},
   "outputs": [
    {
     "name": "stderr",
     "output_type": "stream",
     "text": [
      "C:\\Users\\blanc\\AppData\\Local\\Temp\\ipykernel_24960\\3410914437.py:1: DeprecationWarning: `DataFrame.with_row_count` is deprecated. Use `with_row_index` instead. Note that the default column name has changed from 'row_nr' to 'index'.\n",
      "  df = subset.with_row_count(name=\"id\")\n"
     ]
    },
    {
     "data": {
      "text/html": [
       "<div><style>\n",
       ".dataframe > thead > tr,\n",
       ".dataframe > tbody > tr {\n",
       "  text-align: right;\n",
       "  white-space: pre-wrap;\n",
       "}\n",
       "</style>\n",
       "<small>shape: (5, 12)</small><table border=\"1\" class=\"dataframe\"><thead><tr><th>id</th><th>Timestamp</th><th>From Bank</th><th>Account</th><th>To Bank</th><th>Account.1</th><th>Amount Received</th><th>Receiving Currency</th><th>Amount Paid</th><th>Payment Currency</th><th>Payment Format</th><th>Is Laundering</th></tr><tr><td>u32</td><td>str</td><td>i64</td><td>str</td><td>i64</td><td>str</td><td>f64</td><td>str</td><td>f64</td><td>str</td><td>str</td><td>i64</td></tr></thead><tbody><tr><td>0</td><td>&quot;2022/09/01 00:20&quot;</td><td>10</td><td>&quot;8000EBD30&quot;</td><td>10</td><td>&quot;8000EBD30&quot;</td><td>3697.34</td><td>&quot;US Dollar&quot;</td><td>3697.34</td><td>&quot;US Dollar&quot;</td><td>&quot;Reinvestment&quot;</td><td>0</td></tr><tr><td>1</td><td>&quot;2022/09/01 00:20&quot;</td><td>3208</td><td>&quot;8000F4580&quot;</td><td>1</td><td>&quot;8000F5340&quot;</td><td>0.01</td><td>&quot;US Dollar&quot;</td><td>0.01</td><td>&quot;US Dollar&quot;</td><td>&quot;Cheque&quot;</td><td>0</td></tr><tr><td>2</td><td>&quot;2022/09/01 00:00&quot;</td><td>3209</td><td>&quot;8000F4670&quot;</td><td>3209</td><td>&quot;8000F4670&quot;</td><td>14675.57</td><td>&quot;US Dollar&quot;</td><td>14675.57</td><td>&quot;US Dollar&quot;</td><td>&quot;Reinvestment&quot;</td><td>0</td></tr><tr><td>3</td><td>&quot;2022/09/01 00:02&quot;</td><td>12</td><td>&quot;8000F5030&quot;</td><td>12</td><td>&quot;8000F5030&quot;</td><td>2806.97</td><td>&quot;US Dollar&quot;</td><td>2806.97</td><td>&quot;US Dollar&quot;</td><td>&quot;Reinvestment&quot;</td><td>0</td></tr><tr><td>4</td><td>&quot;2022/09/01 00:06&quot;</td><td>10</td><td>&quot;8000F5200&quot;</td><td>10</td><td>&quot;8000F5200&quot;</td><td>36682.97</td><td>&quot;US Dollar&quot;</td><td>36682.97</td><td>&quot;US Dollar&quot;</td><td>&quot;Reinvestment&quot;</td><td>0</td></tr></tbody></table></div>"
      ],
      "text/plain": [
       "shape: (5, 12)\n",
       "┌─────┬────────────┬───────────┬───────────┬───┬────────────┬────────────┬────────────┬────────────┐\n",
       "│ id  ┆ Timestamp  ┆ From Bank ┆ Account   ┆ … ┆ Amount     ┆ Payment    ┆ Payment    ┆ Is         │\n",
       "│ --- ┆ ---        ┆ ---       ┆ ---       ┆   ┆ Paid       ┆ Currency   ┆ Format     ┆ Laundering │\n",
       "│ u32 ┆ str        ┆ i64       ┆ str       ┆   ┆ ---        ┆ ---        ┆ ---        ┆ ---        │\n",
       "│     ┆            ┆           ┆           ┆   ┆ f64        ┆ str        ┆ str        ┆ i64        │\n",
       "╞═════╪════════════╪═══════════╪═══════════╪═══╪════════════╪════════════╪════════════╪════════════╡\n",
       "│ 0   ┆ 2022/09/01 ┆ 10        ┆ 8000EBD30 ┆ … ┆ 3697.34    ┆ US Dollar  ┆ Reinvestme ┆ 0          │\n",
       "│     ┆ 00:20      ┆           ┆           ┆   ┆            ┆            ┆ nt         ┆            │\n",
       "│ 1   ┆ 2022/09/01 ┆ 3208      ┆ 8000F4580 ┆ … ┆ 0.01       ┆ US Dollar  ┆ Cheque     ┆ 0          │\n",
       "│     ┆ 00:20      ┆           ┆           ┆   ┆            ┆            ┆            ┆            │\n",
       "│ 2   ┆ 2022/09/01 ┆ 3209      ┆ 8000F4670 ┆ … ┆ 14675.57   ┆ US Dollar  ┆ Reinvestme ┆ 0          │\n",
       "│     ┆ 00:00      ┆           ┆           ┆   ┆            ┆            ┆ nt         ┆            │\n",
       "│ 3   ┆ 2022/09/01 ┆ 12        ┆ 8000F5030 ┆ … ┆ 2806.97    ┆ US Dollar  ┆ Reinvestme ┆ 0          │\n",
       "│     ┆ 00:02      ┆           ┆           ┆   ┆            ┆            ┆ nt         ┆            │\n",
       "│ 4   ┆ 2022/09/01 ┆ 10        ┆ 8000F5200 ┆ … ┆ 36682.97   ┆ US Dollar  ┆ Reinvestme ┆ 0          │\n",
       "│     ┆ 00:06      ┆           ┆           ┆   ┆            ┆            ┆ nt         ┆            │\n",
       "└─────┴────────────┴───────────┴───────────┴───┴────────────┴────────────┴────────────┴────────────┘"
      ]
     },
     "execution_count": 29,
     "metadata": {},
     "output_type": "execute_result"
    }
   ],
   "source": [
    "df = df.with_row_count(name=\"id\")\n",
    "df.head()"
   ]
  },
  {
   "cell_type": "code",
   "execution_count": 32,
   "metadata": {},
   "outputs": [],
   "source": [
    "names = {'id': 'id',\n",
    "         'Timestamp': 'date',\n",
    "         'From Bank': 'from_bank',\n",
    "         'Account': 'from_account',\n",
    "         'To Bank': 'to_bank',\n",
    "         'Account.1': 'to_account',\n",
    "         'Amount Received': 'amount_received',\n",
    "         'Receiving Currency': 'currency_received',\n",
    "         'Amount Paid': 'amount_sent',\n",
    "         'Payment Currency': 'currency_sent',\n",
    "         'Payment Format': 'payment_method',\n",
    "         'Is Laundering': 'is_laundering'}\n",
    "\n",
    "def rename_columns(df, names):\n",
    "    return df.rename(names)\n",
    "\n",
    "def timestamp_date(df):\n",
    "    \"\"\"Transforms date into datetime format + makes a timestamp column (Unix timestamp)\"\"\"\n",
    "    df = df.with_columns(\n",
    "        pl.col(\"date\")\n",
    "        .str.strptime(pl.Datetime, \"%Y/%m/%d %H:%M\")  # Convert string to Datetime\n",
    "        .dt.timestamp()  # Convert Datetime to Unix timestamp\n",
    "        .alias(\"timestamp\"))\n",
    "  \n",
    "    df = df.with_columns(\n",
    "        pl.col(\"date\")\n",
    "        .str.strptime(pl.Datetime, \"%Y/%m/%d %H:%M\")\n",
    "        .dt.date())\n",
    "    return df"
   ]
  },
  {
   "cell_type": "code",
   "execution_count": null,
   "metadata": {},
   "outputs": [],
   "source": [
    "df = rename_columns(df, names)\n",
    "df = timestamp_date(df)"
   ]
  },
  {
   "cell_type": "code",
   "execution_count": 41,
   "metadata": {},
   "outputs": [
    {
     "name": "stderr",
     "output_type": "stream",
     "text": [
      "C:\\Users\\blanc\\AppData\\Local\\Temp\\ipykernel_24960\\1374560205.py:3: DeprecationWarning: `pl.count()` is deprecated. Please use `pl.len()` instead.\n",
      "  ((pl.col(\"same_account\").sum() / pl.count()) * 100)\n"
     ]
    },
    {
     "data": {
      "text/html": [
       "<div><style>\n",
       ".dataframe > thead > tr,\n",
       ".dataframe > tbody > tr {\n",
       "  text-align: right;\n",
       "  white-space: pre-wrap;\n",
       "}\n",
       "</style>\n",
       "<small>shape: (7, 2)</small><table border=\"1\" class=\"dataframe\"><thead><tr><th>payment_method</th><th>percentage_same_account</th></tr><tr><td>str</td><td>f64</td></tr></thead><tbody><tr><td>&quot;ACH&quot;</td><td>8.292335</td></tr><tr><td>&quot;Credit Card&quot;</td><td>0.162296</td></tr><tr><td>&quot;Reinvestment&quot;</td><td>100.0</td></tr><tr><td>&quot;Bitcoin&quot;</td><td>0.0</td></tr><tr><td>&quot;Cash&quot;</td><td>0.450113</td></tr><tr><td>&quot;Wire&quot;</td><td>0.340426</td></tr><tr><td>&quot;Cheque&quot;</td><td>0.247103</td></tr></tbody></table></div>"
      ],
      "text/plain": [
       "shape: (7, 2)\n",
       "┌────────────────┬─────────────────────────┐\n",
       "│ payment_method ┆ percentage_same_account │\n",
       "│ ---            ┆ ---                     │\n",
       "│ str            ┆ f64                     │\n",
       "╞════════════════╪═════════════════════════╡\n",
       "│ ACH            ┆ 8.292335                │\n",
       "│ Credit Card    ┆ 0.162296                │\n",
       "│ Reinvestment   ┆ 100.0                   │\n",
       "│ Bitcoin        ┆ 0.0                     │\n",
       "│ Cash           ┆ 0.450113                │\n",
       "│ Wire           ┆ 0.340426                │\n",
       "│ Cheque         ┆ 0.247103                │\n",
       "└────────────────┴─────────────────────────┘"
      ]
     },
     "execution_count": 41,
     "metadata": {},
     "output_type": "execute_result"
    }
   ],
   "source": [
    "df = df.with_columns((pl.col(\"from_account\") == pl.col(\"to_account\")).alias('same_account'))\n",
    "df.group_by(\"payment_method\").agg(\n",
    "    ((pl.col(\"same_account\").sum() / pl.count()) * 100)\n",
    "    .alias(\"percentage_same_account\"))"
   ]
  }
 ],
 "metadata": {
  "kernelspec": {
   "display_name": "nwks_env_2",
   "language": "python",
   "name": "python3"
  },
  "language_info": {
   "codemirror_mode": {
    "name": "ipython",
    "version": 3
   },
   "file_extension": ".py",
   "mimetype": "text/x-python",
   "name": "python",
   "nbconvert_exporter": "python",
   "pygments_lexer": "ipython3",
   "version": "3.8.18"
  }
 },
 "nbformat": 4,
 "nbformat_minor": 2
}
