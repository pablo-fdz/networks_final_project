{
 "cells": [
  {
   "cell_type": "code",
   "execution_count": 3,
   "metadata": {},
   "outputs": [],
   "source": [
    "#! pip install matplotlib==3.4.3\n",
    "#! pip install networkx==2.6.3\n",
    "#! pip install pandas==1.4.1\n",
    "#! pip install pyspark==3.2.0\n",
    "#! pip install graphframes==0.6\n",
    "#! pip install leidenalg==0.9.1"
   ]
  },
  {
   "cell_type": "code",
   "execution_count": 1,
   "metadata": {},
   "outputs": [],
   "source": [
    "import os\n",
    "import shutil\n",
    "from io import StringIO\n",
    "from datetime import datetime, timedelta\n",
    "\n",
    "import igraph as ig\n",
    "import networkx as nx\n",
    "import pandas as pd\n",
    "import leidenalg as la\n",
    "import polars as pl\n",
    "\n",
    "#from pyspark.sql import functions as sf\n",
    "#from pyspark import SparkConf\n",
    "#from pyspark.sql import SparkSession\n",
    "#from graphframes import GraphFrame"
   ]
  },
  {
   "cell_type": "code",
   "execution_count": 4,
   "metadata": {},
   "outputs": [],
   "source": [
    "cwd = os.getcwd()\n",
    "df = pl.read_parquet(cwd + '/HI-Small_Trans_Subset.parquet')\n",
    "\n",
    "#subset = df.head(300000)\n",
    "\n",
    "# Specify the output path for the new Parquet file\n",
    "#output_path = cwd + '/../HI-Small_Trans_Subset.parquet'\n",
    "\n",
    "# Write the subset DataFrame to a Parquet file\n",
    "#subset.write_parquet(output_path)\n",
    "\n",
    "#print(f\"Subset saved to {output_path}\")"
   ]
  },
  {
   "cell_type": "code",
   "execution_count": 5,
   "metadata": {},
   "outputs": [
    {
     "name": "stderr",
     "output_type": "stream",
     "text": [
      "C:\\Users\\blanc\\AppData\\Local\\Temp\\ipykernel_31380\\3532766406.py:1: DeprecationWarning: `DataFrame.with_row_count` is deprecated. Use `with_row_index` instead. Note that the default column name has changed from 'row_nr' to 'index'.\n",
      "  df = df.with_row_count(name=\"id\")\n"
     ]
    },
    {
     "data": {
      "text/html": [
       "<div><style>\n",
       ".dataframe > thead > tr,\n",
       ".dataframe > tbody > tr {\n",
       "  text-align: right;\n",
       "  white-space: pre-wrap;\n",
       "}\n",
       "</style>\n",
       "<small>shape: (5, 12)</small><table border=\"1\" class=\"dataframe\"><thead><tr><th>id</th><th>Timestamp</th><th>From Bank</th><th>Account</th><th>To Bank</th><th>Account.1</th><th>Amount Received</th><th>Receiving Currency</th><th>Amount Paid</th><th>Payment Currency</th><th>Payment Format</th><th>Is Laundering</th></tr><tr><td>u32</td><td>str</td><td>i64</td><td>str</td><td>i64</td><td>str</td><td>f64</td><td>str</td><td>f64</td><td>str</td><td>str</td><td>i64</td></tr></thead><tbody><tr><td>0</td><td>&quot;2022/09/01 00:20&quot;</td><td>10</td><td>&quot;8000EBD30&quot;</td><td>10</td><td>&quot;8000EBD30&quot;</td><td>3697.34</td><td>&quot;US Dollar&quot;</td><td>3697.34</td><td>&quot;US Dollar&quot;</td><td>&quot;Reinvestment&quot;</td><td>0</td></tr><tr><td>1</td><td>&quot;2022/09/01 00:20&quot;</td><td>3208</td><td>&quot;8000F4580&quot;</td><td>1</td><td>&quot;8000F5340&quot;</td><td>0.01</td><td>&quot;US Dollar&quot;</td><td>0.01</td><td>&quot;US Dollar&quot;</td><td>&quot;Cheque&quot;</td><td>0</td></tr><tr><td>2</td><td>&quot;2022/09/01 00:00&quot;</td><td>3209</td><td>&quot;8000F4670&quot;</td><td>3209</td><td>&quot;8000F4670&quot;</td><td>14675.57</td><td>&quot;US Dollar&quot;</td><td>14675.57</td><td>&quot;US Dollar&quot;</td><td>&quot;Reinvestment&quot;</td><td>0</td></tr><tr><td>3</td><td>&quot;2022/09/01 00:02&quot;</td><td>12</td><td>&quot;8000F5030&quot;</td><td>12</td><td>&quot;8000F5030&quot;</td><td>2806.97</td><td>&quot;US Dollar&quot;</td><td>2806.97</td><td>&quot;US Dollar&quot;</td><td>&quot;Reinvestment&quot;</td><td>0</td></tr><tr><td>4</td><td>&quot;2022/09/01 00:06&quot;</td><td>10</td><td>&quot;8000F5200&quot;</td><td>10</td><td>&quot;8000F5200&quot;</td><td>36682.97</td><td>&quot;US Dollar&quot;</td><td>36682.97</td><td>&quot;US Dollar&quot;</td><td>&quot;Reinvestment&quot;</td><td>0</td></tr></tbody></table></div>"
      ],
      "text/plain": [
       "shape: (5, 12)\n",
       "┌─────┬────────────┬───────────┬───────────┬───┬────────────┬────────────┬────────────┬────────────┐\n",
       "│ id  ┆ Timestamp  ┆ From Bank ┆ Account   ┆ … ┆ Amount     ┆ Payment    ┆ Payment    ┆ Is         │\n",
       "│ --- ┆ ---        ┆ ---       ┆ ---       ┆   ┆ Paid       ┆ Currency   ┆ Format     ┆ Laundering │\n",
       "│ u32 ┆ str        ┆ i64       ┆ str       ┆   ┆ ---        ┆ ---        ┆ ---        ┆ ---        │\n",
       "│     ┆            ┆           ┆           ┆   ┆ f64        ┆ str        ┆ str        ┆ i64        │\n",
       "╞═════╪════════════╪═══════════╪═══════════╪═══╪════════════╪════════════╪════════════╪════════════╡\n",
       "│ 0   ┆ 2022/09/01 ┆ 10        ┆ 8000EBD30 ┆ … ┆ 3697.34    ┆ US Dollar  ┆ Reinvestme ┆ 0          │\n",
       "│     ┆ 00:20      ┆           ┆           ┆   ┆            ┆            ┆ nt         ┆            │\n",
       "│ 1   ┆ 2022/09/01 ┆ 3208      ┆ 8000F4580 ┆ … ┆ 0.01       ┆ US Dollar  ┆ Cheque     ┆ 0          │\n",
       "│     ┆ 00:20      ┆           ┆           ┆   ┆            ┆            ┆            ┆            │\n",
       "│ 2   ┆ 2022/09/01 ┆ 3209      ┆ 8000F4670 ┆ … ┆ 14675.57   ┆ US Dollar  ┆ Reinvestme ┆ 0          │\n",
       "│     ┆ 00:00      ┆           ┆           ┆   ┆            ┆            ┆ nt         ┆            │\n",
       "│ 3   ┆ 2022/09/01 ┆ 12        ┆ 8000F5030 ┆ … ┆ 2806.97    ┆ US Dollar  ┆ Reinvestme ┆ 0          │\n",
       "│     ┆ 00:02      ┆           ┆           ┆   ┆            ┆            ┆ nt         ┆            │\n",
       "│ 4   ┆ 2022/09/01 ┆ 10        ┆ 8000F5200 ┆ … ┆ 36682.97   ┆ US Dollar  ┆ Reinvestme ┆ 0          │\n",
       "│     ┆ 00:06      ┆           ┆           ┆   ┆            ┆            ┆ nt         ┆            │\n",
       "└─────┴────────────┴───────────┴───────────┴───┴────────────┴────────────┴────────────┴────────────┘"
      ]
     },
     "execution_count": 5,
     "metadata": {},
     "output_type": "execute_result"
    }
   ],
   "source": [
    "df = df.with_row_count(name=\"id\")\n",
    "df.head()"
   ]
  },
  {
   "cell_type": "code",
   "execution_count": 6,
   "metadata": {},
   "outputs": [],
   "source": [
    "names = {'id': 'id',\n",
    "         'Timestamp': 'date',\n",
    "         'From Bank': 'from_bank',\n",
    "         'Account': 'from_account',\n",
    "         'To Bank': 'to_bank',\n",
    "         'Account.1': 'to_account',\n",
    "         'Amount Received': 'amount_received',\n",
    "         'Receiving Currency': 'currency_received',\n",
    "         'Amount Paid': 'amount_sent',\n",
    "         'Payment Currency': 'currency_sent',\n",
    "         'Payment Format': 'payment_method',\n",
    "         'Is Laundering': 'is_laundering'}\n",
    "\n",
    "def rename_columns(df, names):\n",
    "    return df.rename(names)\n",
    "\n",
    "def timestamp_date(df):\n",
    "    \"\"\"Transforms date into datetime format + makes a timestamp column (Unix timestamp)\"\"\"\n",
    "    df = df.with_columns(\n",
    "        pl.col(\"date\")\n",
    "        .str.strptime(pl.Datetime, \"%Y/%m/%d %H:%M\")  # Convert string to Datetime\n",
    "        .dt.timestamp()  # Convert Datetime to Unix timestamp\n",
    "        .alias(\"timestamp\"))\n",
    "  \n",
    "    df = df.with_columns(\n",
    "        pl.col(\"date\")\n",
    "        .str.strptime(pl.Datetime, \"%Y/%m/%d %H:%M\")\n",
    "        .dt.date())\n",
    "    return df"
   ]
  },
  {
   "cell_type": "code",
   "execution_count": 7,
   "metadata": {},
   "outputs": [],
   "source": [
    "df = rename_columns(df, names)\n",
    "df = timestamp_date(df)"
   ]
  },
  {
   "cell_type": "code",
   "execution_count": null,
   "metadata": {},
   "outputs": [],
   "source": [
    "#df = df.with_columns((pl.col(\"from_account\") == pl.col(\"to_account\")).alias('same_account'))\n",
    "#df.group_by(\"payment_method\").agg(\n",
    "    #((pl.col(\"same_account\").sum() / pl.count()) * 100)\n",
    "    #.alias(\"percentage_same_account\"))"
   ]
  },
  {
   "cell_type": "code",
   "execution_count": 8,
   "metadata": {},
   "outputs": [
    {
     "data": {
      "text/html": [
       "<div><style>\n",
       ".dataframe > thead > tr,\n",
       ".dataframe > tbody > tr {\n",
       "  text-align: right;\n",
       "  white-space: pre-wrap;\n",
       "}\n",
       "</style>\n",
       "<small>shape: (5, 13)</small><table border=\"1\" class=\"dataframe\"><thead><tr><th>id</th><th>date</th><th>from_bank</th><th>from_account</th><th>to_bank</th><th>to_account</th><th>amount_received</th><th>currency_received</th><th>amount_sent</th><th>currency_sent</th><th>payment_method</th><th>is_laundering</th><th>timestamp</th></tr><tr><td>u32</td><td>date</td><td>i64</td><td>str</td><td>i64</td><td>str</td><td>f64</td><td>str</td><td>f64</td><td>str</td><td>str</td><td>i64</td><td>i64</td></tr></thead><tbody><tr><td>0</td><td>2022-09-01</td><td>10</td><td>&quot;8000EBD30&quot;</td><td>10</td><td>&quot;8000EBD30&quot;</td><td>3697.34</td><td>&quot;US Dollar&quot;</td><td>3697.34</td><td>&quot;US Dollar&quot;</td><td>&quot;Reinvestment&quot;</td><td>0</td><td>1661991600000000</td></tr><tr><td>1</td><td>2022-09-01</td><td>3208</td><td>&quot;8000F4580&quot;</td><td>1</td><td>&quot;8000F5340&quot;</td><td>0.01</td><td>&quot;US Dollar&quot;</td><td>0.01</td><td>&quot;US Dollar&quot;</td><td>&quot;Cheque&quot;</td><td>0</td><td>1661991600000000</td></tr><tr><td>2</td><td>2022-09-01</td><td>3209</td><td>&quot;8000F4670&quot;</td><td>3209</td><td>&quot;8000F4670&quot;</td><td>14675.57</td><td>&quot;US Dollar&quot;</td><td>14675.57</td><td>&quot;US Dollar&quot;</td><td>&quot;Reinvestment&quot;</td><td>0</td><td>1661990400000000</td></tr><tr><td>3</td><td>2022-09-01</td><td>12</td><td>&quot;8000F5030&quot;</td><td>12</td><td>&quot;8000F5030&quot;</td><td>2806.97</td><td>&quot;US Dollar&quot;</td><td>2806.97</td><td>&quot;US Dollar&quot;</td><td>&quot;Reinvestment&quot;</td><td>0</td><td>1661990520000000</td></tr><tr><td>4</td><td>2022-09-01</td><td>10</td><td>&quot;8000F5200&quot;</td><td>10</td><td>&quot;8000F5200&quot;</td><td>36682.97</td><td>&quot;US Dollar&quot;</td><td>36682.97</td><td>&quot;US Dollar&quot;</td><td>&quot;Reinvestment&quot;</td><td>0</td><td>1661990760000000</td></tr></tbody></table></div>"
      ],
      "text/plain": [
       "shape: (5, 13)\n",
       "┌─────┬────────────┬───────────┬────────────┬───┬────────────┬────────────┬────────────┬───────────┐\n",
       "│ id  ┆ date       ┆ from_bank ┆ from_accou ┆ … ┆ currency_s ┆ payment_me ┆ is_launder ┆ timestamp │\n",
       "│ --- ┆ ---        ┆ ---       ┆ nt         ┆   ┆ ent        ┆ thod       ┆ ing        ┆ ---       │\n",
       "│ u32 ┆ date       ┆ i64       ┆ ---        ┆   ┆ ---        ┆ ---        ┆ ---        ┆ i64       │\n",
       "│     ┆            ┆           ┆ str        ┆   ┆ str        ┆ str        ┆ i64        ┆           │\n",
       "╞═════╪════════════╪═══════════╪════════════╪═══╪════════════╪════════════╪════════════╪═══════════╡\n",
       "│ 0   ┆ 2022-09-01 ┆ 10        ┆ 8000EBD30  ┆ … ┆ US Dollar  ┆ Reinvestme ┆ 0          ┆ 166199160 │\n",
       "│     ┆            ┆           ┆            ┆   ┆            ┆ nt         ┆            ┆ 0000000   │\n",
       "│ 1   ┆ 2022-09-01 ┆ 3208      ┆ 8000F4580  ┆ … ┆ US Dollar  ┆ Cheque     ┆ 0          ┆ 166199160 │\n",
       "│     ┆            ┆           ┆            ┆   ┆            ┆            ┆            ┆ 0000000   │\n",
       "│ 2   ┆ 2022-09-01 ┆ 3209      ┆ 8000F4670  ┆ … ┆ US Dollar  ┆ Reinvestme ┆ 0          ┆ 166199040 │\n",
       "│     ┆            ┆           ┆            ┆   ┆            ┆ nt         ┆            ┆ 0000000   │\n",
       "│ 3   ┆ 2022-09-01 ┆ 12        ┆ 8000F5030  ┆ … ┆ US Dollar  ┆ Reinvestme ┆ 0          ┆ 166199052 │\n",
       "│     ┆            ┆           ┆            ┆   ┆            ┆ nt         ┆            ┆ 0000000   │\n",
       "│ 4   ┆ 2022-09-01 ┆ 10        ┆ 8000F5200  ┆ … ┆ US Dollar  ┆ Reinvestme ┆ 0          ┆ 166199076 │\n",
       "│     ┆            ┆           ┆            ┆   ┆            ┆ nt         ┆            ┆ 0000000   │\n",
       "└─────┴────────────┴───────────┴────────────┴───┴────────────┴────────────┴────────────┴───────────┘"
      ]
     },
     "execution_count": 8,
     "metadata": {},
     "output_type": "execute_result"
    }
   ],
   "source": [
    "df.head()"
   ]
  },
  {
   "cell_type": "code",
   "execution_count": null,
   "metadata": {},
   "outputs": [],
   "source": []
  }
 ],
 "metadata": {
  "kernelspec": {
   "display_name": "nwks_env_2",
   "language": "python",
   "name": "python3"
  },
  "language_info": {
   "codemirror_mode": {
    "name": "ipython",
    "version": 3
   },
   "file_extension": ".py",
   "mimetype": "text/x-python",
   "name": "python",
   "nbconvert_exporter": "python",
   "pygments_lexer": "ipython3",
   "version": "3.8.18"
  }
 },
 "nbformat": 4,
 "nbformat_minor": 2
}
