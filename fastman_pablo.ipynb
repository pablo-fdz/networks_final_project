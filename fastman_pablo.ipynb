{
 "cells": [
  {
   "cell_type": "markdown",
   "metadata": {},
   "source": [
    "Implementation of the FaSTM $\\forall$ N algorithm, from the initial transaction data up to the community detection. It is implemented in a less efficient and scalable way than the code of the authors, but it is probably more transparent and understandable.\n",
    "\n",
    "Repo of the paper: https://github.com/mhaseebtariq/fastman/tree/main"
   ]
  },
  {
   "cell_type": "markdown",
   "metadata": {},
   "source": [
    "# Libraries and paths"
   ]
  },
  {
   "cell_type": "code",
   "execution_count": 2,
   "metadata": {},
   "outputs": [],
   "source": [
    "import os\n",
    "import igraph as ig\n",
    "import polars as pl\n",
    "from datetime import datetime, timedelta\n",
    "import matplotlib.pyplot as plt"
   ]
  },
  {
   "cell_type": "markdown",
   "metadata": {},
   "source": [
    "Useful `polars` references:\n",
    "- Python API reference: https://docs.pola.rs/api/python/stable/reference/index.html\n",
    "- Getting started guide: https://docs.pola.rs/user-guide/getting-started/\n",
    "- Key differences with `pandas`: https://docs.pola.rs/user-guide/migration/pandas/"
   ]
  },
  {
   "cell_type": "code",
   "execution_count": 3,
   "metadata": {},
   "outputs": [],
   "source": [
    "# General location for the data\n",
    "data_location = os.path.join(\"..\", \"data\")\n",
    "\n",
    "# Set location where we will save the partitions\n",
    "partitions_location = os.path.join(data_location, 'partition')\n",
    "\n",
    "# Create a location where we will save the joins\n",
    "joins_location = os.path.join(data_location, \"joins\")\n",
    "\n",
    "# Location of the nodes and the edges\n",
    "nodes_location = os.path.join(data_location, \"nodes\")\n",
    "edges_location = os.path.join(data_location, \"edges\")"
   ]
  },
  {
   "cell_type": "markdown",
   "metadata": {},
   "source": [
    "# 0. Importing and preprocessing the transaction data"
   ]
  },
  {
   "cell_type": "markdown",
   "metadata": {},
   "source": [
    "## Import"
   ]
  },
  {
   "cell_type": "code",
   "execution_count": 48,
   "metadata": {},
   "outputs": [],
   "source": [
    "df = pl.read_csv(os.path.join(data_location, 'HI-Small_Trans.csv'))"
   ]
  },
  {
   "cell_type": "code",
   "execution_count": 49,
   "metadata": {},
   "outputs": [
    {
     "data": {
      "text/html": [
       "<div><style>\n",
       ".dataframe > thead > tr,\n",
       ".dataframe > tbody > tr {\n",
       "  text-align: right;\n",
       "  white-space: pre-wrap;\n",
       "}\n",
       "</style>\n",
       "<small>shape: (5, 11)</small><table border=\"1\" class=\"dataframe\"><thead><tr><th>Timestamp</th><th>From Bank</th><th>Account</th><th>To Bank</th><th>Account_duplicated_0</th><th>Amount Received</th><th>Receiving Currency</th><th>Amount Paid</th><th>Payment Currency</th><th>Payment Format</th><th>Is Laundering</th></tr><tr><td>str</td><td>i64</td><td>str</td><td>i64</td><td>str</td><td>f64</td><td>str</td><td>f64</td><td>str</td><td>str</td><td>i64</td></tr></thead><tbody><tr><td>&quot;2022/09/01 00:20&quot;</td><td>10</td><td>&quot;8000EBD30&quot;</td><td>10</td><td>&quot;8000EBD30&quot;</td><td>3697.34</td><td>&quot;US Dollar&quot;</td><td>3697.34</td><td>&quot;US Dollar&quot;</td><td>&quot;Reinvestment&quot;</td><td>0</td></tr><tr><td>&quot;2022/09/01 00:20&quot;</td><td>3208</td><td>&quot;8000F4580&quot;</td><td>1</td><td>&quot;8000F5340&quot;</td><td>0.01</td><td>&quot;US Dollar&quot;</td><td>0.01</td><td>&quot;US Dollar&quot;</td><td>&quot;Cheque&quot;</td><td>0</td></tr><tr><td>&quot;2022/09/01 00:00&quot;</td><td>3209</td><td>&quot;8000F4670&quot;</td><td>3209</td><td>&quot;8000F4670&quot;</td><td>14675.57</td><td>&quot;US Dollar&quot;</td><td>14675.57</td><td>&quot;US Dollar&quot;</td><td>&quot;Reinvestment&quot;</td><td>0</td></tr><tr><td>&quot;2022/09/01 00:02&quot;</td><td>12</td><td>&quot;8000F5030&quot;</td><td>12</td><td>&quot;8000F5030&quot;</td><td>2806.97</td><td>&quot;US Dollar&quot;</td><td>2806.97</td><td>&quot;US Dollar&quot;</td><td>&quot;Reinvestment&quot;</td><td>0</td></tr><tr><td>&quot;2022/09/01 00:06&quot;</td><td>10</td><td>&quot;8000F5200&quot;</td><td>10</td><td>&quot;8000F5200&quot;</td><td>36682.97</td><td>&quot;US Dollar&quot;</td><td>36682.97</td><td>&quot;US Dollar&quot;</td><td>&quot;Reinvestment&quot;</td><td>0</td></tr></tbody></table></div>"
      ],
      "text/plain": [
       "shape: (5, 11)\n",
       "┌────────────┬───────────┬───────────┬─────────┬───┬───────────┬───────────┬───────────┬───────────┐\n",
       "│ Timestamp  ┆ From Bank ┆ Account   ┆ To Bank ┆ … ┆ Amount    ┆ Payment   ┆ Payment   ┆ Is Launde │\n",
       "│ ---        ┆ ---       ┆ ---       ┆ ---     ┆   ┆ Paid      ┆ Currency  ┆ Format    ┆ ring      │\n",
       "│ str        ┆ i64       ┆ str       ┆ i64     ┆   ┆ ---       ┆ ---       ┆ ---       ┆ ---       │\n",
       "│            ┆           ┆           ┆         ┆   ┆ f64       ┆ str       ┆ str       ┆ i64       │\n",
       "╞════════════╪═══════════╪═══════════╪═════════╪═══╪═══════════╪═══════════╪═══════════╪═══════════╡\n",
       "│ 2022/09/01 ┆ 10        ┆ 8000EBD30 ┆ 10      ┆ … ┆ 3697.34   ┆ US Dollar ┆ Reinvestm ┆ 0         │\n",
       "│ 00:20      ┆           ┆           ┆         ┆   ┆           ┆           ┆ ent       ┆           │\n",
       "│ 2022/09/01 ┆ 3208      ┆ 8000F4580 ┆ 1       ┆ … ┆ 0.01      ┆ US Dollar ┆ Cheque    ┆ 0         │\n",
       "│ 00:20      ┆           ┆           ┆         ┆   ┆           ┆           ┆           ┆           │\n",
       "│ 2022/09/01 ┆ 3209      ┆ 8000F4670 ┆ 3209    ┆ … ┆ 14675.57  ┆ US Dollar ┆ Reinvestm ┆ 0         │\n",
       "│ 00:00      ┆           ┆           ┆         ┆   ┆           ┆           ┆ ent       ┆           │\n",
       "│ 2022/09/01 ┆ 12        ┆ 8000F5030 ┆ 12      ┆ … ┆ 2806.97   ┆ US Dollar ┆ Reinvestm ┆ 0         │\n",
       "│ 00:02      ┆           ┆           ┆         ┆   ┆           ┆           ┆ ent       ┆           │\n",
       "│ 2022/09/01 ┆ 10        ┆ 8000F5200 ┆ 10      ┆ … ┆ 36682.97  ┆ US Dollar ┆ Reinvestm ┆ 0         │\n",
       "│ 00:06      ┆           ┆           ┆         ┆   ┆           ┆           ┆ ent       ┆           │\n",
       "└────────────┴───────────┴───────────┴─────────┴───┴───────────┴───────────┴───────────┴───────────┘"
      ]
     },
     "execution_count": 49,
     "metadata": {},
     "output_type": "execute_result"
    }
   ],
   "source": [
    "df.head()"
   ]
  },
  {
   "cell_type": "markdown",
   "metadata": {},
   "source": [
    "## Preprocessing"
   ]
  },
  {
   "cell_type": "code",
   "execution_count": 50,
   "metadata": {},
   "outputs": [
    {
     "data": {
      "text/html": [
       "<div><style>\n",
       ".dataframe > thead > tr,\n",
       ".dataframe > tbody > tr {\n",
       "  text-align: right;\n",
       "  white-space: pre-wrap;\n",
       "}\n",
       "</style>\n",
       "<small>shape: (5, 11)</small><table border=\"1\" class=\"dataframe\"><thead><tr><th>Timestamp</th><th>From Bank</th><th>Source Account</th><th>To Bank</th><th>Destination Account</th><th>Amount Received</th><th>Receiving Currency</th><th>Amount Paid</th><th>Payment Currency</th><th>Payment Format</th><th>Is Laundering</th></tr><tr><td>datetime[μs]</td><td>i64</td><td>str</td><td>i64</td><td>str</td><td>f64</td><td>str</td><td>f64</td><td>str</td><td>str</td><td>i64</td></tr></thead><tbody><tr><td>2022-09-01 00:20:00</td><td>10</td><td>&quot;8000EBD30&quot;</td><td>10</td><td>&quot;8000EBD30&quot;</td><td>3697.34</td><td>&quot;US Dollar&quot;</td><td>3697.34</td><td>&quot;US Dollar&quot;</td><td>&quot;Reinvestment&quot;</td><td>0</td></tr><tr><td>2022-09-01 00:20:00</td><td>3208</td><td>&quot;8000F4580&quot;</td><td>1</td><td>&quot;8000F5340&quot;</td><td>0.01</td><td>&quot;US Dollar&quot;</td><td>0.01</td><td>&quot;US Dollar&quot;</td><td>&quot;Cheque&quot;</td><td>0</td></tr><tr><td>2022-09-01 00:00:00</td><td>3209</td><td>&quot;8000F4670&quot;</td><td>3209</td><td>&quot;8000F4670&quot;</td><td>14675.57</td><td>&quot;US Dollar&quot;</td><td>14675.57</td><td>&quot;US Dollar&quot;</td><td>&quot;Reinvestment&quot;</td><td>0</td></tr><tr><td>2022-09-01 00:02:00</td><td>12</td><td>&quot;8000F5030&quot;</td><td>12</td><td>&quot;8000F5030&quot;</td><td>2806.97</td><td>&quot;US Dollar&quot;</td><td>2806.97</td><td>&quot;US Dollar&quot;</td><td>&quot;Reinvestment&quot;</td><td>0</td></tr><tr><td>2022-09-01 00:06:00</td><td>10</td><td>&quot;8000F5200&quot;</td><td>10</td><td>&quot;8000F5200&quot;</td><td>36682.97</td><td>&quot;US Dollar&quot;</td><td>36682.97</td><td>&quot;US Dollar&quot;</td><td>&quot;Reinvestment&quot;</td><td>0</td></tr></tbody></table></div>"
      ],
      "text/plain": [
       "shape: (5, 11)\n",
       "┌────────────┬───────────┬───────────┬─────────┬───┬───────────┬───────────┬───────────┬───────────┐\n",
       "│ Timestamp  ┆ From Bank ┆ Source    ┆ To Bank ┆ … ┆ Amount    ┆ Payment   ┆ Payment   ┆ Is Launde │\n",
       "│ ---        ┆ ---       ┆ Account   ┆ ---     ┆   ┆ Paid      ┆ Currency  ┆ Format    ┆ ring      │\n",
       "│ datetime[μ ┆ i64       ┆ ---       ┆ i64     ┆   ┆ ---       ┆ ---       ┆ ---       ┆ ---       │\n",
       "│ s]         ┆           ┆ str       ┆         ┆   ┆ f64       ┆ str       ┆ str       ┆ i64       │\n",
       "╞════════════╪═══════════╪═══════════╪═════════╪═══╪═══════════╪═══════════╪═══════════╪═══════════╡\n",
       "│ 2022-09-01 ┆ 10        ┆ 8000EBD30 ┆ 10      ┆ … ┆ 3697.34   ┆ US Dollar ┆ Reinvestm ┆ 0         │\n",
       "│ 00:20:00   ┆           ┆           ┆         ┆   ┆           ┆           ┆ ent       ┆           │\n",
       "│ 2022-09-01 ┆ 3208      ┆ 8000F4580 ┆ 1       ┆ … ┆ 0.01      ┆ US Dollar ┆ Cheque    ┆ 0         │\n",
       "│ 00:20:00   ┆           ┆           ┆         ┆   ┆           ┆           ┆           ┆           │\n",
       "│ 2022-09-01 ┆ 3209      ┆ 8000F4670 ┆ 3209    ┆ … ┆ 14675.57  ┆ US Dollar ┆ Reinvestm ┆ 0         │\n",
       "│ 00:00:00   ┆           ┆           ┆         ┆   ┆           ┆           ┆ ent       ┆           │\n",
       "│ 2022-09-01 ┆ 12        ┆ 8000F5030 ┆ 12      ┆ … ┆ 2806.97   ┆ US Dollar ┆ Reinvestm ┆ 0         │\n",
       "│ 00:02:00   ┆           ┆           ┆         ┆   ┆           ┆           ┆ ent       ┆           │\n",
       "│ 2022-09-01 ┆ 10        ┆ 8000F5200 ┆ 10      ┆ … ┆ 36682.97  ┆ US Dollar ┆ Reinvestm ┆ 0         │\n",
       "│ 00:06:00   ┆           ┆           ┆         ┆   ┆           ┆           ┆ ent       ┆           │\n",
       "└────────────┴───────────┴───────────┴─────────┴───┴───────────┴───────────┴───────────┴───────────┘"
      ]
     },
     "execution_count": 50,
     "metadata": {},
     "output_type": "execute_result"
    }
   ],
   "source": [
    "# Rename columns for clarity\n",
    "df = df.rename(mapping = {\"Account\": \"Source Account\",\"Account_duplicated_0\": \"Destination Account\"})\n",
    "\n",
    "# Convert Timestamp to datetime type\n",
    "df = df.with_columns(\n",
    "    pl.col(\"Timestamp\").str.strptime(pl.Datetime, format=\"%Y/%m/%d %H:%M\")\n",
    ")\n",
    "\n",
    "df.head()"
   ]
  },
  {
   "cell_type": "markdown",
   "metadata": {},
   "source": [
    "Note that polars' unit of time when converting a datetime column into the time passed since the 1st of January 1970 is microseconds: https://docs.pola.rs/api/python/stable/reference/api/polars.datatypes.Datetime.html"
   ]
  },
  {
   "cell_type": "code",
   "execution_count": 51,
   "metadata": {},
   "outputs": [
    {
     "data": {
      "text/html": [
       "<div><style>\n",
       ".dataframe > thead > tr,\n",
       ".dataframe > tbody > tr {\n",
       "  text-align: right;\n",
       "  white-space: pre-wrap;\n",
       "}\n",
       "</style>\n",
       "<small>shape: (5, 12)</small><table border=\"1\" class=\"dataframe\"><thead><tr><th>From Bank</th><th>Source Account</th><th>To Bank</th><th>Destination Account</th><th>Amount Received</th><th>Receiving Currency</th><th>Amount Paid</th><th>Payment Currency</th><th>Payment Format</th><th>Is Laundering</th><th>Date</th><th>Seconds_since_1970</th></tr><tr><td>i64</td><td>str</td><td>i64</td><td>str</td><td>f64</td><td>str</td><td>f64</td><td>str</td><td>str</td><td>i64</td><td>date</td><td>i64</td></tr></thead><tbody><tr><td>10</td><td>&quot;8000EBD30&quot;</td><td>10</td><td>&quot;8000EBD30&quot;</td><td>3697.34</td><td>&quot;US Dollar&quot;</td><td>3697.34</td><td>&quot;US Dollar&quot;</td><td>&quot;Reinvestment&quot;</td><td>0</td><td>2022-09-01</td><td>1661991600</td></tr><tr><td>3208</td><td>&quot;8000F4580&quot;</td><td>1</td><td>&quot;8000F5340&quot;</td><td>0.01</td><td>&quot;US Dollar&quot;</td><td>0.01</td><td>&quot;US Dollar&quot;</td><td>&quot;Cheque&quot;</td><td>0</td><td>2022-09-01</td><td>1661991600</td></tr><tr><td>3209</td><td>&quot;8000F4670&quot;</td><td>3209</td><td>&quot;8000F4670&quot;</td><td>14675.57</td><td>&quot;US Dollar&quot;</td><td>14675.57</td><td>&quot;US Dollar&quot;</td><td>&quot;Reinvestment&quot;</td><td>0</td><td>2022-09-01</td><td>1661990400</td></tr><tr><td>12</td><td>&quot;8000F5030&quot;</td><td>12</td><td>&quot;8000F5030&quot;</td><td>2806.97</td><td>&quot;US Dollar&quot;</td><td>2806.97</td><td>&quot;US Dollar&quot;</td><td>&quot;Reinvestment&quot;</td><td>0</td><td>2022-09-01</td><td>1661990520</td></tr><tr><td>10</td><td>&quot;8000F5200&quot;</td><td>10</td><td>&quot;8000F5200&quot;</td><td>36682.97</td><td>&quot;US Dollar&quot;</td><td>36682.97</td><td>&quot;US Dollar&quot;</td><td>&quot;Reinvestment&quot;</td><td>0</td><td>2022-09-01</td><td>1661990760</td></tr></tbody></table></div>"
      ],
      "text/plain": [
       "shape: (5, 12)\n",
       "┌───────────┬────────────┬─────────┬───────────┬───┬───────────┬───────────┬───────────┬───────────┐\n",
       "│ From Bank ┆ Source     ┆ To Bank ┆ Destinati ┆ … ┆ Payment   ┆ Is Launde ┆ Date      ┆ Seconds_s │\n",
       "│ ---       ┆ Account    ┆ ---     ┆ on        ┆   ┆ Format    ┆ ring      ┆ ---       ┆ ince_1970 │\n",
       "│ i64       ┆ ---        ┆ i64     ┆ Account   ┆   ┆ ---       ┆ ---       ┆ date      ┆ ---       │\n",
       "│           ┆ str        ┆         ┆ ---       ┆   ┆ str       ┆ i64       ┆           ┆ i64       │\n",
       "│           ┆            ┆         ┆ str       ┆   ┆           ┆           ┆           ┆           │\n",
       "╞═══════════╪════════════╪═════════╪═══════════╪═══╪═══════════╪═══════════╪═══════════╪═══════════╡\n",
       "│ 10        ┆ 8000EBD30  ┆ 10      ┆ 8000EBD30 ┆ … ┆ Reinvestm ┆ 0         ┆ 2022-09-0 ┆ 166199160 │\n",
       "│           ┆            ┆         ┆           ┆   ┆ ent       ┆           ┆ 1         ┆ 0         │\n",
       "│ 3208      ┆ 8000F4580  ┆ 1       ┆ 8000F5340 ┆ … ┆ Cheque    ┆ 0         ┆ 2022-09-0 ┆ 166199160 │\n",
       "│           ┆            ┆         ┆           ┆   ┆           ┆           ┆ 1         ┆ 0         │\n",
       "│ 3209      ┆ 8000F4670  ┆ 3209    ┆ 8000F4670 ┆ … ┆ Reinvestm ┆ 0         ┆ 2022-09-0 ┆ 166199040 │\n",
       "│           ┆            ┆         ┆           ┆   ┆ ent       ┆           ┆ 1         ┆ 0         │\n",
       "│ 12        ┆ 8000F5030  ┆ 12      ┆ 8000F5030 ┆ … ┆ Reinvestm ┆ 0         ┆ 2022-09-0 ┆ 166199052 │\n",
       "│           ┆            ┆         ┆           ┆   ┆ ent       ┆           ┆ 1         ┆ 0         │\n",
       "│ 10        ┆ 8000F5200  ┆ 10      ┆ 8000F5200 ┆ … ┆ Reinvestm ┆ 0         ┆ 2022-09-0 ┆ 166199076 │\n",
       "│           ┆            ┆         ┆           ┆   ┆ ent       ┆           ┆ 1         ┆ 0         │\n",
       "└───────────┴────────────┴─────────┴───────────┴───┴───────────┴───────────┴───────────┴───────────┘"
      ]
     },
     "execution_count": 51,
     "metadata": {},
     "output_type": "execute_result"
    }
   ],
   "source": [
    "# Extract date and Unix timestamp (microseconds since 1970)\n",
    "df = df.with_columns(\n",
    "    df[\"Timestamp\"].dt.date().alias(\"Date\"),\n",
    "    df[\"Timestamp\"].cast(pl.Int64).alias(\"Microseconds_since_1970\"),\n",
    ")\n",
    "\n",
    "# Convert microseconds since 1970 into seconds (by dividing by 10**6)\n",
    "df = df.with_columns(\n",
    "    (pl.col(\"Microseconds_since_1970\") // 10**6).alias(\"Seconds_since_1970\")\n",
    ")\n",
    "\n",
    "# Drop original microseconds column\n",
    "df = df.drop([\"Timestamp\", \"Microseconds_since_1970\"])\n",
    "\n",
    "df.head()"
   ]
  },
  {
   "cell_type": "markdown",
   "metadata": {},
   "source": [
    "In this graph, each row is a transaction. Note, however, that there is one requirement of the data that must be created for running the FaSTM $\\forall$ N algorithm_ a unique identifier for a transaction. We can create this unique identifier just from the current index."
   ]
  },
  {
   "cell_type": "code",
   "execution_count": 52,
   "metadata": {},
   "outputs": [
    {
     "data": {
      "text/html": [
       "<div><style>\n",
       ".dataframe > thead > tr,\n",
       ".dataframe > tbody > tr {\n",
       "  text-align: right;\n",
       "  white-space: pre-wrap;\n",
       "}\n",
       "</style>\n",
       "<small>shape: (5, 13)</small><table border=\"1\" class=\"dataframe\"><thead><tr><th>Transaction_id</th><th>From Bank</th><th>Source Account</th><th>To Bank</th><th>Destination Account</th><th>Amount Received</th><th>Receiving Currency</th><th>Amount Paid</th><th>Payment Currency</th><th>Payment Format</th><th>Is Laundering</th><th>Date</th><th>Seconds_since_1970</th></tr><tr><td>u32</td><td>i64</td><td>str</td><td>i64</td><td>str</td><td>f64</td><td>str</td><td>f64</td><td>str</td><td>str</td><td>i64</td><td>date</td><td>i64</td></tr></thead><tbody><tr><td>1</td><td>10</td><td>&quot;8000EBD30&quot;</td><td>10</td><td>&quot;8000EBD30&quot;</td><td>3697.34</td><td>&quot;US Dollar&quot;</td><td>3697.34</td><td>&quot;US Dollar&quot;</td><td>&quot;Reinvestment&quot;</td><td>0</td><td>2022-09-01</td><td>1661991600</td></tr><tr><td>2</td><td>3208</td><td>&quot;8000F4580&quot;</td><td>1</td><td>&quot;8000F5340&quot;</td><td>0.01</td><td>&quot;US Dollar&quot;</td><td>0.01</td><td>&quot;US Dollar&quot;</td><td>&quot;Cheque&quot;</td><td>0</td><td>2022-09-01</td><td>1661991600</td></tr><tr><td>3</td><td>3209</td><td>&quot;8000F4670&quot;</td><td>3209</td><td>&quot;8000F4670&quot;</td><td>14675.57</td><td>&quot;US Dollar&quot;</td><td>14675.57</td><td>&quot;US Dollar&quot;</td><td>&quot;Reinvestment&quot;</td><td>0</td><td>2022-09-01</td><td>1661990400</td></tr><tr><td>4</td><td>12</td><td>&quot;8000F5030&quot;</td><td>12</td><td>&quot;8000F5030&quot;</td><td>2806.97</td><td>&quot;US Dollar&quot;</td><td>2806.97</td><td>&quot;US Dollar&quot;</td><td>&quot;Reinvestment&quot;</td><td>0</td><td>2022-09-01</td><td>1661990520</td></tr><tr><td>5</td><td>10</td><td>&quot;8000F5200&quot;</td><td>10</td><td>&quot;8000F5200&quot;</td><td>36682.97</td><td>&quot;US Dollar&quot;</td><td>36682.97</td><td>&quot;US Dollar&quot;</td><td>&quot;Reinvestment&quot;</td><td>0</td><td>2022-09-01</td><td>1661990760</td></tr></tbody></table></div>"
      ],
      "text/plain": [
       "shape: (5, 13)\n",
       "┌────────────┬───────────┬───────────┬─────────┬───┬───────────┬───────────┬───────────┬───────────┐\n",
       "│ Transactio ┆ From Bank ┆ Source    ┆ To Bank ┆ … ┆ Payment   ┆ Is Launde ┆ Date      ┆ Seconds_s │\n",
       "│ n_id       ┆ ---       ┆ Account   ┆ ---     ┆   ┆ Format    ┆ ring      ┆ ---       ┆ ince_1970 │\n",
       "│ ---        ┆ i64       ┆ ---       ┆ i64     ┆   ┆ ---       ┆ ---       ┆ date      ┆ ---       │\n",
       "│ u32        ┆           ┆ str       ┆         ┆   ┆ str       ┆ i64       ┆           ┆ i64       │\n",
       "╞════════════╪═══════════╪═══════════╪═════════╪═══╪═══════════╪═══════════╪═══════════╪═══════════╡\n",
       "│ 1          ┆ 10        ┆ 8000EBD30 ┆ 10      ┆ … ┆ Reinvestm ┆ 0         ┆ 2022-09-0 ┆ 166199160 │\n",
       "│            ┆           ┆           ┆         ┆   ┆ ent       ┆           ┆ 1         ┆ 0         │\n",
       "│ 2          ┆ 3208      ┆ 8000F4580 ┆ 1       ┆ … ┆ Cheque    ┆ 0         ┆ 2022-09-0 ┆ 166199160 │\n",
       "│            ┆           ┆           ┆         ┆   ┆           ┆           ┆ 1         ┆ 0         │\n",
       "│ 3          ┆ 3209      ┆ 8000F4670 ┆ 3209    ┆ … ┆ Reinvestm ┆ 0         ┆ 2022-09-0 ┆ 166199040 │\n",
       "│            ┆           ┆           ┆         ┆   ┆ ent       ┆           ┆ 1         ┆ 0         │\n",
       "│ 4          ┆ 12        ┆ 8000F5030 ┆ 12      ┆ … ┆ Reinvestm ┆ 0         ┆ 2022-09-0 ┆ 166199052 │\n",
       "│            ┆           ┆           ┆         ┆   ┆ ent       ┆           ┆ 1         ┆ 0         │\n",
       "│ 5          ┆ 10        ┆ 8000F5200 ┆ 10      ┆ … ┆ Reinvestm ┆ 0         ┆ 2022-09-0 ┆ 166199076 │\n",
       "│            ┆           ┆           ┆         ┆   ┆ ent       ┆           ┆ 1         ┆ 0         │\n",
       "└────────────┴───────────┴───────────┴─────────┴───┴───────────┴───────────┴───────────┴───────────┘"
      ]
     },
     "execution_count": 52,
     "metadata": {},
     "output_type": "execute_result"
    }
   ],
   "source": [
    "df = df.with_row_index(name=\"Transaction_id\", offset=1)  # Start IDs from 1\n",
    "\n",
    "df.head()"
   ]
  },
  {
   "cell_type": "markdown",
   "metadata": {},
   "source": [
    "## Partitioning the data by days of the transaction\n",
    "\n",
    "For the first step of the FaSTM $\\forall$ N, we need to do a Cartesian product of rows in a time window of 1 day (as in the paper, they state that \"The transactions are processed iteratively, one day at a time\"), which can exponentially increase the number of rows and not fit in the memory. To that end, below we partition the dataset using the `polars` method `write_parquet`, which creates a \"hive partitioned parquet dataset\" according to the specified column (https://docs.pola.rs/user-guide/io/hive/#writing-hive-partitioned-data)."
   ]
  },
  {
   "cell_type": "code",
   "execution_count": null,
   "metadata": {},
   "outputs": [],
   "source": [
    "# Write Hive-partitioned Parquet files\n",
    "df.write_parquet(\n",
    "    partitions_location,\n",
    "    partition_by=[\"Date\"],  # Partition by this column\n",
    ") "
   ]
  },
  {
   "cell_type": "markdown",
   "metadata": {},
   "source": [
    "Example of reading the hived dataset using polars (https://docs.pola.rs/user-guide/io/hive/#scanning-hive-partitioned-data):"
   ]
  },
  {
   "cell_type": "code",
   "execution_count": 12,
   "metadata": {},
   "outputs": [
    {
     "data": {
      "text/html": [
       "<div><style>\n",
       ".dataframe > thead > tr,\n",
       ".dataframe > tbody > tr {\n",
       "  text-align: right;\n",
       "  white-space: pre-wrap;\n",
       "}\n",
       "</style>\n",
       "<small>shape: (5, 13)</small><table border=\"1\" class=\"dataframe\"><thead><tr><th>Transaction_id</th><th>From Bank</th><th>Source Account</th><th>To Bank</th><th>Destination Account</th><th>Amount Received</th><th>Receiving Currency</th><th>Amount Paid</th><th>Payment Currency</th><th>Payment Format</th><th>Is Laundering</th><th>Date</th><th>Seconds_since_1970</th></tr><tr><td>u32</td><td>i64</td><td>str</td><td>i64</td><td>str</td><td>f64</td><td>str</td><td>f64</td><td>str</td><td>str</td><td>i64</td><td>date</td><td>i64</td></tr></thead><tbody><tr><td>1</td><td>10</td><td>&quot;8000EBD30&quot;</td><td>10</td><td>&quot;8000EBD30&quot;</td><td>3697.34</td><td>&quot;US Dollar&quot;</td><td>3697.34</td><td>&quot;US Dollar&quot;</td><td>&quot;Reinvestment&quot;</td><td>0</td><td>2022-09-01</td><td>1661991600</td></tr><tr><td>2</td><td>3208</td><td>&quot;8000F4580&quot;</td><td>1</td><td>&quot;8000F5340&quot;</td><td>0.01</td><td>&quot;US Dollar&quot;</td><td>0.01</td><td>&quot;US Dollar&quot;</td><td>&quot;Cheque&quot;</td><td>0</td><td>2022-09-01</td><td>1661991600</td></tr><tr><td>3</td><td>3209</td><td>&quot;8000F4670&quot;</td><td>3209</td><td>&quot;8000F4670&quot;</td><td>14675.57</td><td>&quot;US Dollar&quot;</td><td>14675.57</td><td>&quot;US Dollar&quot;</td><td>&quot;Reinvestment&quot;</td><td>0</td><td>2022-09-01</td><td>1661990400</td></tr><tr><td>4</td><td>12</td><td>&quot;8000F5030&quot;</td><td>12</td><td>&quot;8000F5030&quot;</td><td>2806.97</td><td>&quot;US Dollar&quot;</td><td>2806.97</td><td>&quot;US Dollar&quot;</td><td>&quot;Reinvestment&quot;</td><td>0</td><td>2022-09-01</td><td>1661990520</td></tr><tr><td>5</td><td>10</td><td>&quot;8000F5200&quot;</td><td>10</td><td>&quot;8000F5200&quot;</td><td>36682.97</td><td>&quot;US Dollar&quot;</td><td>36682.97</td><td>&quot;US Dollar&quot;</td><td>&quot;Reinvestment&quot;</td><td>0</td><td>2022-09-01</td><td>1661990760</td></tr></tbody></table></div>"
      ],
      "text/plain": [
       "shape: (5, 13)\n",
       "┌────────────┬───────────┬───────────┬─────────┬───┬───────────┬───────────┬───────────┬───────────┐\n",
       "│ Transactio ┆ From Bank ┆ Source    ┆ To Bank ┆ … ┆ Payment   ┆ Is Launde ┆ Date      ┆ Seconds_s │\n",
       "│ n_id       ┆ ---       ┆ Account   ┆ ---     ┆   ┆ Format    ┆ ring      ┆ ---       ┆ ince_1970 │\n",
       "│ ---        ┆ i64       ┆ ---       ┆ i64     ┆   ┆ ---       ┆ ---       ┆ date      ┆ ---       │\n",
       "│ u32        ┆           ┆ str       ┆         ┆   ┆ str       ┆ i64       ┆           ┆ i64       │\n",
       "╞════════════╪═══════════╪═══════════╪═════════╪═══╪═══════════╪═══════════╪═══════════╪═══════════╡\n",
       "│ 1          ┆ 10        ┆ 8000EBD30 ┆ 10      ┆ … ┆ Reinvestm ┆ 0         ┆ 2022-09-0 ┆ 166199160 │\n",
       "│            ┆           ┆           ┆         ┆   ┆ ent       ┆           ┆ 1         ┆ 0         │\n",
       "│ 2          ┆ 3208      ┆ 8000F4580 ┆ 1       ┆ … ┆ Cheque    ┆ 0         ┆ 2022-09-0 ┆ 166199160 │\n",
       "│            ┆           ┆           ┆         ┆   ┆           ┆           ┆ 1         ┆ 0         │\n",
       "│ 3          ┆ 3209      ┆ 8000F4670 ┆ 3209    ┆ … ┆ Reinvestm ┆ 0         ┆ 2022-09-0 ┆ 166199040 │\n",
       "│            ┆           ┆           ┆         ┆   ┆ ent       ┆           ┆ 1         ┆ 0         │\n",
       "│ 4          ┆ 12        ┆ 8000F5030 ┆ 12      ┆ … ┆ Reinvestm ┆ 0         ┆ 2022-09-0 ┆ 166199052 │\n",
       "│            ┆           ┆           ┆         ┆   ┆ ent       ┆           ┆ 1         ┆ 0         │\n",
       "│ 5          ┆ 10        ┆ 8000F5200 ┆ 10      ┆ … ┆ Reinvestm ┆ 0         ┆ 2022-09-0 ┆ 166199076 │\n",
       "│            ┆           ┆           ┆         ┆   ┆ ent       ┆           ┆ 1         ┆ 0         │\n",
       "└────────────┴───────────┴───────────┴─────────┴───┴───────────┴───────────┴───────────┴───────────┘"
      ]
     },
     "execution_count": 12,
     "metadata": {},
     "output_type": "execute_result"
    }
   ],
   "source": [
    "df = pl.scan_parquet(partitions_location).collect()\n",
    "\n",
    "df.head()"
   ]
  },
  {
   "cell_type": "markdown",
   "metadata": {},
   "source": [
    "This is just the initial dataset, but read from a partitioned structure!"
   ]
  },
  {
   "cell_type": "code",
   "execution_count": 59,
   "metadata": {},
   "outputs": [],
   "source": [
    "# Remove the data frame for memory efficiency\n",
    "del df"
   ]
  },
  {
   "cell_type": "markdown",
   "metadata": {},
   "source": [
    "# 1. Temporal graph creation (\"Temporal Graph of Sequential Transactions\")"
   ]
  },
  {
   "cell_type": "markdown",
   "metadata": {},
   "source": [
    "## 1.1. Set FaSTM $\\forall$ N parameters"
   ]
  },
  {
   "cell_type": "code",
   "execution_count": 9,
   "metadata": {},
   "outputs": [],
   "source": [
    "# Time window in days\n",
    "window = 2\n",
    "# Minimum edge of the weights for considering them\n",
    "min_edge_weights = 0.5"
   ]
  },
  {
   "cell_type": "markdown",
   "metadata": {},
   "source": [
    "## 1.2. Sequential inner joins\n",
    "\n",
    "Now, we will iterate over the different transaction dates that we have in our dataset (ensures that at any point we only load a manageable subset of the data into memory). The code below implements the **Definition 1** in Tariq and Hassani (2024), together with pages 7 and 8 of their paper. Guideline of the operations done below:\n",
    "\n",
    "1. **Partition Discovery:**  The code begins by listing all subdirectories under the `partition` folder and extracting the dates. This allows us to work one day at a time (or over a window of days).\n",
    "\n",
    "2. **Window Definition:** For each transaction date, a window is defined (for example, the current day plus one extra day). This \"extra\" is set by the `window` parameter ($\\Delta w$), which is not disclosed by the authors (they only state that they use a \"very consdervative *undisclosed* value for $\\Delta w$). Only partitions (files) within this window are read. Note that by increasing this parameter, the number of inner joins will significantly increase.\n",
    "\n",
    "3. **Lazy Scanning:** For keeping the memory footprint low, we use `pl.scan_parquet` on only the necessary partitions to ensure that we are not reading the whole dataset within the time window. In lazy mode nothing is executed (i.e., the dataset is not materialized) until we call `collect()`. See: https://docs.pola.rs/api/python/stable/reference/lazyframe/api/polars.LazyFrame.collect.html#polars.LazyFrame.collect\n",
    "\n",
    "4. **Filtering and Splitting Data:** The same lazy DataFrame is used to define both “right” and “left” subsets. The left subset is filtered further by a timestamp criterion (e.g. rows with `Timestamp` less than the maximum timestamp of the current date). Here, the \"left\" subset will contain the source edges $s$, while the \"right\" subset will contain the destination edges $d$ (see definition 1 in the paper).\n",
    "\n",
    "5. **Renaming Columns:** To avoid collisions during the join, all columns in the left subset are renamed by appending a suffix.\n",
    "\n",
    "6. **Joining and Calculating Time Delta:**\n",
    "   - An inner join is then performed based on the desired key: we join “Destination Account_left” from the left side (i.e., the beneficiary of the source node, $b_s$) to a “Source Account” from the right side (the \"from\" account in the destination transaction, $f_d$).\n",
    "   - After the join, a new column “delta” is calculated (as the difference between timestamps) and filtered so that only positive deltas are kept (i.e., we only keep those \"right\" transactions which happen after the \"left\").\n",
    "\n",
    "7. **Collecting with Streaming:**  \n",
    "   - The final lazy query is executed with `collect(streaming=True)`, which instructs Polars to process data in batches rather than all at once—helping to keep memory usage low (https://docs.pola.rs/user-guide/concepts/_streaming/).  \n",
    "   - The batch size can be adjusted: see https://docs.pola.rs/api/python/dev/reference/api/polars.Config.set_streaming_chunk_size.html.\n",
    "\n",
    "8. **Output:** The joined result is written out to disk as a parquet file under a directory named for the current staging date."
   ]
  },
  {
   "cell_type": "code",
   "execution_count": 4,
   "metadata": {},
   "outputs": [
    {
     "name": "stdout",
     "output_type": "stream",
     "text": [
      "['2022-09-01', '2022-09-02', '2022-09-03', '2022-09-04', '2022-09-05', '2022-09-06', '2022-09-07', '2022-09-08', '2022-09-09', '2022-09-10', '2022-09-11', '2022-09-12', '2022-09-13', '2022-09-14', '2022-09-15', '2022-09-16', '2022-09-17', '2022-09-18']\n"
     ]
    }
   ],
   "source": [
    "# We get a sorted list of transaction dates from the partition directories.\n",
    "all_partitions = os.listdir(partitions_location)\n",
    "dates = sorted([\n",
    "    partition.split(\"=\")[1] \n",
    "    for partition in all_partitions \n",
    "    if partition.startswith(\"Date=\")  # Note that the partition directories start with \"Date=\" (the column where we stored the date above)\n",
    "])\n",
    "\n",
    "print(dates)"
   ]
  },
  {
   "cell_type": "code",
   "execution_count": null,
   "metadata": {},
   "outputs": [
    {
     "name": "stderr",
     "output_type": "stream",
     "text": [
      "/tmp/ipykernel_84608/4239545022.py:32: PerformanceWarning: Determining the column names of a LazyFrame requires resolving its schema, which is a potentially expensive operation. Use `LazyFrame.collect_schema().names()` to get the column names without this warning.\n",
      "  left = left.rename({col: f\"{col}_left\" for col in left.columns})\n",
      "/tmp/ipykernel_84608/4239545022.py:55: DeprecationWarning: The argument `streaming=True` is deprecated and is being replaced by the `engine` argument.\n",
      "  join_df = join_expr.collect(streaming=True)\n",
      "/tmp/ipykernel_84608/4239545022.py:55: DeprecationWarning: The old streaming engine is being deprecated and will soon be replaced by the new streaming engine. Starting Polars version 1.23.0 and until the new streaming engine is released, the old streaming engine may become less usable. For people who rely on the old streaming engine, it is suggested to pin your version to before 1.23.0.\n",
      "\n",
      "More information on the new streaming engine: https://github.com/pola-rs/polars/issues/20947\n",
      "  join_df = join_expr.collect(streaming=True)\n"
     ]
    },
    {
     "name": "stdout",
     "output_type": "stream",
     "text": [
      "Processed transaction_date 2022-09-01 with 4762412 joined rows.\n",
      "Processed transaction_date 2022-09-02 with 23498285 joined rows.\n",
      "Processed transaction_date 2022-09-03 with 592423 joined rows.\n",
      "Processed transaction_date 2022-09-04 with 798971 joined rows.\n",
      "Processed transaction_date 2022-09-05 with 2152970 joined rows.\n",
      "Processed transaction_date 2022-09-06 with 2157398 joined rows.\n",
      "Processed transaction_date 2022-09-07 with 2327036 joined rows.\n",
      "Processed transaction_date 2022-09-08 with 1822694 joined rows.\n",
      "Processed transaction_date 2022-09-09 with 15645442 joined rows.\n",
      "Processed transaction_date 2022-09-10 with 85011 joined rows.\n",
      "Processed transaction_date 2022-09-11 with 547 joined rows.\n",
      "Processed transaction_date 2022-09-12 with 496 joined rows.\n",
      "Processed transaction_date 2022-09-13 with 440 joined rows.\n",
      "Processed transaction_date 2022-09-14 with 273 joined rows.\n",
      "Processed transaction_date 2022-09-15 with 148 joined rows.\n",
      "Processed transaction_date 2022-09-16 with 106 joined rows.\n",
      "Processed transaction_date 2022-09-17 with 30 joined rows.\n",
      "Processed transaction_date 2022-09-18 with 4 joined rows.\n",
      "Total rows of the joined data frame: 53844686\n"
     ]
    }
   ],
   "source": [
    "total_rows_joined_dataset = 0\n",
    "\n",
    "for transaction_date in dates:\n",
    "\n",
    "    # Define the start date (window start) for filtering right partitions\n",
    "    current_date = datetime.strptime(transaction_date, \"%Y-%m-%d\")\n",
    "    # Define the end date (window end) for filtering right partitions\n",
    "    end_date = current_date + timedelta(days=window)\n",
    "    end_date_str = end_date.strftime(\"%Y-%m-%d\")  # Convert end date to string\n",
    "    \n",
    "    # Determine which partitions fall in the window: dates between current_date and end_date, inclusive\n",
    "    window_dates = [d for d in dates if transaction_date <= d <= end_date_str]\n",
    "    \n",
    "    # Build the file paths for these partitions\n",
    "    right_paths = [\n",
    "        os.path.join(partitions_location, f\"Date={d}\")\n",
    "        for d in window_dates\n",
    "    ]\n",
    "    \n",
    "    # Read the \"right\" side data lazily from only the required partitions\n",
    "    right = pl.scan_parquet(right_paths)\n",
    "    \n",
    "    # Define a maximum timestamp for the current date (e.g., all transactions with\n",
    "    # a timestamp less than the end of the day)\n",
    "    max_ts_time = datetime.combine(current_date, datetime.max.time())\n",
    "    max_ts = max_ts_time.timestamp()  # Convert to a timestamp\n",
    "    \n",
    "    # Filter the \"left\" side: only rows from the window with Timestamp before max_ts\n",
    "    left = right.filter(pl.col(\"Seconds_since_1970\") < max_ts)\n",
    "    \n",
    "    # Rename the columns in the left DataFrame so that after the join left and right have distinct names\n",
    "    left = left.rename({col: f\"{col}_left\" for col in left.columns})\n",
    "    \n",
    "    # Create the right join key to preserve the original source account (just a \"trick\")\n",
    "    # However, note that the right source account should match to the left destination\n",
    "    # account\n",
    "    right = right.with_columns(pl.col(\"Source Account\").alias(\"Source Account_right\"))\n",
    "\n",
    "    # Perform the inner join on the left and right data frames\n",
    "    join_expr = left.join(\n",
    "        right, \n",
    "        left_on=\"Destination Account_left\",  # Destination account of the left data frame\n",
    "        right_on=\"Source Account_right\",  # Source account of the right data frame\n",
    "        how=\"inner\"\n",
    "    )\n",
    "    \n",
    "    # Calculate the time delta between the joined timestamps\n",
    "    join_expr = join_expr.with_columns(\n",
    "        (pl.col(\"Seconds_since_1970\") - pl.col(\"Seconds_since_1970_left\")).alias(\"delta\")\n",
    "    )\n",
    "    \n",
    "    # Only keep rows where the delta is positive (right transaction happens after left)\n",
    "    join_expr = join_expr.filter(pl.col(\"delta\") > 0)\n",
    "    \n",
    "    # Use streaming mode (if supported) to keep the memory footprint low.\n",
    "    # The lazy query will process data in batches.\n",
    "    join_df = join_expr.collect(streaming=True)\n",
    "    \n",
    "    # Write out the result for the current transaction_date, partitioning the results\n",
    "    # by the transaction_date\n",
    "    \n",
    "    join_df = join_df.with_columns(\n",
    "        pl.lit(transaction_date).alias(\"staging_date\"))  # Add the staging date as a column\n",
    "    \n",
    "    join_df.write_parquet(\n",
    "        joins_location,\n",
    "        partition_by=[\"staging_date\"],  # Partition by the staging column\n",
    "    ) \n",
    "\n",
    "    total_rows_joined_dataset += join_df.height\n",
    "    print(f\"Processed transaction_date {transaction_date} with {join_df.height} joined rows.\")\n",
    "\n",
    "print(f'Total rows of the joined data frame: {total_rows_joined_dataset}')"
   ]
  },
  {
   "cell_type": "markdown",
   "metadata": {},
   "source": [
    "Note that, depending on the amount of RAM of your computer, you will not be able to read the whole data frame (there are more than 50M rows and 13 * 2 + 1 columns, with $\\Delta w = 2$)! For that reason, below we only read one parquet file as an example."
   ]
  },
  {
   "cell_type": "code",
   "execution_count": 19,
   "metadata": {},
   "outputs": [
    {
     "data": {
      "text/html": [
       "<div><style>\n",
       ".dataframe > thead > tr,\n",
       ".dataframe > tbody > tr {\n",
       "  text-align: right;\n",
       "  white-space: pre-wrap;\n",
       "}\n",
       "</style>\n",
       "<small>shape: (5, 28)</small><table border=\"1\" class=\"dataframe\"><thead><tr><th>Transaction_id_left</th><th>From Bank_left</th><th>Source Account_left</th><th>To Bank_left</th><th>Destination Account_left</th><th>Amount Received_left</th><th>Receiving Currency_left</th><th>Amount Paid_left</th><th>Payment Currency_left</th><th>Payment Format_left</th><th>Is Laundering_left</th><th>Date_left</th><th>Seconds_since_1970_left</th><th>Transaction_id</th><th>From Bank</th><th>Source Account</th><th>To Bank</th><th>Destination Account</th><th>Amount Received</th><th>Receiving Currency</th><th>Amount Paid</th><th>Payment Currency</th><th>Payment Format</th><th>Is Laundering</th><th>Date</th><th>Seconds_since_1970</th><th>delta</th><th>staging_date</th></tr><tr><td>u32</td><td>i64</td><td>str</td><td>i64</td><td>str</td><td>f64</td><td>str</td><td>f64</td><td>str</td><td>str</td><td>i64</td><td>date</td><td>i64</td><td>u32</td><td>i64</td><td>str</td><td>i64</td><td>str</td><td>f64</td><td>str</td><td>f64</td><td>str</td><td>str</td><td>i64</td><td>date</td><td>i64</td><td>i64</td><td>str</td></tr></thead><tbody><tr><td>280626</td><td>12</td><td>&quot;8000F5030&quot;</td><td>12</td><td>&quot;8000F5030&quot;</td><td>616552.72</td><td>&quot;Brazil Real&quot;</td><td>109192.02</td><td>&quot;US Dollar&quot;</td><td>&quot;ACH&quot;</td><td>0</td><td>2022-09-01</td><td>1661990400</td><td>4</td><td>12</td><td>&quot;8000F5030&quot;</td><td>12</td><td>&quot;8000F5030&quot;</td><td>2806.97</td><td>&quot;US Dollar&quot;</td><td>2806.97</td><td>&quot;US Dollar&quot;</td><td>&quot;Reinvestment&quot;</td><td>0</td><td>2022-09-01</td><td>1661990520</td><td>120</td><td>&quot;2022-09-01&quot;</td></tr><tr><td>30134</td><td>11107</td><td>&quot;803C662C0&quot;</td><td>1</td><td>&quot;8000F5AD0&quot;</td><td>0.62</td><td>&quot;US Dollar&quot;</td><td>0.62</td><td>&quot;US Dollar&quot;</td><td>&quot;Credit Card&quot;</td><td>0</td><td>2022-09-01</td><td>1661990460</td><td>6</td><td>1</td><td>&quot;8000F5AD0&quot;</td><td>1</td><td>&quot;8000F5AD0&quot;</td><td>6162.44</td><td>&quot;US Dollar&quot;</td><td>6162.44</td><td>&quot;US Dollar&quot;</td><td>&quot;Reinvestment&quot;</td><td>0</td><td>2022-09-01</td><td>1661990580</td><td>120</td><td>&quot;2022-09-01&quot;</td></tr><tr><td>94949</td><td>2952</td><td>&quot;80F7CE4C0&quot;</td><td>1</td><td>&quot;8000EC1E0&quot;</td><td>128.9</td><td>&quot;US Dollar&quot;</td><td>128.9</td><td>&quot;US Dollar&quot;</td><td>&quot;Credit Card&quot;</td><td>0</td><td>2022-09-01</td><td>1661991060</td><td>8</td><td>1</td><td>&quot;8000EC1E0&quot;</td><td>1</td><td>&quot;8000EC1E0&quot;</td><td>11.86</td><td>&quot;US Dollar&quot;</td><td>11.86</td><td>&quot;US Dollar&quot;</td><td>&quot;Reinvestment&quot;</td><td>0</td><td>2022-09-01</td><td>1661991360</td><td>300</td><td>&quot;2022-09-01&quot;</td></tr><tr><td>97149</td><td>1244</td><td>&quot;80FFE9B00&quot;</td><td>1</td><td>&quot;80012FE50&quot;</td><td>26.31</td><td>&quot;US Dollar&quot;</td><td>26.31</td><td>&quot;US Dollar&quot;</td><td>&quot;Credit Card&quot;</td><td>0</td><td>2022-09-01</td><td>1661990700</td><td>16</td><td>1</td><td>&quot;80012FE50&quot;</td><td>1</td><td>&quot;80012FE50&quot;</td><td>3.9442e6</td><td>&quot;US Dollar&quot;</td><td>3.9442e6</td><td>&quot;US Dollar&quot;</td><td>&quot;Reinvestment&quot;</td><td>0</td><td>2022-09-01</td><td>1661990940</td><td>240</td><td>&quot;2022-09-01&quot;</td></tr><tr><td>24</td><td>1665</td><td>&quot;8005E18F0&quot;</td><td>1665</td><td>&quot;8005E18F0&quot;</td><td>9.89</td><td>&quot;US Dollar&quot;</td><td>9.89</td><td>&quot;US Dollar&quot;</td><td>&quot;Reinvestment&quot;</td><td>0</td><td>2022-09-01</td><td>1661990520</td><td>19</td><td>1665</td><td>&quot;8005E18F0&quot;</td><td>1665</td><td>&quot;8005E18F0&quot;</td><td>157.57</td><td>&quot;US Dollar&quot;</td><td>157.57</td><td>&quot;US Dollar&quot;</td><td>&quot;Reinvestment&quot;</td><td>0</td><td>2022-09-01</td><td>1661992080</td><td>1560</td><td>&quot;2022-09-01&quot;</td></tr></tbody></table></div>"
      ],
      "text/plain": [
       "shape: (5, 28)\n",
       "┌────────────┬────────────┬────────────┬───────────┬───┬───────────┬───────────┬───────┬───────────┐\n",
       "│ Transactio ┆ From       ┆ Source Acc ┆ To        ┆ … ┆ Date      ┆ Seconds_s ┆ delta ┆ staging_d │\n",
       "│ n_id_left  ┆ Bank_left  ┆ ount_left  ┆ Bank_left ┆   ┆ ---       ┆ ince_1970 ┆ ---   ┆ ate       │\n",
       "│ ---        ┆ ---        ┆ ---        ┆ ---       ┆   ┆ date      ┆ ---       ┆ i64   ┆ ---       │\n",
       "│ u32        ┆ i64        ┆ str        ┆ i64       ┆   ┆           ┆ i64       ┆       ┆ str       │\n",
       "╞════════════╪════════════╪════════════╪═══════════╪═══╪═══════════╪═══════════╪═══════╪═══════════╡\n",
       "│ 280626     ┆ 12         ┆ 8000F5030  ┆ 12        ┆ … ┆ 2022-09-0 ┆ 166199052 ┆ 120   ┆ 2022-09-0 │\n",
       "│            ┆            ┆            ┆           ┆   ┆ 1         ┆ 0         ┆       ┆ 1         │\n",
       "│ 30134      ┆ 11107      ┆ 803C662C0  ┆ 1         ┆ … ┆ 2022-09-0 ┆ 166199058 ┆ 120   ┆ 2022-09-0 │\n",
       "│            ┆            ┆            ┆           ┆   ┆ 1         ┆ 0         ┆       ┆ 1         │\n",
       "│ 94949      ┆ 2952       ┆ 80F7CE4C0  ┆ 1         ┆ … ┆ 2022-09-0 ┆ 166199136 ┆ 300   ┆ 2022-09-0 │\n",
       "│            ┆            ┆            ┆           ┆   ┆ 1         ┆ 0         ┆       ┆ 1         │\n",
       "│ 97149      ┆ 1244       ┆ 80FFE9B00  ┆ 1         ┆ … ┆ 2022-09-0 ┆ 166199094 ┆ 240   ┆ 2022-09-0 │\n",
       "│            ┆            ┆            ┆           ┆   ┆ 1         ┆ 0         ┆       ┆ 1         │\n",
       "│ 24         ┆ 1665       ┆ 8005E18F0  ┆ 1665      ┆ … ┆ 2022-09-0 ┆ 166199208 ┆ 1560  ┆ 2022-09-0 │\n",
       "│            ┆            ┆            ┆           ┆   ┆ 1         ┆ 0         ┆       ┆ 1         │\n",
       "└────────────┴────────────┴────────────┴───────────┴───┴───────────┴───────────┴───────┴───────────┘"
      ]
     },
     "execution_count": 19,
     "metadata": {},
     "output_type": "execute_result"
    }
   ],
   "source": [
    "# Read the final results\n",
    "df_joins_2022_09_01 = pl.read_parquet(os.path.join(joins_location, \"staging_date=2022-09-01/00000000.parquet\"))\n",
    "\n",
    "df_joins_2022_09_01.head()"
   ]
  },
  {
   "cell_type": "markdown",
   "metadata": {},
   "source": [
    "Note that we should convert all of the amounts to a common currency, such as US dollars, so that the amount paid matches the amount received. This will simplify and make the computations below consistent."
   ]
  },
  {
   "cell_type": "markdown",
   "metadata": {},
   "source": [
    "## 1.3. Creating the nodes and edges\n",
    "\n",
    "Now we have made all of the inner joins sequentially, as described by the algorithm. The next step is to construct the graph itself, following the **definition 1** in the paper. The idea below is to construct the `igraph` graph incrementally by adding vertices/edges per partition."
   ]
  },
  {
   "cell_type": "markdown",
   "metadata": {},
   "source": [
    "### Node construction\n",
    "\n",
    "**Each node will be a unique transaction**. We will process the nodes incrementally by using the partitioned data so that, again, the memory is not overloaded."
   ]
  },
  {
   "cell_type": "code",
   "execution_count": 4,
   "metadata": {},
   "outputs": [],
   "source": [
    "# Get list of all the join partitions created above\n",
    "join_partitions = [\n",
    "    os.path.join(joins_location, p) \n",
    "    for p in os.listdir(joins_location) \n",
    "    if p.startswith(\"staging_date=\")\n",
    "]\n",
    "\n",
    "# Initialize graph\n",
    "g = ig.Graph(directed=True)\n",
    "\n",
    "# Initialize set to store unique nodes\n",
    "existing_nodes = set()\n",
    "\n",
    "node_id_to_index = {}  # Maps transaction IDs to vertex indices\n",
    "current_vertex_count = 0  # Current number of vertices in the graph\n",
    "\n",
    "# Process each partition incrementally\n",
    "for join_partition in join_partitions:\n",
    "\n",
    "    # Read join data for this partition\n",
    "    df_join = pl.scan_parquet(os.path.join(join_partition, \"*.parquet\")).collect()\n",
    "    \n",
    "    # Process nodes (left side)\n",
    "    nodes_left = df_join.select([\n",
    "        pl.col(\"Transaction_id_left\").alias(\"id\"),\n",
    "        pl.col(\"Source Account_left\").alias(\"source\"),\n",
    "        pl.col(\"Destination Account_left\").alias(\"target\"),\n",
    "        pl.col(\"Seconds_since_1970_left\").alias(\"transaction_timestamp\"),\n",
    "        pl.col(\"Amount Paid_left\").alias(\"amount\"),\n",
    "        pl.col(\"Date_left\").alias(\"transaction_date\"),\n",
    "        pl.col(\"Is Laundering_left\").alias(\"is_laundering\")\n",
    "    ]).unique(subset = \"id\")  # Select only those with unique IDs\n",
    "\n",
    "    # Process nodes (right side)\n",
    "    nodes_right = df_join.select([\n",
    "        pl.col(\"Transaction_id\").alias(\"id\"),\n",
    "        pl.col(\"Source Account\").alias(\"source\"),\n",
    "        pl.col(\"Destination Account\").alias(\"target\"),\n",
    "        pl.col(\"Seconds_since_1970\").alias(\"transaction_timestamp\"),\n",
    "        pl.col(\"Amount Paid\").alias(\"amount\"),\n",
    "        pl.col(\"Date\").alias(\"transaction_date\"),\n",
    "        pl.col(\"Is Laundering\").alias(\"is_laundering\")\n",
    "    ]).unique(subset = \"id\")  # Select only those with unique IDs\n",
    "    \n",
    "    # Combine left and right nodes and drop the duplicates\n",
    "    nodes_partition = pl.concat([nodes_left, nodes_right]).unique(subset = \"id\")\n",
    "    \n",
    "    # Filter nodes not already in graph\n",
    "    new_nodes = nodes_partition.filter(\n",
    "        ~pl.col(\"id\").is_in(list(existing_nodes)))\n",
    "\n",
    "    new_ids = new_nodes[\"id\"].to_list()\n",
    "\n",
    "    # Add to graph incrementally and update tracking\n",
    "    if new_nodes.height > 0:\n",
    "\n",
    "        # Add vertices and update set of existing nodes\n",
    "        g.add_vertices(new_ids)\n",
    "        existing_nodes.update(new_ids)\n",
    "\n",
    "        # Update mapping from transaction ID to vertex index\n",
    "        for idx, node_id in enumerate(new_ids, start=current_vertex_count):\n",
    "            node_id_to_index[node_id] = idx\n",
    "\n",
    "        current_vertex_count += len(new_ids)\n",
    "        \n",
    "    # Write nodes partition\n",
    "    nodes_partition.write_parquet(\n",
    "        nodes_location,\n",
    "        partition_by=\"transaction_date\")"
   ]
  },
  {
   "cell_type": "markdown",
   "metadata": {},
   "source": [
    "### Edge construction\n",
    "\n",
    "Again, we will construct the edges incrementally, following a similar procedure to the nodes creation."
   ]
  },
  {
   "cell_type": "code",
   "execution_count": 5,
   "metadata": {},
   "outputs": [],
   "source": [
    "# Process edges incrementally after all nodes are added\n",
    "for join_partition in join_partitions:\n",
    "\n",
    "    # Read join data for this partition\n",
    "    df_join = pl.scan_parquet(os.path.join(join_partition, \"*.parquet\")).collect()\n",
    "    \n",
    "    # Create edges\n",
    "    edges_partition = df_join.select([\n",
    "        pl.col(\"Transaction_id_left\").alias(\"src\"),  # Use the left transaction ID as the source\n",
    "        pl.col(\"Transaction_id\").alias(\"dst\"),  # Use the right transaction ID as the destination\n",
    "        pl.col(\"Date_left\").alias(\"src_date\"),\n",
    "        pl.col(\"Date\").alias(\"dst_date\")\n",
    "    ]).filter(  \n",
    "        (pl.col(\"src\").is_in(existing_nodes)) &  # Ensure edges only reference existing nodes\n",
    "        (pl.col(\"dst\").is_in(existing_nodes))\n",
    "    )\n",
    "    \n",
    "    # Convert transaction IDs to vertex indices\n",
    "    edges_partition = edges_partition.with_columns(\n",
    "        pl.col(\"src\").replace(node_id_to_index).alias(\"src_index\"),\n",
    "        pl.col(\"dst\").replace(node_id_to_index).alias(\"dst_index\")\n",
    "    ).filter(\n",
    "        (pl.col(\"src_index\").is_not_null()) &\n",
    "        (pl.col(\"dst_index\").is_not_null())\n",
    "    )\n",
    "\n",
    "    # Add validated edges using indices\n",
    "    if edges_partition.height > 0:\n",
    "        g.add_edges(zip(\n",
    "            edges_partition[\"src_index\"].to_list(),\n",
    "            edges_partition[\"dst_index\"].to_list()\n",
    "        ))\n",
    "\n",
    "    # Write validated edges partition\n",
    "    edges_partition.write_parquet(\n",
    "        edges_location,\n",
    "        partition_by=[\"src_date\", \"dst_date\"]\n",
    "    )"
   ]
  },
  {
   "cell_type": "markdown",
   "metadata": {},
   "source": [
    "### Sanity checks\n",
    "\n",
    "Below, we perform some sanity checks in order to verify that there are no unexpected inconsistencies in the graph."
   ]
  },
  {
   "cell_type": "code",
   "execution_count": 42,
   "metadata": {},
   "outputs": [
    {
     "name": "stdout",
     "output_type": "stream",
     "text": [
      "IGRAPH DN-- 4228813 53844686 -- \n",
      "+ attr: name (v)\n"
     ]
    }
   ],
   "source": [
    "print(g.summary())"
   ]
  },
  {
   "cell_type": "code",
   "execution_count": 43,
   "metadata": {},
   "outputs": [
    {
     "name": "stdout",
     "output_type": "stream",
     "text": [
      "Number of nodes: 4228813\n",
      "Number of edges: 53844686\n"
     ]
    }
   ],
   "source": [
    "print(f'Number of nodes: {g.vcount()}')\n",
    "print(f'Number of edges: {g.ecount()}')"
   ]
  },
  {
   "cell_type": "code",
   "execution_count": 48,
   "metadata": {},
   "outputs": [
    {
     "name": "stdout",
     "output_type": "stream",
     "text": [
      "All sanity checks passed!\n"
     ]
    }
   ],
   "source": [
    "# Check 1: All vertices have unique names (transaction IDs)\n",
    "node_names = g.vs[\"name\"]\n",
    "unique_names = set(node_names)\n",
    "assert len(node_names) == len(unique_names), \\\n",
    "    f\"Duplicate node names: {len(node_names) - len(unique_names)} duplicates found\"\n",
    "\n",
    "# Check 2: All edges reference valid vertices\n",
    "max_vertex = g.vcount() - 1\n",
    "invalid_edges = [\n",
    "    e.index for e in g.es \n",
    "    if e.source > max_vertex or e.target > max_vertex\n",
    "]\n",
    "assert not invalid_edges, \\\n",
    "    f\"Invalid edges found: {len(invalid_edges)} edges reference non-existent vertices\"\n",
    "\n",
    "# Check 3: No self-edges (transactions shouldn't loop to themselves)\n",
    "self_edges = g.is_loop()\n",
    "assert not any(self_edges), \\\n",
    "    f\"Self-edges found: {sum(self_edges)} transactions point to themselves\"\n",
    "\n",
    "print(\"All sanity checks passed!\")"
   ]
  },
  {
   "cell_type": "markdown",
   "metadata": {},
   "source": [
    "As an example, below we print the first 10 edges of the graph:"
   ]
  },
  {
   "cell_type": "code",
   "execution_count": null,
   "metadata": {},
   "outputs": [
    {
     "name": "stdout",
     "output_type": "stream",
     "text": [
      "[(1157828, 595084), (549927, 34656), (114350, 1205235), (56230, 609895), (55840, 690489), (949113, 64394), (1088117, 64394), (1212891, 676681), (87165, 138277), (1263286, 138277)]\n"
     ]
    }
   ],
   "source": [
    "print([edge.tuple for edge in g.es[:10]])"
   ]
  },
  {
   "cell_type": "markdown",
   "metadata": {},
   "source": [
    "### Graph visualization\n",
    "\n",
    "Since the graph is immense, below we only plot a subset of the transactions (the code below is wrong, as the nodes it prints will probably not be connected - which is why the resulting graph does not have edges)."
   ]
  },
  {
   "cell_type": "code",
   "execution_count": null,
   "metadata": {},
   "outputs": [
    {
     "data": {
      "image/png": "[encoded data removed]",
      "text/plain": [
       "<Figure size 640x480 with 1 Axes>"
      ]
     },
     "metadata": {},
     "output_type": "display_data"
    }
   ],
   "source": [
    "# Select nodes\n",
    "selected_node_ids = list(range(1, 50))  # Select the first 50 nodes\n",
    "\n",
    "# Create the subgraph\n",
    "subgraph = g.subgraph(selected_node_ids)\n",
    "\n",
    "# Create a default color for all nodes with transparency with RGBA (e.g., light gray with alpha=0.2)\n",
    "colors = [(0.5, 0.5, 0.5, 0.1)] * subgraph.vcount()\n",
    "\n",
    "# degrees = subgraph.degree()  # Compute degrees of nodes\n",
    "\n",
    "# # Normalize node sizes (optional: adjust scale factor)\n",
    "# min_size, max_size = 20, 60  # Adjust as needed\n",
    "# vertex_sizes = [min_size + (max_size - min_size) * (deg / max(degrees)) for deg in degrees]\n",
    "\n",
    "layout = subgraph.layout(\"fr\")  # Fruchterman-Reingold layout\n",
    "\n",
    "# Scale the layout to spread out the nodes\n",
    "layout.scale(5)  # Adjust the scaling factor\n",
    "\n",
    "# Plot the graph with the specified vertex colors\n",
    "fig, ax = plt.subplots()\n",
    "ig.plot(\n",
    "    subgraph,\n",
    "    layout=layout,\n",
    "    vertex_size=30,\n",
    "    vertex_label=subgraph.vs[\"name\"],\n",
    "    edge_width=0.5,\n",
    "    bbox=(800, 600),\n",
    "    target=ax,\n",
    ")\n",
    "plt.tight_layout()\n",
    "plt.savefig(\"figures/fastman_initial_graph.png\", dpi = 300)\n",
    "plt.show()"
   ]
  },
  {
   "cell_type": "markdown",
   "metadata": {},
   "source": [
    "# 2. 2nd Order Graph Creation\n",
    "\n",
    "In this section, we derive  the 2nd order graph of sequential transactions in order to impute the edge weights to the graph in the previous section."
   ]
  },
  {
   "cell_type": "markdown",
   "metadata": {},
   "source": [
    "# 3. Weight calculation through the 2nd order graph\n",
    "\n",
    "(and applying the weights to the graph in the end of section 2.)"
   ]
  },
  {
   "cell_type": "markdown",
   "metadata": {},
   "source": [
    "# 4. Community detection"
   ]
  },
  {
   "cell_type": "markdown",
   "metadata": {},
   "source": [
    "# 5. Anomalous comunity detection"
   ]
  }
 ],
 "metadata": {
  "kernelspec": {
   "display_name": "networks2",
   "language": "python",
   "name": "python3"
  },
  "language_info": {
   "codemirror_mode": {
    "name": "ipython",
    "version": 3
   },
   "file_extension": ".py",
   "mimetype": "text/x-python",
   "name": "python",
   "nbconvert_exporter": "python",
   "pygments_lexer": "ipython3",
   "version": "3.13.2"
  }
 },
 "nbformat": 4,
 "nbformat_minor": 2
}
